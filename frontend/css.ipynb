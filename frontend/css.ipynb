{
 "cells": [
  {
   "cell_type": "markdown",
   "id": "099144c4-6d0c-4614-a74e-177bf639bbba",
   "metadata": {},
   "source": [
    "<h1 style=\"color: #002147; font-family: 'Garamond', serif; font-weight: 600; text-align: center;\">CSS (Cascading Style Sheets)</h1>"
   ]
  },
  {
   "cell_type": "markdown",
   "id": "e61bc920-7d29-483f-9a65-9a8ca7a5742d",
   "metadata": {},
   "source": [
    "\n",
    "<h5 style=\"color:#012c5e; font-family: 'Nunito'; font-weight: 900;background-color:#f8f8f8; padding: 10px; border-radius: 8px; text-align: center;\">Flexbox</h5>\n",
    "\n",
    "\n",
    "| Propiedad          | Función                                                                 | Sintaxis Corta                    |\n",
    "|--------------------|------------------------------------------------------------------------|-----------------------------------|\n",
    "| `display: flex`    | Convierte un contenedor en un contenedor flexible.                     | `.flex-container { display: flex; }` |\n",
    "| `justify-content`  | Alinea los elementos a lo largo del eje principal.                     | `.flex-container { justify-content: center; }` |\n",
    "| `align-items`      | Alinea los elementos a lo largo del eje transversal.                   | `.flex-container { align-items: center; }` |\n",
    "| `align-self`       | Alinea un elemento individual en el eje transversal.                   | `.box3 { align-self: center; }` |\n",
    "| `flex-wrap`        | Define si los elementos se ajustan a nuevas líneas.                    | `.flex-container { flex-wrap: wrap; }` |\n",
    "| `flex-direction`   | Define la dirección del eje principal.                                 | `.flex-container { flex-direction: column; }` |\n",
    "| `gap`             | Define el espacio entre los elementos flexibles.                        | `.flex-container { gap: 10px; }` |\n",
    "| `align-content`    | Controla el espacio entre líneas flexibles.                            | `.flex-container { align-content: space-between; }` |\n",
    "| `flex-grow`       | Permite que un elemento crezca dentro del contenedor flexible.         | `.flex-item { flex-grow: 1; }` |\n",
    "| `flex-shrink`     | Permite que un elemento reduzca su tamaño dentro del contenedor.       | `.flex-item { flex-shrink: 1; }` |\n",
    "| `flex`            | Notación abreviada para `grow shrink basis`.                            | `.box3 { flex: 1 1 auto; }` |\n",
    "\n"
   ]
  },
  {
   "cell_type": "markdown",
   "id": "004d7b7d-9c0f-4d73-a972-e8aa0ea094ab",
   "metadata": {},
   "source": [
    "\n",
    "<h5 style=\"color:#012c5e; font-family: 'Nunito'; font-weight: 900;background-color:#f8f8f8; padding: 10px; border-radius: 8px; text-align: center;\">Grid</h5>\n",
    "\n",
    "---\n",
    "\n",
    "**Modelo de Cuadrícula (grid)**\n",
    "\n",
    "| Propiedad               | Función                                                | Sintaxis Corta                               |\n",
    "|-------------------------|--------------------------------------------------------|----------------------------------------------|\n",
    "| grid-auto-rows         | Define altura automática de las filas                  | `grid-auto-rows: auto;`                     |\n",
    "| grid-auto-columns      | Define ancho automático de las columnas                | `grid-auto-columns: auto;`                  |\n",
    "\n",
    "---\n",
    "\n",
    "**Alineación individual de elementos**\n",
    "\n",
    "| Propiedad     | Función                              | Sintaxis Corta              |\n",
    "|--------------|--------------------------------------|-----------------------------|\n",
    "| justify-self | Alinea horizontalmente un elemento  | `justify-self: start;`      |\n",
    "| align-self   | Alinea verticalmente un elemento    | `align-self: center;`       |\n",
    "| place-items  | Alinea en ambos ejes                | `place-items: center;`      |\n",
    "\n",
    "\n",
    "---\n",
    "\n",
    "**Función `repeat()`**\n",
    "\n",
    "| Propiedad                  | Función                                              | Sintaxis Corta                               |\n",
    "|----------------------------|------------------------------------------------------|----------------------------------------------|\n",
    "| grid-template-columns      | Repite columnas con el mismo tamaño                 | `grid-template-columns: repeat(3, 1fr);`    |\n",
    "| grid-template-rows         | Repite filas con el mismo tamaño                    | `grid-template-rows: repeat(2, 50px);`      |\n",
    "\n",
    "---\n",
    "\n",
    "**Función `minmax()`**\n",
    "| Propiedad                  | Función                                              | Sintaxis Corta                                         |\n",
    "|----------------------------|------------------------------------------------------|--------------------------------------------------------|\n",
    "| grid-template-columns      | Define un tamaño mínimo y máximo para columnas      | `grid-template-columns: minmax(100px, 300px), 1fr;`   |\n",
    "| grid-template-rows         | Define un tamaño mínimo y máximo para filas         | `grid-template-rows: minmax(50px, 200px), auto;`      |\n"
   ]
  },
  {
   "cell_type": "markdown",
   "id": "c8013b46-72d9-4a49-aeb1-838662c4b351",
   "metadata": {},
   "source": [
    "<h5 style=\"color:#012c5e; font-family: 'Nunito'; font-weight: 900;background-color:#f8f8f8; padding: 10px; border-radius: 8px; text-align: center;\">Selectores simples</h5>\n",
    "\n",
    "\n",
    "| Selector  | Sintaxis | Ejemplo |\n",
    "|-----------|---------|---------|\n",
    "| Elemento  | `elemento` | `div {}` |\n",
    "| Class  | `.class` | `.alpha {}` |\n",
    "| ID  | `#id` | `#alpha {}` |\n",
    "| Universal  | `*` | `* {}` |\n",
    "\n",
    "\n",
    "---\n",
    "\n",
    "<h5 style=\"color:#012c5e; font-family: 'Nunito'; font-weight: 900;background-color:#f8f8f8; padding: 10px; border-radius: 8px; text-align: center;\">Variaciones de los selectores simples</h5>\n",
    "\n",
    "\n",
    "| Elementos | Sintaxis | Ejemplo | Descripción |\n",
    "|-----------|---------|---------|-------------|\n",
    "| Dos clases | `.first-class.second-class` | `.alpha.beta {}` | Todos los elementos con clases alpha y beta |\n",
    "| Elemento y clase | `element.class` | `p.alpha {}` | Todos los elementos de clase alpha dentro de `<p>` |\n",
    "| Dos elementos | `element, element` | `p, div {}` | Todos los elementos `<p>` y `<div>` |\n",
    "| Dos elementos | `element element` | `p div {}` | Todos los elementos `<div>` dentro de `<p>` |\n",
    "\n",
    "---\n",
    "\n",
    "\n",
    "<h5 style=\"color:#012c5e; font-family: 'Nunito'; font-weight: 900;background-color:#f8f8f8; padding: 10px; border-radius: 8px; text-align: center;\">Selectores/combinadores descendientes</h5>\n",
    "\n",
    "\n",
    "| Selector | Sintaxis | Ejemplo | Descripción |\n",
    "|----------|---------|---------|-------------|\n",
    "| Descendiente | `element element` | `div p {}` | Todos los descendientes `<p>` de `<div>` |\n",
    "| Hijo | `element > element` | `div > p {}` | Todos los `<p>` descendientes directos de `<div>` |\n",
    "| Hermano adyacente | `element + element` | `div + p {}` | `<p>` elemento directamente después de `<div>` |\n",
    "| Hermano general | `element ~ element` | `div ~ p {}` | Todas las iteraciones de elementos `<p>` después de `<div>` |\n",
    "\n",
    "---\n",
    "\n",
    "<h5 style=\"color:#012c5e; font-family: 'Nunito'; font-weight: 900;background-color:#f8f8f8; padding: 10px; border-radius: 8px; text-align: center;\">Selectores de atributos</h5>\n",
    "\n",
    "\n",
    "\n",
    "\n",
    "| Selector | Sintaxis | Ejemplo |\n",
    "|----------|---------|---------|\n",
    "| `[attribute]` | `[href]` | `href {}` |\n",
    "| `[attribute=value]` | `[lang=\"fr\"]` | `lang {}` |\n",
    "| `[attribute~=value]` | `[input~=hello]` | `input {}` |\n",
    "| `[attribute|=value]` | `[lang|=en]` | `lang {}` |\n",
    "| `[attribute^=value]` | `a[href^=\"https\"]` | `a {}` |\n",
    "| `[attribute$=value]` | `a[href$=\".docx\"]` | `a {}` |\n",
    "| `[attribute*=value]` | `a[href*=\"meta\"]` | `a {}` |\n",
    "\n",
    "\n",
    "---\n",
    "\n",
    "<h5 style=\"color:#012c5e; font-family: 'Nunito'; font-weight: 900;background-color:#f8f8f8; padding: 10px; border-radius: 8px; text-align: center;\">Pseudoclases</h5>\n",
    "\n",
    "\n",
    "| Ejemplo | Descripción de la selección |\n",
    "|---------|----------------------------|\n",
    "| `:active` | Todos los enlaces activos |\n",
    "| `:checked` | Todos los elementos `<input>` marcados |\n",
    "| `:default` | Todos los elementos `<input>` predeterminados |\n",
    "| `:disabled` | Todos los elementos `<input>` deshabilitados |\n",
    "| `:empty` | Todos los elementos `<div>` sin hijos |\n",
    "| `:enabled` | Todos los elementos `<input>` habilitados |\n",
    "| `:first-child` | Todos los elementos `<p>` que son el primer hijo de un elemento padre |\n",
    "| `:first-of-type` | Todos los `<p>` que son el primer `<p>` de un elemento padre |\n",
    "| `:focus` | Elemento de entrada enfocado |\n",
    "| `:fullscreen` | El elemento en modo de pantalla completa |\n",
    "| `:hover` | Efecto de acción al pasar el ratón por encima |\n",
    "| `:invalid` | Elementos de entrada con un valor no válido |\n",
    "| `:last-child` | Todos los elementos `<p>` que son el último hijo de un elemento primario |\n",
    "| `:last-of-type` | Todos los `<p>` que son el último `<p>` de un elemento padre |\n",
    "| `:link` | Todos los enlaces no visitados |\n",
    "| `:not(selector)` | Todos los elementos que no son `<div>` |\n",
    "| `:nth-child(n)` | Todos los `<p>` que son el tercer elemento hijo de un padre |\n",
    "| `:nth-last-child(n)` | Todos los `<div>` que son el tercer hijo contando desde el último |\n",
    "| `:nth-last-of-type(n)` | El segundo hermano a partir del último hijo de un padre |\n",
    "| `:nth-of-type(n)` | Segundo hermano de un elemento primario |\n",
    "| `:only-of-type` | Todos los `<p>` que solo son `<p>` dentro de su elemento primario |\n",
    "| `:only-child` | Todos los `<p>` que son el único hijo de un elemento padre |\n",
    "| `:optional` | Los elementos de entrada sin atributo \"required\" |\n",
    "| `:required` | Elementos de entrada con atributo \"required\" |\n",
    "| `:root` | Elemento raíz del documento |\n",
    "| `::selection` | Parte de un elemento seleccionada por el usuario |\n",
    "| `:valid` | Todos los elementos de entrada con un valor válido |\n",
    "| `:visited` | Selecciona todos los enlaces visitados |\n",
    "\n",
    "\n",
    "\n",
    "<h5 style=\"color:#012c5e; font-family: 'Nunito'; font-weight: 900;background-color:#f8f8f8; padding: 10px; border-radius: 8px; text-align: center;\">Selectores de pseudoelementos</h5>\n",
    "\n",
    "\n",
    "| Sintaxis | Ejemplo | Descripción |\n",
    "|----------|---------|-------------|\n",
    "| `::after` | `p::after {}` | Inserta contenido después del contenido del `<p>` |\n",
    "| `::before` | `p::before {}` | Inserta el contenido antes del contenido del `<p>` |\n",
    "| `::first-letter` | `p::first-letter {}` | Selecciona la primera letra de cada `<p>` |\n",
    "| `::first-line` | `p::first-line {}` | Selecciona la primera línea de cada `<p>` |\n",
    "| `::placeholder` | `input::placeholder {}` | Selecciona los elementos de entrada con el atributo \"placeholder\" |\n",
    "| `::marker` | `::marker {}` | Selecciona marcadores en una lista |\n",
    "\n"
   ]
  },
  {
   "cell_type": "markdown",
   "id": "29f48711-d020-4546-8236-6e9f09e2e168",
   "metadata": {},
   "source": [
    "\n",
    "<h5 style=\"color:#012c5e; font-family: 'Nunito'; font-weight: 900;background-color:#f8f8f8; padding: 10px; border-radius: 8px; text-align: center;\">Tipos de selectores</h5>\n",
    "\n",
    "| **Selector** | **Uso** | **Ejemplo** |\n",
    "|-------------|--------|-------------|\n",
    "| `elemento` | Selecciona todos los elementos de un tipo | `p { color: blue; }` |\n",
    "| `#id` | Selecciona un elemento único por su `id` | `#titulo { font-size: 24px; }` |\n",
    "| `.clase` | Selecciona todos los elementos con la clase especificada | `.destacado { font-weight: bold; }` |\n",
    "| `[atributo]` | Selecciona elementos con un atributo específico | `[href] { color: red; }` |\n",
    "| `[atributo=\"valor\"]` | Selecciona elementos con un valor exacto en el atributo | `[class=\"casa\"] { background-color: green; }` |\n",
    "| `[atributo*=\"valor\"]` | Selecciona elementos cuyo atributo contiene un valor | `[href*=\"meta\"] { color: green; }` |\n",
    "| `nth-of-type(n)` | Selecciona el enésimo elemento de un tipo | `li:nth-of-type(2) { color: aquamarine; }` |\n",
    "| `nth-child(n)` | Selecciona el enésimo hijo sin importar el tipo | `li:nth-child(2) { color: aquamarine; }` |\n",
    "| `*` | Selecciona todos los elementos | `* { margin: 0; padding: 0; }` |\n",
    "| `elemento1, elemento2` | Agrupa elementos para aplicar el mismo estilo | `h1, p { text-align: center; }` |"
   ]
  },
  {
   "cell_type": "markdown",
   "id": "91ce9062-e6a8-4566-9c62-2a06cc7ce066",
   "metadata": {},
   "source": [
    "\n",
    "<h5 style=\"color:#012c5e; font-family: 'Nunito'; font-weight: 900;background-color:#f8f8f8; padding: 10px; border-radius: 8px; text-align: center;\">Selectores de Combinación</h5>\n",
    "\n",
    "| Selector                  | Símbolo | Función                                                              | Ejemplo de Sintaxis               | Descripción del Ejemplo                                      |\n",
    "|---------------------------|---------|----------------------------------------------------------------------|-----------------------------------|--------------------------------------------------------------|\n",
    "| Selector Descendiente     | ` `     | Selecciona todos los elementos dentro de otro                       | `#blog h1 { color: blue; }`      | Todos los `<h1>` dentro del elemento con `id=\"blog\"` serán azules. |\n",
    "| Selector Hijo            | `>`     | Selecciona solo los elementos que son hijos directos de otro        | `#blog > h1 { color: blue; }`    | Solo los `<h1>` que sean hijos directos de `#blog` serán azules. |\n",
    "| Selector General de Hermanos | `~`     | Selecciona todos los elementos hermanos posteriores del mismo tipo  | `h1 ~ p { color: blue; }`        | Todos los `<p>` que sean hermanos de un `<h1>` serán azules. |\n",
    "| Selector Hermano Adyacente | `+`     | Selecciona solo el primer elemento hermano adyacente                | `h1 + p { color: blue; }`        | Solo el primer `<p>` que siga a un `<h1>` será azul. |\n"
   ]
  },
  {
   "cell_type": "markdown",
   "id": "0725c546-bf63-4ef9-8e7a-392fd8ea80e3",
   "metadata": {},
   "source": [
    "<h2 style=\"color: #012c5e; font-family: 'Monserrat', serif; font-weight: 700; background-color: #f5f5f5; padding: 10px; border-radius: 8px;\">Flexbox</h2>\n"
   ]
  },
  {
   "cell_type": "markdown",
   "id": "08e62424-7a41-4aab-87c4-bd727df0b929",
   "metadata": {},
   "source": [
    "* *Función*:\n",
    "\n",
    "**El modelo flexbox permite distribuir elementos en una sola dimensión (horizontal o vertical).**\n",
    "\n",
    "    1) Se utiliza para crear diseños flexibles y adaptables en una sola dimensión.\n",
    "    2) Alinea los elementos de manera eficiente en filas o columnas.\n",
    "    3) Distribuir espacio entre elementos de manera uniforme."
   ]
  },
  {
   "cell_type": "markdown",
   "id": "f58610ad-4e3c-48d7-a518-cf951b70acbd",
   "metadata": {},
   "source": [
    "```html\n",
    "<div class=\"flex-container\">\n",
    "    <div class=\"box box1\"> One..</div>\n",
    "    <div class=\"box box2\"> Two..</div>\n",
    "    <div class=\"box box3\"> Three..</div>\n",
    "</div>\n"
   ]
  },
  {
   "cell_type": "markdown",
   "id": "23351c88-a96d-4665-9347-5a11ee5efb11",
   "metadata": {},
   "source": [
    "```css\n",
    ".flex-container {\n",
    "    display: flex;\n",
    "}\n"
   ]
  },
  {
   "cell_type": "markdown",
   "id": "12afa1a0-e06b-43a8-bc81-54e827331183",
   "metadata": {},
   "source": [
    "* *Ejemplo*:\n",
    "\n",
    "**Los elementos .box se alinearán automáticamente en una fila horizontal (por defecto).**\n",
    "\n",
    "    1) Los elementos One.., Two.., Three.. aparecerán alineados en una fila."
   ]
  },
  {
   "cell_type": "markdown",
   "id": "a7947e27-2832-4dbe-ace4-779b90e00115",
   "metadata": {},
   "source": [
    "\n",
    "<h3 style=\"color:#013e85; font-family: 'Monserrat'; font-weight: 600;text-align: center;background-color:#fafafa; padding: 10px; border-radius: 8px;\">Propiedades</h3>\n"
   ]
  },
  {
   "cell_type": "markdown",
   "id": "01a71eb5-261a-42ad-a858-60acf4537af4",
   "metadata": {},
   "source": [
    "---\n",
    "\n",
    "<h4 style=\"color:#021bd4; font-family: 'Nunito'; font-weight: 400;background-color:#f8f8f8; padding: 10px; border-radius: 8px;\">display: flex</h4>"
   ]
  },
  {
   "cell_type": "markdown",
   "id": "f23cb9d4-ddfa-4c0e-a139-3a99ac1b1918",
   "metadata": {},
   "source": [
    "* *Función*:\n",
    "\n",
    "**Convierte un contenedor normal en un contenedor flexible.**\n"
   ]
  },
  {
   "cell_type": "markdown",
   "id": "48d395f3-db85-4818-a8d4-40b06026856f",
   "metadata": {},
   "source": [
    "```css\n",
    ".flex-container {\n",
    "    display: flex;\n",
    "}\n",
    "\n"
   ]
  },
  {
   "cell_type": "markdown",
   "id": "46c2284b-f61c-4a76-8be7-810292b8f4bf",
   "metadata": {},
   "source": [
    "```html\n",
    "<div class=\"flex-container\">\n",
    "    <div class=\"box box1\">One..</div>\n",
    "    <div class=\"box box2\">Two..</div>\n",
    "</div>\n"
   ]
  },
  {
   "cell_type": "markdown",
   "id": "7cbed757-5d4f-4d7d-a286-9d6a783859c0",
   "metadata": {},
   "source": [
    "* *Ejemplo*:\n",
    "\n",
    "**Los elementos se alinean horizontalmente.**\n"
   ]
  },
  {
   "cell_type": "markdown",
   "id": "e58afb3e-370f-4f37-ad2a-aa5a5ca5d3a5",
   "metadata": {},
   "source": [
    "---\n",
    "<h4 style=\"color:#021bd4; font-family: 'Nunito'; font-weight: 400;background-color:#f8f8f8; padding: 10px; border-radius: 8px;\">justify-content</h4>\n",
    "\n",
    "\n",
    "\n",
    "* *Función*:\n",
    "\n",
    "**Alinea los elementos a lo largo del eje principal (horizontal o vertical según flex-direction).**  \n",
    "\n",
    "* *Valores predeterminados*: `flex-start`.  \n",
    "\n",
    "| Valor | Descripción |\n",
    "|-------|-------------|\n",
    "| `flex-start` | Alinea los elementos al inicio del eje principal. |\n",
    "| `flex-end` | Alinea los elementos al final del eje principal. |\n",
    "| `center` | Alinea los elementos en el centro del eje principal. |\n",
    "| `space-between` | Distribuye el espacio entre los elementos. |\n",
    "| `space-around` | Distribuye el espacio con margen alrededor de los elementos. |\n",
    "| `space-evenly` | Distribuye el espacio de manera uniforme entre los elementos. |\n",
    "\n",
    "```css\n",
    ".flex-container {\n",
    "    display: flex;\n",
    "    justify-content: center;\n",
    "}\n",
    "```\n"
   ]
  },
  {
   "cell_type": "markdown",
   "id": "d93dfc13-fb6d-45b6-ac8c-bae58c05cdb0",
   "metadata": {},
   "source": [
    "* *Ejemplo*:\n",
    "\n",
    "**Los elementos estarán centrados horizontalmente.**\n"
   ]
  },
  {
   "cell_type": "markdown",
   "id": "c17c872f-4347-4f20-aae3-b302f0898337",
   "metadata": {},
   "source": [
    "---\n",
    "<h4 style=\"color:#021bd4; font-family: 'Nunito'; font-weight: 400;background-color:#f8f8f8; padding: 10px; border-radius: 8px;\">align-items</h4>\n",
    "\n",
    "\n",
    "\n",
    "\n",
    "* *Función*:\n",
    "\n",
    "**Alinea los elementos a lo largo del eje transversal (perpendicular al eje principal).**  \n",
    "\n",
    "* *Valores predeterminados*: `stretch`.  \n",
    "\n",
    "| Valor | Descripción |\n",
    "|-------|-------------|\n",
    "| `flex-start` | Alinea los elementos al inicio del eje transversal. |\n",
    "| `flex-end` | Alinea los elementos al final del eje transversal. |\n",
    "| `center` | Alinea los elementos en el centro del eje transversal. |\n",
    "| `baseline` | Alinea los elementos según su línea base de texto. |\n",
    "| `stretch` | Estira los elementos para ocupar el contenedor. |\n",
    "\n",
    "```css\n",
    ".flex-container {\n",
    "    display: flex;\n",
    "    align-items: center;\n",
    "}\n",
    "```\n",
    "\n",
    "---"
   ]
  },
  {
   "cell_type": "markdown",
   "id": "a9d1bbb3-41fd-433c-99cf-0d42c77c67ad",
   "metadata": {},
   "source": [
    "* *Ejemplo*:\n",
    "\n",
    "**Los elementos estarán alineados al centro verticalmente.**\n"
   ]
  },
  {
   "cell_type": "markdown",
   "id": "1be3a38d-ddc6-4b29-9476-eef55e81c074",
   "metadata": {},
   "source": [
    "---\n",
    "<h4 style=\"color:#021bd4; font-family: 'Nunito'; font-weight: 400;background-color:#f8f8f8; padding: 10px; border-radius: 8px;\">align-self</h4>\n",
    "\n",
    "```css\n",
    ".flex-item {\n",
    "    align-self: center;\n",
    "}\n",
    "```\n",
    "\n",
    "* *Función*:\n",
    "\n",
    "**Permite alinear un elemento específico de forma independiente en el eje transversal.**  \n",
    "\n",
    "* *Valores predeterminados*: `auto` (hereda de `align-items`).  \n",
    "\n",
    "| Valor | Descripción |\n",
    "|-------|-------------|\n",
    "| `flex-start` | Alinea el elemento al inicio del eje transversal. |\n",
    "| `flex-end` | Alinea el elemento al final del eje transversal. |\n",
    "| `center` | Alinea el elemento en el centro del eje transversal. |\n",
    "| `baseline` | Alinea el elemento según su línea base de texto. |\n",
    "| `stretch` | Estira el elemento para ocupar el contenedor. |\n",
    "\n",
    "```css\n",
    ".box3 {\n",
    "    align-self: center;\n",
    "}\n",
    "```\n",
    "\n"
   ]
  },
  {
   "cell_type": "markdown",
   "id": "deab2f19-ee34-44ad-8b3f-f0e59f623ac8",
   "metadata": {},
   "source": [
    "\n",
    "```html\n",
    "<div class=\"flex-container\">\n",
    "    <div class=\"box box1\">One..</div>\n",
    "    <div class=\"box box2\">Two..</div>\n",
    "    <div class=\"box box3\">Three..</div>\n",
    "</div>\n",
    "```\n",
    "\n",
    "* *Ejemplo*:\n",
    "\n",
    "**El tercer elemento (box3) estará alineado al centro verticalmente, independientemente de align-items.**\n",
    "\n"
   ]
  },
  {
   "cell_type": "markdown",
   "id": "ce7c5d04-66b3-4535-a220-0ef6c0677e2d",
   "metadata": {},
   "source": [
    "---\n",
    "<h4 style=\"color:#021bd4; font-family: 'Nunito'; font-weight: 400;background-color:#f8f8f8; padding: 10px; border-radius: 8px;\">flex-wrap</h4>\n",
    "\n",
    "\n",
    "* *Función*:\n",
    "\n",
    "**Define si los elementos deben ajustarse o no cuando no hay suficiente espacio en el contenedor.**  \n",
    "\n",
    "| Valor | Descripción |\n",
    "|-------|-------------|\n",
    "| `nowrap` | No permite que los elementos se ajusten a múltiples líneas. |\n",
    "| `wrap` | Permite que los elementos se ajusten a múltiples líneas. |\n",
    "| `wrap-reverse` | Ajusta los elementos a múltiples líneas en orden inverso. |\n",
    "\n",
    "```css\n",
    ".flex-container {\n",
    "    display: flex;\n",
    "    flex-wrap: wrap;\n",
    "}\n",
    "```\n",
    "\n",
    "* *Ejemplo*:\n",
    "\n",
    "**Si el ancho de la pantalla es insuficiente, los elementos se ajustarán a una nueva línea.**\n",
    "\n",
    "\n",
    "\n",
    "---"
   ]
  },
  {
   "cell_type": "code",
   "execution_count": null,
   "id": "27e5b353-204c-4848-b57a-c1a936fb4efe",
   "metadata": {},
   "outputs": [],
   "source": []
  },
  {
   "cell_type": "markdown",
   "id": "058dcf2e-8f59-4b65-ad45-ba7045d06aa2",
   "metadata": {},
   "source": [
    "---\n",
    "<h4 style=\"color:#021bd4; font-family: 'Nunito'; font-weight: 400;background-color:#f8f8f8; padding: 10px; border-radius: 8px;\">flex-direction : Dirección de los elementos</h4>\n",
    "\n",
    "* *Función*:\n",
    "\n",
    "**Define la dirección del eje principal.**\n",
    "\n",
    "| Valor | Descripción |\n",
    "|-------|-------------|\n",
    "| `row` | Fila (por defecto). |\n",
    "| `row-reverse` | Fila en orden inverso. |\n",
    "| `column` | Columna. |\n",
    "| `column-reverse` | Columna en orden inverso. |\n",
    "\n"
   ]
  },
  {
   "cell_type": "markdown",
   "id": "3b4c7770-5c42-4af8-82ad-2750ead53df4",
   "metadata": {},
   "source": [
    "```css\n",
    ".flex-container {\n",
    "    display: flex;\n",
    "    flex-direction: column;\n",
    "}\n",
    "\n",
    "```\n",
    "\n",
    "\n",
    "* *Ejemplo*:\n",
    "\n",
    "**Los elementos se alinean en una columna vertical.**\n",
    "\n",
    "```css\n",
    "flex-direction: row; /* De izquierda a derecha */\n",
    "flex-direction: column; /* De arriba hacia abajo */\n",
    "flex-direction: row-reverse; /* Derecha a izquierda */\n",
    "flex-direction: column-reverse; /* Abajo hacia arriba */\n",
    "\n",
    "```"
   ]
  },
  {
   "cell_type": "markdown",
   "id": "2b737c16-79af-41ab-a02e-076954209c9b",
   "metadata": {},
   "source": [
    "\n",
    "---\n",
    "<h4 style=\"color:#021bd4; font-family: 'Nunito'; font-weight: 400;background-color:#f8f8f8; padding: 10px; border-radius: 8px;\">gap </h4>\n",
    "\n",
    "* *Función*:\n",
    "\n",
    "**Define el espacio entre los elementos flexibles a lo largo del eje principal y transversal.**  \n",
    "\n",
    "* *Compatibilidad*: Funciona con `display: flex` y `display: grid`.  \n",
    "\n",
    "```css\n",
    ".flex-container {\n",
    "    display: flex;\n",
    "    gap: 10px;\n",
    "}\n",
    "```\n",
    "\n",
    "* *Ejemplo*:\n",
    "\n",
    "**Espacio de `10px` entre los elementos.**\n",
    "\n",
    "\n",
    "\n"
   ]
  },
  {
   "cell_type": "markdown",
   "id": "0a427017-b236-4926-adfe-8099dfc336b6",
   "metadata": {},
   "source": [
    "\n",
    "---\n",
    "<h4 style=\"color:#021bd4; font-family: 'Nunito'; font-weight: 400;background-color:#f8f8f8; padding: 10px; border-radius: 8px;\">Ajuste de elementos </h4>\n",
    "\n",
    "* *Función*:\n",
    "\n",
    "**Define si los elementos deben ajustarse o no cuando no hay suficiente espacio en el contenedor.**  \n",
    "\n",
    "| Valor | Descripción |\n",
    "|-------|-------------|\n",
    "| `nowrap` | No permite que los elementos se ajusten a múltiples líneas. |\n",
    "| `wrap` | Permite que los elementos se ajusten a múltiples líneas. |\n",
    "| `wrap-reverse` | Ajusta los elementos a múltiples líneas en orden inverso. |\n",
    "\n",
    "```css\n",
    ".flex-container {\n",
    "    display: flex;\n",
    "    flex-wrap: wrap;\n",
    "}\n",
    "```\n",
    "\n",
    "```css\n",
    "flex-wrap: nowrap; /* No se envuelven */\n",
    "flex-wrap: wrap; /* Se ajustan a múltiples líneas */\n",
    "\n",
    "```"
   ]
  },
  {
   "cell_type": "markdown",
   "id": "54f440d0-aae4-44f6-8339-a26d8284f2f7",
   "metadata": {},
   "source": [
    "\n",
    "---\n",
    "<h4 style=\"color:#021bd4; font-family: 'Nunito'; font-weight: 400;background-color:#f8f8f8; padding: 10px; border-radius: 8px;\">align-content: Alineación de elementos </h4>\n",
    "\n",
    "* *Función*:\n",
    "\n",
    "**Controla el espacio entre las líneas flexibles cuando hay múltiples líneas de elementos.**  \n",
    "\n",
    "* *`align-items`*: Alinea elementos en el eje cruzado (vertical por defecto).\n",
    "* *`justify-content`*: Alinea elementos en el eje principal (horizontal por defecto).\n",
    "\n",
    "| Valor | Descripción |\n",
    "|-------|-------------|\n",
    "| `flex-start` | Alinea las líneas al inicio del eje transversal. |\n",
    "| `flex-end` | Alinea las líneas al final del eje transversal. |\n",
    "| `center` | Alinea las líneas en el centro del eje transversal. |\n",
    "| `space-between` | Distribuye el espacio entre las líneas. |\n",
    "| `space-around` | Distribuye el espacio con margen alrededor de las líneas. |\n",
    "| `stretch` | Estira las líneas para ocupar el contenedor. |\n",
    "\n",
    "\n",
    "<h5 style=\"color:#012c5e; font-family: 'Nunito'; font-weight: 400;\">Ejemplo 1</h5>\n",
    "\n",
    "\n",
    "\n",
    "```css\n",
    ".container {\n",
    "    display: flex;\n",
    "    align-items: center;\n",
    "    justify-content: space-between;\n",
    "}\n",
    "\n",
    "```\n",
    "\n",
    "<h5 style=\"color:#012c5e; font-family: 'Nunito'; font-weight: 400;\">Ejemplo 2</h5>\n",
    "\n",
    "\n",
    "\n",
    "```css\n",
    "align-items: center;\n",
    "justify-content: space-between;\n",
    "\n",
    "\n",
    "```"
   ]
  },
  {
   "cell_type": "markdown",
   "id": "26170884-1e1d-4319-b089-a9ec05f95fb7",
   "metadata": {},
   "source": [
    "\n",
    "---\n",
    "<h4 style=\"color:#021bd4; font-family: 'Nunito'; font-weight: 400;background-color:#f8f8f8; padding: 10px; border-radius: 8px;\">Crecimiento, encogimiento y tamaño base </h4>\n",
    "\n",
    "* *Función*:\n",
    "\n",
    "**Define cómo los elementos se ajustan dentro del contenedor.**  \n",
    "\n",
    "\n",
    "\n",
    "<h5 style=\"color:#012c5e; font-family: 'Nunito'; font-weight: 400;\">Ejemplo 1</h5>\n",
    "\n",
    "\n",
    "\n",
    "```css\n",
    "flex: 1 1 auto; /* Crecimiento 1, encogimiento 1, tamaño base automático */\n",
    "\n",
    "\n",
    "```\n",
    "\n",
    "<h5 style=\"color:#012c5e; font-family: 'Nunito'; font-weight: 400;\">Ejemplo 2</h5>\n",
    "\n",
    "\n",
    "\n",
    "```css\n",
    ".item {\n",
    "    flex: 1; /* Todos los elementos ocupan el mismo espacio */\n",
    "}\n",
    "\n",
    "\n",
    "\n",
    "```"
   ]
  },
  {
   "cell_type": "markdown",
   "id": "3df50be8-f882-4eea-b033-32a6afc841a8",
   "metadata": {
    "jp-MarkdownHeadingCollapsed": true
   },
   "source": [
    "\n",
    "<h4 style=\"color:#021bd4; font-family: 'Nunito'; font-weight: 400;background-color:#f8f8f8; padding: 10px; border-radius: 8px;\">flex (notación abreviada)</h4>\n",
    "\n",
    "\n",
    "* *Función*:\n",
    "\n",
    "**flex: grow shrink basis**  \n",
    "  \n",
    "\n",
    "```css\n",
    ".box3 {\n",
    "    flex: 1 1 auto;\n",
    "}\n",
    "\n",
    "```\n"
   ]
  },
  {
   "cell_type": "markdown",
   "id": "33e98e52-3dac-42a0-a59a-c227f8b3bbd8",
   "metadata": {},
   "source": [
    "\n",
    "\n",
    "<h4 style=\"color:#021bd4; font-family: 'Nunito'; font-weight: 400;background-color:#f8f8f8; padding: 10px; border-radius: 8px;\">flex-grow</h4>\n",
    "\n",
    "\n",
    "\n",
    "* *Función*:\n",
    "\n",
    "**Define la capacidad de un elemento para crecer en relación con otros elementos.**  \n",
    "\n",
    "* *Valores predeterminados*: `0` (no crece) y  `1` (Crece proporcionalmente)\n",
    "\n",
    "```css\n",
    ".flex-item {\n",
    "    flex-grow: 1;\n",
    "}\n",
    "```\n",
    "\n",
    "* *Ejemplo*:\n",
    "\n",
    "**El tercer elemento (`box3`) ocupará todo el espacio disponible.**\n",
    "\n",
    "---"
   ]
  },
  {
   "cell_type": "markdown",
   "id": "c7bffced-1029-4680-9d99-81baa4e1c880",
   "metadata": {},
   "source": [
    "\n",
    "<h4 style=\"color:#021bd4; font-family: 'Nunito'; font-weight: 400;background-color:#f8f8f8; padding: 10px; border-radius: 8px;\">flex-shrink</h4>\n",
    "\n",
    "\n",
    "* *Función*:\n",
    "\n",
    "**Define la capacidad de un elemento para reducir su tamaño en relación con otros elementos.**  \n",
    "\n",
    "* *Valores predeterminados*: `1` (puede encogerse).  \n",
    "\n",
    "```css\n",
    ".flex-item {\n",
    "    flex-shrink: 1;\n",
    "}\n",
    "```\n",
    "\n",
    "---"
   ]
  },
  {
   "cell_type": "markdown",
   "id": "52881660-0bbd-4e55-892e-7f246b048474",
   "metadata": {},
   "source": [
    "\n",
    "\n",
    "<h2 style=\"color: #012c5e; font-family: 'Monserrat', serif; font-weight: 700; background-color: #f5f5f5; padding: 10px; border-radius: 8px;\">Unidades de medida CSS</h2>\n"
   ]
  },
  {
   "cell_type": "markdown",
   "id": "6811a35d-01e9-4b4b-92a8-829192ee18c6",
   "metadata": {},
   "source": [
    "<h3 style=\"color:#013e85; font-family: 'Monserrat'; font-weight: 600;text-align: center;background-color:#fafafa; padding: 10px; border-radius: 8px;\">Unidades Absolutas</h3>\n"
   ]
  },
  {
   "cell_type": "markdown",
   "id": "f7d93244-b1e4-40cf-9ca8-c53d76fb47f5",
   "metadata": {},
   "source": [
    "* *Función*:\n",
    "\n",
    "**Las unidades absolutas tienen un tamaño fijo y no cambian según el contexto o el dispositivo. Se utilizan cuando el tamaño de la página es conocido y permanece constante.**\n",
    "\n",
    "    1) Se usa para definir medidas que no deben cambiar según el dispositivo o el tamaño de la pantalla.\n",
    "\n"
   ]
  },
  {
   "cell_type": "markdown",
   "id": "9800f533-c160-4429-8987-04b04b7ff40b",
   "metadata": {},
   "source": [
    "```css\n",
    "selector {\n",
    "    propiedad: valor_unidad_absoluta;\n",
    "}\n",
    "```\n",
    "\n",
    "**Componentes y atributos**\n",
    "- *`selector`*: Define el elemento al que se aplicará el estilo.\n",
    "- *`propiedad`*: Especifica qué característica se está modificando (ejemplo: `width`, `height`, `margin`).\n",
    "- *`valor_unidad_absoluta`*: Es un número seguido de una unidad absoluta.\n",
    "\n",
    "\n",
    "\n",
    "```css\n",
    "div {\n",
    "    width: 10cm;\n",
    "    height: 100px;\n",
    "    margin: 5mm;\n",
    "}\n",
    "```"
   ]
  },
  {
   "cell_type": "markdown",
   "id": "199eada6-9902-4ee0-8d59-991b17df8791",
   "metadata": {},
   "source": [
    "<h4 style=\"color:#021bd4; font-family: 'Nunito'; font-weight: 400;background-color:#f8f8f8; padding: 10px; border-radius: 8px;\">Unidades Absolutas Comunes</h4>\n",
    "\n"
   ]
  },
  {
   "cell_type": "markdown",
   "id": "cff88310-71e9-4fc6-8417-c46a11d5cfa7",
   "metadata": {},
   "source": [
    "\n",
    "| Unidad | Nombre | Equivalencia |\n",
    "|--------|--------|-------------|\n",
    "| `Q`  | Cuarto de milímetro | `1Q = 1/40th de 1cm` |\n",
    "| `mm` | Milímetros | `1mm = 1/10 de 1cm` |\n",
    "| `cm` | Centímetros | `1cm = 37.8px = 25.2/64in` |\n",
    "| `in` | Pulgadas | `1in = 2.54cm = 96px` |\n",
    "| `pc` | Picas | `1pc = 1/6 de 1in` |\n",
    "| `pt` | Puntos | `1pt = 1/72 de 1in` |\n",
    "| `px` | Píxeles | `1px = 1/96 de 1in` |\n",
    "\n",
    "Las más usadas en CSS son **píxeles (`px`) y centímetros (`cm`)**."
   ]
  },
  {
   "cell_type": "markdown",
   "id": "c8067ed3-a834-41ef-9399-6cf6a3ce5c2b",
   "metadata": {},
   "source": [
    "---\n",
    "<h5 style=\"color:#012c5e; font-family: 'Nunito'; font-weight: 400;\">Ejemplo 1</h5>\n"
   ]
  },
  {
   "cell_type": "markdown",
   "id": "6d0c00b3-a352-4e38-91de-9fd59855ca39",
   "metadata": {},
   "source": [
    "```css\n",
    "selector {\n",
    "    width: 100px; /* tamaño fijo en píxeles */\n",
    "    height: 2cm; /* tamaño fijo en centímetros */\n",
    "}\n"
   ]
  },
  {
   "cell_type": "markdown",
   "id": "ee0b43c2-cc5d-4b80-9022-a02f54ef7bd1",
   "metadata": {},
   "source": [
    "---\n",
    "<h5 style=\"color:#012c5e; font-family: 'Nunito'; font-weight: 400;\">Ejemplo 2</h5>\n"
   ]
  },
  {
   "cell_type": "markdown",
   "id": "0703b5ba-161e-4ce5-ad16-0eee5cfe2e27",
   "metadata": {},
   "source": [
    "\n",
    "```html\n",
    "<div class=\"box\">Caja fija</div>\n",
    "\n",
    "<style>\n",
    "    .box {\n",
    "        width: 150px; /* tamaño fijo en píxeles */\n",
    "        height: 5cm; /* tamaño fijo en centímetros */\n",
    "        background-color: lightblue;\n",
    "        border: 1px solid black;\n",
    "    }\n",
    "</style>\n"
   ]
  },
  {
   "cell_type": "markdown",
   "id": "90e6f683-0d7b-4dc6-8774-0afed33df8e2",
   "metadata": {},
   "source": [
    "* **La caja tendrá un tamaño fijo independientemente del tamaño de la pantalla o dispositivo.**"
   ]
  },
  {
   "cell_type": "markdown",
   "id": "17a2584b-3265-4631-be39-9ce5d401a8dd",
   "metadata": {},
   "source": [
    "\n",
    "<h3 style=\"color:#013e85; font-family: 'Monserrat'; font-weight: 600;text-align: center;background-color:#fafafa; padding: 10px; border-radius: 8px;\">Unidades Relativas</h3>\n",
    "\n"
   ]
  },
  {
   "cell_type": "markdown",
   "id": "9b7fdaa9-3da4-4cac-82cc-87805f752cd9",
   "metadata": {},
   "source": [
    "* *Función*:\n",
    "\n",
    "**Las unidades relativas dependen de otros elementos, como el tamaño del padre o la ventana gráfica.**\n",
    "\n",
    "    1) Se usa para hacer que los elementos sean responsivos, es decir, que se adapten a distintos tamaños de pantalla.\n",
    "\n",
    "\n",
    "\n",
    "```css\n",
    "selector {\n",
    "    propiedad: valor_unidad_relativa;\n",
    "}\n",
    "```\n"
   ]
  },
  {
   "cell_type": "markdown",
   "id": "48ad7501-3ba1-4230-aa1f-8a46198b3a76",
   "metadata": {},
   "source": [
    "**Componentes y atributos**\n",
    "- *`selector`*: Define el elemento al que se aplicará el estilo.\n",
    "- *`propiedad`*: Especifica la característica modificada (`font-size`, `width`, `height`).\n",
    "- *`valor_unidad_relativa`*: Número seguido de una unidad relativa.\n",
    "\n"
   ]
  },
  {
   "cell_type": "markdown",
   "id": "666584f7-6663-4144-9937-2e4c220e1a7a",
   "metadata": {},
   "source": [
    "\n",
    "```css\n",
    "p {\n",
    "    font-size: 1.5em;\n",
    "    width: 50vw;\n",
    "}\n",
    "```\n"
   ]
  },
  {
   "cell_type": "markdown",
   "id": "1b9a81d3-e982-407f-bf5c-21fa1ef56b64",
   "metadata": {},
   "source": [
    "<h4 style=\"color:#021bd4; font-family: 'Nunito'; font-weight: 400;background-color:#f8f8f8; padding: 10px; border-radius: 8px;\">Unidades Relativas Comunes</h4>\n",
    "\n",
    "| Unidad | Relatividad |\n",
    "|--------|------------|\n",
    "| `em`   | Tamaño de fuente del padre. |\n",
    "| `ex`   | Altura de la fuente en coordenada x. |\n",
    "| `ch`   | Ancho de un carácter de la fuente. |\n",
    "| `rem`  | Tamaño de fuente del elemento raíz (`html`). |\n",
    "| `lh`   | Altura de línea del elemento principal. |\n",
    "| `rlh`  | Altura de línea del elemento raíz (`html`). |\n",
    "| `vw`   | `1%` del ancho de la ventana gráfica. |\n",
    "| `vh`   | `1%` de la altura de la ventana gráfica. |\n",
    "| `vmin` | `1%` del lado más pequeño de la ventana gráfica. |\n",
    "| `vmax` | `1%` del lado más grande de la ventana gráfica. |\n",
    "| `%`    | Porcentaje relativo al tamaño del elemento padre. |\n",
    "\n",
    "Las más utilizadas son **`%`, `em`, `rem`, `vh` y `vw`**."
   ]
  },
  {
   "cell_type": "markdown",
   "id": "acb16b13-55ab-4dc2-bf47-ad7c9ec2b454",
   "metadata": {},
   "source": [
    "---\n",
    "<h5 style=\"color:#012c5e; font-family: 'Nunito'; font-weight: 400;\">Ejemplo 1</h5>\n"
   ]
  },
  {
   "cell_type": "markdown",
   "id": "b79bf274-2a58-4f16-b21d-f9cda88a627c",
   "metadata": {},
   "source": [
    "\n",
    "```css\n",
    "selector {\n",
    "    font-size: 1em; /* relativo al tamaño de fuente del elemento padre */\n",
    "    width: 50vw; /* 50% del ancho de la ventana gráfica */\n",
    "}\n"
   ]
  },
  {
   "cell_type": "markdown",
   "id": "1fe98e69-3fd9-4884-bc17-96aff6895580",
   "metadata": {},
   "source": [
    "---\n",
    "<h5 style=\"color:#012c5e; font-family: 'Nunito'; font-weight: 400;\">Ejemplo 2</h5>\n"
   ]
  },
  {
   "cell_type": "markdown",
   "id": "6524f99e-a4a9-4a1e-8d41-84af712497a7",
   "metadata": {},
   "source": [
    "\n",
    "```html\n",
    "<div class=\"padre\">\n",
    "    <div class=\"hijo\">Elemento hijo</div>\n",
    "</div>\n",
    "\n",
    "<style>\n",
    "    .padre {\n",
    "        font-size: 20px; /* El tamaño de fuente del padre es 20px */\n",
    "        width: 300px; /* Ancho fijo */\n",
    "        height: 200px; /* Alto fijo */\n",
    "        background-color: lightgray;\n",
    "        padding: 10px;\n",
    "    }\n",
    "\n",
    "    .hijo {\n",
    "        font-size: 2em; /* 2 veces el tamaño de fuente del padre (20px * 2 = 40px) */\n",
    "        width: 50%; /* 50% del ancho del padre (300px * 0.5 = 150px) */\n",
    "        height: 50%; /* 50% de la altura del padre (200px * 0.5 = 100px) */\n",
    "        background-color: lightblue;\n",
    "    }\n",
    "</style>\n",
    "\n"
   ]
  },
  {
   "cell_type": "markdown",
   "id": "df0053a1-2b37-4aca-8ec4-3ccff09b5444",
   "metadata": {},
   "source": [
    "<h2 style=\"color: #012c5e; font-family: 'Monserrat', serif; font-weight: 700; background-color: #f5f5f5; padding: 10px; border-radius: 8px;\">Modelo de Cuadrícula (grid)</h2>\n"
   ]
  },
  {
   "cell_type": "markdown",
   "id": "5b549a4b-498f-4229-887e-17dda3bba37f",
   "metadata": {},
   "source": [
    "* *Función*:\n",
    "\n",
    "**El modelo grid permite distribuir elementos en dos dimensiones (filas y columnas).**\n",
    "\n",
    "    1) Se usa para crear diseños de página más complejos con alineación en dos dimensiones."
   ]
  },
  {
   "cell_type": "markdown",
   "id": "53cbf9cc-533d-4b41-8da9-f93b5b9c1f86",
   "metadata": {},
   "source": [
    "\n",
    "<h3 style=\"color:#013e85; font-family: 'Monserrat'; font-weight: 600;text-align: center;background-color:#fafafa; padding: 10px; border-radius: 8px;\">Propiedades</h3>\n"
   ]
  },
  {
   "cell_type": "markdown",
   "id": "89d01cc5-a13b-4a9d-ad2e-afdcaf05f008",
   "metadata": {},
   "source": [
    "---\n",
    "\n",
    "<h4 style=\"color:#021bd4; font-family: 'Nunito'; font-weight: 400;background-color:#f8f8f8; padding: 10px; border-radius: 8px;\">display: grid</h4>"
   ]
  },
  {
   "cell_type": "markdown",
   "id": "be7ee508-ec5b-4764-a578-d4b1efeff2f0",
   "metadata": {},
   "source": [
    "* *Función*:\n",
    "\n",
    "**Convierte un contenedor en una cuadrícula bidimensional, donde los elementos hijos se organizan en filas y columnas.**\n",
    "\n",
    "    1) Se aplica a un contenedor para habilitar el modelo de cuadrícula."
   ]
  },
  {
   "cell_type": "markdown",
   "id": "674c1376-8188-4e25-89cc-08cb419a7525",
   "metadata": {},
   "source": [
    "---\n",
    "<h5 style=\"color:#012c5e; font-family: 'Nunito'; font-weight: 400;\">Ejemplo 1</h5>\n"
   ]
  },
  {
   "cell_type": "markdown",
   "id": "f5ef2ec5-2e8c-4ed5-972e-5f67484ccec9",
   "metadata": {},
   "source": [
    "\n",
    "```css\n",
    ".contenedor {\n",
    "    display: grid;\n",
    "}\n"
   ]
  },
  {
   "cell_type": "markdown",
   "id": "13e8ad5b-67b6-4490-98c1-041d66375a4b",
   "metadata": {},
   "source": [
    "---\n",
    "<h5 style=\"color:#012c5e; font-family: 'Nunito'; font-weight: 400;\">Ejemplo 2</h5>\n"
   ]
  },
  {
   "cell_type": "markdown",
   "id": "432d8ea4-cc89-4100-8ba9-428b12dd4827",
   "metadata": {},
   "source": [
    "\n",
    "```html\n",
    "<div class=\"contenedor\">\n",
    "    <div>A</div>\n",
    "    <div>B</div>\n",
    "    <div>C</div>\n",
    "</div>\n",
    "\n",
    "<style>\n",
    ".contenedor {\n",
    "    display: grid;\n",
    "    grid-template-columns: 100px 100px 100px; /* Tres columnas de 100px */\n",
    "}\n",
    "</style>\n"
   ]
  },
  {
   "cell_type": "markdown",
   "id": "1fce7dee-debd-4514-aca7-b7b2b032a5e8",
   "metadata": {},
   "source": [
    "\n",
    "<h4 style=\"color:#021bd4; font-family: 'Nunito'; font-weight: 400;background-color:#f8f8f8; padding: 10px; border-radius: 8px;\">Columnas y Filas</h4>"
   ]
  },
  {
   "cell_type": "markdown",
   "id": "3ba8b0ba-d559-4524-95a5-56ab2ed79159",
   "metadata": {},
   "source": [
    "* *Función*:\n",
    "\n",
    "**Permite establecer el número y tamaño de columnas y filas en la cuadrícula.**\n",
    "\n",
    "    1) Se configuran con grid-template-columns y grid-template-rows."
   ]
  },
  {
   "cell_type": "markdown",
   "id": "7693e870-cde8-48d2-991e-405de68a2e86",
   "metadata": {},
   "source": [
    "---\n",
    "<h5 style=\"color:#012c5e; font-family: 'Nunito'; font-weight: 400;\">Ejemplo 1</h5>\n"
   ]
  },
  {
   "cell_type": "markdown",
   "id": "0b7ce004-ef2f-4a75-83b7-d0c4acc04466",
   "metadata": {},
   "source": [
    "\n",
    "```css\n",
    "\n",
    ".contenedor {\n",
    "    display: grid;\n",
    "    grid-template-columns: 100px 200px; /* Dos columnas de diferente tamaño */\n",
    "    grid-template-rows: 50px 100px; /* Dos filas de diferente tamaño */\n",
    "}\n",
    "\n"
   ]
  },
  {
   "cell_type": "markdown",
   "id": "b0f4ef77-24fe-4e29-8607-cbd6b298973b",
   "metadata": {},
   "source": [
    "\n",
    "```css\n",
    "\n",
    "grid-template-columns: 100px 200px; /* Dos columnas de tamaño fijo */\n",
    "grid-template-columns: 1fr 2fr; /* Primera columna flexible, segunda el doble */\n",
    "grid-template-columns: repeat(3, 1fr); /* Tres columnas iguales */\n",
    "\n",
    "\n"
   ]
  },
  {
   "cell_type": "markdown",
   "id": "0e8c86db-ecae-4055-8474-67d807971d2a",
   "metadata": {},
   "source": [
    "\n",
    "<h4 style=\"color:#021bd4; font-family: 'Nunito'; font-weight: 400;background-color:#f8f8f8; padding: 10px; border-radius: 8px;\">fr (Fracción)</h4>"
   ]
  },
  {
   "cell_type": "markdown",
   "id": "d05497cc-29f5-4f0b-b085-d4cf729b2697",
   "metadata": {},
   "source": [
    "* *Función*:\n",
    "\n",
    "**Define el tamaño de las columnas o filas en proporciones relativas.**\n",
    "\n",
    "    1) Sustituye los valores en píxeles para lograr diseños flexibles."
   ]
  },
  {
   "cell_type": "markdown",
   "id": "0c22c8a3-42a2-4889-a419-1399754a9a4f",
   "metadata": {},
   "source": [
    "---\n",
    "<h5 style=\"color:#012c5e; font-family: 'Nunito'; font-weight: 400;\">Ejemplo 1</h5>\n"
   ]
  },
  {
   "cell_type": "markdown",
   "id": "59a84583-8216-4a9b-a348-6539f4bb356a",
   "metadata": {},
   "source": [
    "```css\n",
    ".contenedor {\n",
    "    display: grid;\n",
    "    grid-template-columns: 1fr 2fr; /* La segunda columna es el doble de la primera */\n",
    "}\n",
    "\n"
   ]
  },
  {
   "cell_type": "markdown",
   "id": "bc6d3f27-01d5-449e-869d-a1d289cc36ab",
   "metadata": {},
   "source": [
    "\n",
    "<h4 style=\"color:#021bd4; font-family: 'Nunito'; font-weight: 400;background-color:#f8f8f8; padding: 10px; border-radius: 8px;\">Espaciado entre Elementos (gap)</h4>"
   ]
  },
  {
   "cell_type": "markdown",
   "id": "e28f35cc-6e73-4548-b7a1-23d7dcb39f2c",
   "metadata": {},
   "source": [
    "* *Función*:\n",
    "\n",
    "**Define el espacio entre filas y columnas de la cuadrícula.**\n",
    "\n",
    "    1) Se configura con grid-gap, row-gap y column-gap."
   ]
  },
  {
   "cell_type": "markdown",
   "id": "cabbe159-d1ba-47ed-b3bd-a4d495cc3414",
   "metadata": {},
   "source": [
    "---\n",
    "<h5 style=\"color:#012c5e; font-family: 'Nunito'; font-weight: 400;\">Ejemplo 1</h5>\n"
   ]
  },
  {
   "cell_type": "markdown",
   "id": "9263c272-6556-4691-bd1b-7938481b228b",
   "metadata": {},
   "source": [
    "\n",
    "```css\n",
    ".contenedor {\n",
    "    display: grid;\n",
    "    grid-template-columns: 1fr 1fr 1fr;\n",
    "    gap: 10px; /* Espacio entre los elementos */\n",
    "}\n"
   ]
  },
  {
   "cell_type": "markdown",
   "id": "55a03776-8380-4a5f-8dda-17272cd14cad",
   "metadata": {},
   "source": [
    "---\n",
    "<h5 style=\"color:#012c5e; font-family: 'Nunito'; font-weight: 400;\">Ejemplo 2</h5>\n"
   ]
  },
  {
   "cell_type": "markdown",
   "id": "d3214d7c-aab9-49dd-bce0-ce715918427b",
   "metadata": {},
   "source": [
    "\n",
    "```css\n",
    "grid-gap: 10px; /* Espaciado uniforme */\n",
    "grid-column-gap: 20px; /* Espaciado entre columnas */\n",
    "grid-row-gap: 15px; /* Espaciado entre filas */\n",
    "\n"
   ]
  },
  {
   "cell_type": "markdown",
   "id": "831528da-5063-430c-b148-a8f1db803518",
   "metadata": {},
   "source": [
    "\n",
    "<h4 style=\"color:#021bd4; font-family: 'Nunito'; font-weight: 400;background-color:#f8f8f8; padding: 10px; border-radius: 8px;\">Alineación de elementos en la cuadrícula</h4>"
   ]
  },
  {
   "cell_type": "markdown",
   "id": "338b1248-f154-4f9b-814c-62f6a11768f2",
   "metadata": {},
   "source": [
    "* *Función*:\n",
    "\n",
    "**Alinea elementos dentro de las celdas.**\n"
   ]
  },
  {
   "cell_type": "markdown",
   "id": "c77057ab-b5a5-40b6-b2f2-8b7a3963314b",
   "metadata": {},
   "source": [
    "---\n",
    "<h5 style=\"color:#012c5e; font-family: 'Nunito'; font-weight: 400;\">Ejemplo 1</h5>\n"
   ]
  },
  {
   "cell_type": "markdown",
   "id": "880eef68-5108-4964-9510-788e73be92cc",
   "metadata": {},
   "source": [
    "\n",
    "```css\n",
    ".container {\n",
    "    display: grid;\n",
    "    justify-items: center;\n",
    "    align-items: center;\n",
    "}\n"
   ]
  },
  {
   "cell_type": "markdown",
   "id": "16cf4691-1334-48cb-8330-e33918955d95",
   "metadata": {},
   "source": [
    "---\n",
    "<h5 style=\"color:#012c5e; font-family: 'Nunito'; font-weight: 400;\">Ejemplo 2</h5>\n"
   ]
  },
  {
   "cell_type": "markdown",
   "id": "df217046-d9c4-4da7-9f95-e2c73b0193bb",
   "metadata": {},
   "source": [
    "\n",
    "```css\n",
    "justify-items: center; /* Centra los elementos horizontalmente */\n",
    "align-items: end; /* Alinea los elementos al final verticalmente */\n",
    "place-items: center; /* Centra en ambos ejes */\n",
    "\n"
   ]
  },
  {
   "cell_type": "markdown",
   "id": "c3d04d3b-73cc-40bd-9574-ec2e6cf77656",
   "metadata": {},
   "source": [
    "\n",
    "<h4 style=\"color:#021bd4; font-family: 'Nunito'; font-weight: 400;background-color:#f8f8f8; padding: 10px; border-radius: 8px;\">Posicionamiento en la cuadrícula</h4>"
   ]
  },
  {
   "cell_type": "markdown",
   "id": "fad67196-24ad-4bfc-a0cf-bf83178eb5a5",
   "metadata": {},
   "source": [
    "* *Función*:\n",
    "\n",
    "**Define la ubicación de los elementos.**\n",
    "\n",
    "    1) Se configura con grid-auto-rows y grid-auto-columns."
   ]
  },
  {
   "cell_type": "markdown",
   "id": "4f41acfa-21a9-48a0-a11b-ad7fd82274d8",
   "metadata": {},
   "source": [
    "---\n",
    "<h5 style=\"color:#012c5e; font-family: 'Nunito'; font-weight: 400;\">Ejemplo 1</h5>\n"
   ]
  },
  {
   "cell_type": "markdown",
   "id": "ba5fe590-1995-4a33-bf2b-8a7ec05ce272",
   "metadata": {},
   "source": [
    "\n",
    "```css\n",
    "grid-column: 1 / 3; /* Ocupa desde la columna 1 hasta la 3 */\n",
    "grid-row: 2 / 4; /* Ocupa desde la fila 2 hasta la 4 */\n"
   ]
  },
  {
   "cell_type": "markdown",
   "id": "db500bbb-bfc7-43e2-8ade-76337c881735",
   "metadata": {},
   "source": [
    "\n",
    "<h4 style=\"color:#021bd4; font-family: 'Nunito'; font-weight: 400;background-color:#f8f8f8; padding: 10px; border-radius: 8px;\">Posicionamiento en la cuadrícula</h4>"
   ]
  },
  {
   "cell_type": "markdown",
   "id": "cb531075-bd91-49bb-bed6-6453cde04777",
   "metadata": {},
   "source": [
    "* *Función*:\n",
    "\n",
    "**Define la ubicación de los elementos.**\n",
    "\n",
    "    1) Se configura con grid-auto-rows y grid-auto-columns."
   ]
  },
  {
   "cell_type": "markdown",
   "id": "885c8e33-0b86-4afc-88ec-b74efeb95628",
   "metadata": {},
   "source": [
    "\n",
    "<h4 style=\"color:#021bd4; font-family: 'Nunito'; font-weight: 400;background-color:#f8f8f8; padding: 10px; border-radius: 8px;\">Alineación individual de elementos</h4>"
   ]
  },
  {
   "cell_type": "markdown",
   "id": "5d1489eb-5606-444f-a916-ff0a35e45ddc",
   "metadata": {},
   "source": [
    "* *Función*:\n",
    "\n",
    "**Alinea elementos dentro de sus celdas.**\n",
    "\n",
    "    1) Se configura con grid-auto-rows y grid-auto-columns."
   ]
  },
  {
   "cell_type": "markdown",
   "id": "6d912c7e-c8af-4e8c-af0b-b9fa83611343",
   "metadata": {},
   "source": [
    "\n",
    "```css\n",
    "justify-self: start; /* Alinea a la izquierda */\n",
    "align-self: center; /* Centra verticalmente */\n",
    "place-items: center; /* Centra en ambos ejes */\n"
   ]
  },
  {
   "cell_type": "markdown",
   "id": "d8074a4d-425f-4d9a-8594-0b3f39c0da78",
   "metadata": {},
   "source": [
    "\n",
    "<h4 style=\"color:#021bd4; font-family: 'Nunito'; font-weight: 400;background-color:#f8f8f8; padding: 10px; border-radius: 8px;\">Función repeat()</h4>"
   ]
  },
  {
   "cell_type": "markdown",
   "id": "e30093bb-3d1b-4bdb-8693-50bdc7c50145",
   "metadata": {},
   "source": [
    "* *Función*:\n",
    "\n",
    "**Simplifica la creación de múltiples filas o columnas con la misma configuración.**\n",
    "\n",
    "    1) Se usa dentro de grid-template-columns o grid-template-rows."
   ]
  },
  {
   "cell_type": "markdown",
   "id": "44524ee6-fd21-4f1c-b315-0f1c2375ae2e",
   "metadata": {},
   "source": [
    "```css\n",
    ".contenedor {\n",
    "    display: grid;\n",
    "    grid-template-columns: repeat(3, 1fr); /* Tres columnas iguales */\n",
    "}\n"
   ]
  },
  {
   "cell_type": "markdown",
   "id": "3ff1e57f-52fb-4095-805b-c93f7a374e66",
   "metadata": {},
   "source": [
    "\n",
    "<h4 style=\"color:#021bd4; font-family: 'Nunito'; font-weight: 400;background-color:#f8f8f8; padding: 10px; border-radius: 8px;\">Función minmax()</h4>"
   ]
  },
  {
   "cell_type": "markdown",
   "id": "bcc299ce-dcfb-40d1-9043-14a72e21e3af",
   "metadata": {},
   "source": [
    "* *Función*:\n",
    "\n",
    "**Define un rango mínimo y máximo para filas o columnas.**\n",
    "\n",
    "    1) Se usa en grid-template-columns o grid-template-rows."
   ]
  },
  {
   "cell_type": "markdown",
   "id": "251be50f-4ab1-43be-9fdc-c1de62d3bc83",
   "metadata": {},
   "source": [
    "```css\n",
    ".contenedor {\n",
    "    display: grid;\n",
    "    grid-template-columns: minmax(100px, 300px), 1fr; /* La primera columna oscila entre 100px y 300px */\n",
    "}"
   ]
  },
  {
   "cell_type": "markdown",
   "id": "3041dd9f-f91a-45d0-9884-cfff85f002ae",
   "metadata": {},
   "source": [
    "<h2 style=\"color: #012c5e; font-family: 'Monserrat', serif; font-weight: 700; background-color: #f5f5f5; padding: 10px; border-radius: 8px;\">Selectores de Pseudo-Clase</h2>\n"
   ]
  },
  {
   "cell_type": "markdown",
   "id": "46c391d8-331f-4f80-a4fd-4a1ea0aaad18",
   "metadata": {},
   "source": [
    "* *Función*:\n",
    "\n",
    "**Permiten aplicar estilos según el estado de un elemento sin modificar la estructura HTML.**\n",
    "\n",
    "    1) Se utilizan para resaltar elementos según la interacción del usuario o su posición en el DOM."
   ]
  },
  {
   "cell_type": "markdown",
   "id": "b8cb5edb-c6ac-4abd-9c24-f1fa7e90b78b",
   "metadata": {},
   "source": [
    "\n",
    "```css\n",
    "selector:pseudoclase {\n",
    "    propiedad: valor;\n",
    "}\n"
   ]
  },
  {
   "cell_type": "markdown",
   "id": "45d0ce4c-e608-4284-a41c-219f88e4f7fe",
   "metadata": {},
   "source": [
    "\n",
    "<h3 style=\"color:#013e85; font-family: 'Monserrat'; font-weight: 600;text-align: center;background-color:#fafafa; padding: 10px; border-radius: 8px;\">Estados de Acción del Usuario</h3>\n"
   ]
  },
  {
   "cell_type": "markdown",
   "id": "00165274-c87b-45ed-96bb-e68cbc4d7aee",
   "metadata": {},
   "source": [
    "* *Función*:\n",
    "\n",
    "**Son pseudoclases que cambian el estilo de un elemento mientras el usuario interactúa con él.**\n",
    "\n"
   ]
  },
  {
   "cell_type": "markdown",
   "id": "d0a6bb21-de80-41c7-a72a-7a1423867c81",
   "metadata": {},
   "source": [
    "\n",
    "<h4 style=\"color:#021bd4; font-family: 'Nunito'; font-weight: 400;background-color:#f8f8f8; padding: 10px; border-radius: 8px;\">a) :hover</h4>"
   ]
  },
  {
   "cell_type": "markdown",
   "id": "571a11e6-0fa0-430d-a18d-8bb6be7da477",
   "metadata": {},
   "source": [
    "* *Función*:\n",
    "\n",
    "**Aplica estilos mientras el usuario presiona un elemento.**\n",
    "\n",
    "  ```css\n",
    "  a:hover {\n",
    "      color: red;\n",
    "      text-decoration: underline;\n",
    "  }\n",
    "  ```\n"
   ]
  },
  {
   "cell_type": "markdown",
   "id": "1757c264-18f1-4362-98a4-c8f92c376e35",
   "metadata": {},
   "source": [
    "\n",
    "<h4 style=\"color:#021bd4; font-family: 'Nunito'; font-weight: 400;background-color:#f8f8f8; padding: 10px; border-radius: 8px;\">b) :active</h4>\n",
    "\n",
    "* *Función*:\n",
    "\n",
    "**Aplica estilos mientras el usuario presiona un elemento.**\n",
    "\n",
    "  ```css\n",
    "  button:active {\n",
    "      background-color: blue;\n",
    "      color: white;\n",
    "  }\n",
    "  ```"
   ]
  },
  {
   "cell_type": "markdown",
   "id": "c0dd76e3-40f2-466e-85d6-fe587de07991",
   "metadata": {},
   "source": [
    "\n",
    "<h4 style=\"color:#021bd4; font-family: 'Nunito'; font-weight: 400;background-color:#f8f8f8; padding: 10px; border-radius: 8px;\">c) :focus</h4>\n",
    "\n",
    "* *Función*:\n",
    "\n",
    "**Aplica estilos cuando un elemento recibe foco, útil para formularios.**\n",
    "\n",
    "  ```css\n",
    "  input:focus {\n",
    "      border: 2px solid green;\n",
    "      background-color: lightgray;\n",
    "  }\n",
    "  ```"
   ]
  },
  {
   "cell_type": "markdown",
   "id": "3498bb2d-b864-45de-9c18-933b1ce6da92",
   "metadata": {},
   "source": [
    "\n",
    "<h3 style=\"color:#013e85; font-family: 'Monserrat'; font-weight: 600;text-align: center;background-color:#fafafa; padding: 10px; border-radius: 8px;\">Estados de Formulario</h3>\n"
   ]
  },
  {
   "cell_type": "markdown",
   "id": "807f6625-ad04-41f4-89e0-a0f1215364f0",
   "metadata": {},
   "source": [
    "\n",
    "<h4 style=\"color:#021bd4; font-family: 'Nunito'; font-weight: 400;background-color:#f8f8f8; padding: 10px; border-radius: 8px;\">a) :disabled y :enabled</h4>\n",
    "\n",
    "* *Función*:\n",
    "\n",
    "**Aplica estilos a elementos deshabilitados o habilitados.**\n",
    "\n",
    "  ```css\n",
    "  input:disabled {\n",
    "      background-color: gray;\n",
    "      cursor: not-allowed;\n",
    "  }\n",
    "  \n",
    "  input:enabled {\n",
    "      border: 1px solid blue;\n",
    "  }\n",
    "  ```"
   ]
  },
  {
   "cell_type": "markdown",
   "id": "4492ef85-358a-4cfc-8a6e-8cf9f95df868",
   "metadata": {},
   "source": [
    "\n",
    "<h4 style=\"color:#021bd4; font-family: 'Nunito'; font-weight: 400;background-color:#f8f8f8; padding: 10px; border-radius: 8px;\">b) :checked e :indeterminate</h4>\n",
    "\n",
    "* *Función*:\n",
    "\n",
    "**Se aplican a casillas de verificación (`checkbox`) o botones de opción (`radio`).**\n",
    "\n",
    "  ```css\n",
    "  input:checked {\n",
    "      outline: 2px solid green;\n",
    "  }\n",
    "  \n",
    "  input:indeterminate {\n",
    "      background-color: orange;\n",
    "  }\n",
    "  ```"
   ]
  },
  {
   "cell_type": "markdown",
   "id": "b3b70039-4a3a-4a97-b491-3a6211246eb7",
   "metadata": {},
   "source": [
    "\n",
    "<h4 style=\"color:#021bd4; font-family: 'Nunito'; font-weight: 400;background-color:#f8f8f8; padding: 10px; border-radius: 8px;\">c) :valid e :invalid</h4>\n",
    "\n",
    "* *Función*:\n",
    "\n",
    "**Se usan para validar entradas de formularios como correos electrónicos o números.**\n",
    "\n",
    "  ```css\n",
    "  input:valid {\n",
    "      border: 2px solid green;\n",
    "  }\n",
    "  \n",
    "  input:invalid {\n",
    "      border: 2px solid red;\n",
    "  }\n",
    "  ```"
   ]
  },
  {
   "cell_type": "markdown",
   "id": "fb2acc4b-fb58-4bef-9cdb-59e1f94ca89f",
   "metadata": {},
   "source": [
    "\n",
    "<h3 style=\"color:#013e85; font-family: 'Monserrat'; font-weight: 600;text-align: center;background-color:#fafafa; padding: 10px; border-radius: 8px;\">Estados Basados en Posición</h3>\n"
   ]
  },
  {
   "cell_type": "markdown",
   "id": "fa3b070c-a3e3-47cd-b9d6-6af6e4f03214",
   "metadata": {},
   "source": [
    "\n",
    "<h4 style=\"color:#021bd4; font-family: 'Nunito'; font-weight: 400;background-color:#f8f8f8; padding: 10px; border-radius: 8px;\">a) :first-of-type </h4>\n",
    "\n",
    "* *Función*:\n",
    "\n",
    "**Aplica estilos al primer elemento de su tipo.**\n",
    "\n",
    "  ```css\n",
    "  p:first-of-type {\n",
    "      font-weight: bold;\n",
    "  }\n",
    "  ```"
   ]
  },
  {
   "cell_type": "markdown",
   "id": "7b082872-ae9a-4f29-aa3f-646c425037cb",
   "metadata": {},
   "source": [
    "\n",
    "<h4 style=\"color:#021bd4; font-family: 'Nunito'; font-weight: 400;background-color:#f8f8f8; padding: 10px; border-radius: 8px;\">b) :last-of-type </h4>\n",
    "\n",
    "* *Función*:\n",
    "\n",
    "**Aplica estilos al último elemento de su tipo.**\n",
    "\n",
    "  ```css\n",
    "  p:last-of-type {\n",
    "      font-style: italic;\n",
    "  }\n",
    "  ```"
   ]
  },
  {
   "cell_type": "markdown",
   "id": "ad1c07ef-afab-435b-bdb5-8504a9b2666a",
   "metadata": {},
   "source": [
    "\n",
    "<h4 style=\"color:#021bd4; font-family: 'Nunito'; font-weight: 400;background-color:#f8f8f8; padding: 10px; border-radius: 8px;\">c) :nth-of-type(n) </h4>\n",
    "\n",
    "* *Función*:\n",
    "\n",
    "**Aplica estilos al elemento en la posición `n` dentro de su tipo.**\n",
    "\n",
    "  ```css\n",
    "  li:nth-of-type(2) {\n",
    "      color: blue;\n",
    "  }\n",
    "  ```"
   ]
  },
  {
   "cell_type": "markdown",
   "id": "aab0c239-b5dc-4865-a480-8591f35e4f95",
   "metadata": {},
   "source": [
    "\n",
    "<h4 style=\"color:#021bd4; font-family: 'Nunito'; font-weight: 400;background-color:#f8f8f8; padding: 10px; border-radius: 8px;\">d) :nth-last-of-type(n) </h4>\n",
    "\n",
    "* *Función*:\n",
    "\n",
    "**Selecciona el `n`-ésimo elemento de su tipo desde el final.**\n",
    "\n",
    "  ```css\n",
    "  li:nth-last-of-type(1) {\n",
    "      text-transform: uppercase;\n",
    "  }\n",
    "  ```"
   ]
  },
  {
   "cell_type": "markdown",
   "id": "757cd250-2032-47e3-8508-060b49649977",
   "metadata": {},
   "source": [
    "<h2 style=\"color: #012c5e; font-family: 'Monserrat', serif; font-weight: 700; background-color: #f5f5f5; padding: 10px; border-radius: 8px;\">Selectores de Elemento o Tipo</h2>\n",
    "\n",
    "\n",
    "\n",
    "```css\n",
    "elemento {\n",
    "  propiedad: valor;\n",
    "}\n",
    "\n",
    "  ```\n",
    "\n",
    "* *Función*:\n",
    "\n",
    "**Permiten seleccionar elementos HTML basados en su etiqueta.**\n",
    "\n",
    "    1) Se aplican a todos los elementos de un tipo específico en una página web.\n",
    "\n",
    "  ```html\n",
    "<h1 id=\"titulo\">Título</h1>\n",
    "<p class=\"destacado\">Texto</p>\n",
    "\n",
    "  ```\n",
    "\n",
    "\n",
    "  ```css\n",
    "p {\n",
    "  color: blue;\n",
    "}\n",
    "\n",
    "  ```\n",
    "\n",
    "* *Explicación:* Todos los párrafos `<p>` tendrán el color azul."
   ]
  },
  {
   "cell_type": "markdown",
   "id": "ed7e7047-e53d-4a56-b0f6-d7978812078e",
   "metadata": {},
   "source": [
    "<h2 style=\"color: #012c5e; font-family: 'Monserrat', serif; font-weight: 700; background-color: #f5f5f5; padding: 10px; border-radius: 8px;\">Selectores ID</h2>\n",
    "\n",
    "\n",
    "```css\n",
    "#id {\n",
    "  propiedad: valor;\n",
    "}\n",
    "\n",
    "  ```\n",
    "\n",
    "* *Función*:\n",
    "\n",
    "**Apuntan a un único elemento con un atributo id.**\n",
    "\n",
    "    1) Se aplican a todos los elementos de un tipo específico en una página web.\n",
    "\n",
    "  ```html\n",
    "<h1 id=\"titulo\">Título</h1>\n",
    "<p class=\"destacado\">Texto</p>\n",
    "\n",
    "  ```\n",
    "\n",
    "\n",
    "  ```css\n",
    "#titulo {\n",
    "  font-size: 24px;\n",
    "}\n",
    "\n",
    "  ```\n",
    "\n",
    "* *Explicación:* El elemento con id=\"titulo\" tendrá un tamaño de fuente de 24px."
   ]
  },
  {
   "cell_type": "markdown",
   "id": "b5fe227f-bc74-44bd-bc16-89eee378a7dd",
   "metadata": {},
   "source": [
    "<h2 style=\"color: #012c5e; font-family: 'Monserrat', serif; font-weight: 700; background-color: #f5f5f5; padding: 10px; border-radius: 8px;\">Selectores de Clase</h2>\n",
    "\n",
    "\n",
    "```css\n",
    ".clase {\n",
    "  propiedad: valor;\n",
    "}\n",
    "\n",
    "  ```\n",
    "\n",
    "* *Función*:\n",
    "\n",
    "**Permiten seleccionar elementos basados en el atributo class.**\n",
    "\n",
    "    1) Se aplican a múltiples elementos con la misma clase.\n",
    "\n",
    "\n",
    "  ```html\n",
    "<h1 id=\"titulo\">Título</h1>\n",
    "<p class=\"destacado\">Texto</p>\n",
    "\n",
    "  ```\n",
    "\n",
    "\n",
    "  ```css\n",
    ".destacado {\n",
    "  font-weight: bold;\n",
    "}\n",
    "\n",
    "  ```\n",
    "\n",
    "* *Explicación:* Todos los elementos con class=\"destacado\" tendrán texto en negrita."
   ]
  },
  {
   "cell_type": "markdown",
   "id": "d9349b33-8eb8-4908-874b-f2cd4ffa53bf",
   "metadata": {},
   "source": [
    "<h2 style=\"color: #012c5e; font-family: 'Monserrat', serif; font-weight: 700; background-color: #f5f5f5; padding: 10px; border-radius: 8px;\">Selectores de Atributos</h2>\n",
    "\n",
    "* *Función*:\n",
    "\n",
    "**Apuntan a elementos que tienen atributos específicos.**\n",
    "\n",
    "    1) Permiten aplicar estilos a elementos que contienen un atributo o un valor específico.\n",
    "\n",
    "\n",
    "\n",
    "**Sintaxis**  \n",
    "\n",
    "| **Sintaxis** | **Explicación** |\n",
    "|-------------|----------------|\n",
    "| `[atributo]` | Aplica estilos a cualquier elemento que tenga el atributo. |\n",
    "| `[atributo=\"valor\"]` | Selecciona elementos donde el atributo tiene exactamente el valor especificado. |\n",
    "| `[atributo*=\"valor\"]` | Selecciona elementos donde el atributo contiene el valor especificado en cualquier parte. |\n",
    "\n",
    " **Ejemplo:**\n",
    "\n",
    "```css\n",
    "/* Selecciona todos los elementos con el atributo \"class\" */\n",
    "[class] {\n",
    "  border: 1px solid black;\n",
    "}\n",
    "\n",
    "/* Selecciona elementos con class=\"casa\" */\n",
    "[class=\"casa\"] {\n",
    "  background-color: green;\n",
    "}\n",
    "\n",
    "/* Selecciona elementos con \"meta\" en cualquier parte del atributo href */\n",
    "[href*=\"meta\"] {\n",
    "  color: green;\n",
    "}\n",
    "```\n",
    "**Explicación:**  \n",
    "- La primera regla aplica un borde a todos los elementos con el atributo `class`.  \n",
    "- La segunda regla pone fondo verde a los elementos con `class=\"casa\"`.  \n",
    "- La tercera regla hace que cualquier enlace que contenga la palabra \"meta\" en su `href` sea verde.\n"
   ]
  },
  {
   "cell_type": "markdown",
   "id": "47da4213-2e6b-4c42-9aaf-b73e87a3264c",
   "metadata": {},
   "source": [
    "<h2 style=\"color: #012c5e; font-family: 'Monserrat', serif; font-weight: 700; background-color: #f5f5f5; padding: 10px; border-radius: 8px;\">nth-of-type y nth-child</h2>\n",
    "\n",
    "* *Función*:\n",
    "\n",
    "**Permiten seleccionar un hijo específico dentro de su contenedor.**\n",
    "\n",
    "    1) Son útiles cuando se necesita estilizar elementos según su posición en la jerarquía.\n",
    "\n",
    "**Sintaxis:**  \n",
    "```css\n",
    "elemento:nth-of-type(n) {\n",
    "  propiedad: valor;\n",
    "}\n",
    "\n",
    "elemento:nth-child(n) {\n",
    "  propiedad: valor;\n",
    "}\n",
    "```\n",
    " **Ejemplo:**\n",
    "```css\n",
    "li:nth-of-type(2) {\n",
    "  color: aquamarine;\n",
    "}\n",
    "\n",
    "li:nth-child(2) {\n",
    "  color: aquamarine;\n",
    "}\n",
    "```\n",
    "**Explicación:** Ambos seleccionan el segundo `<li>` dentro de un `<ul>` y le aplican el color aguamarina.\n",
    "\n",
    "\n"
   ]
  },
  {
   "cell_type": "markdown",
   "id": "99c64101-1ac9-49b4-b5f5-20e03e741885",
   "metadata": {},
   "source": [
    "<h2 style=\"color: #012c5e; font-family: 'Monserrat', serif; font-weight: 700; background-color: #f5f5f5; padding: 10px; border-radius: 8px;\">Selector Universal o de Estrella (*)</h2>\n",
    "\n",
    "* *Función*:\n",
    "\n",
    "**Selecciona todos los elementos de la página.**\n",
    "\n",
    "    1) Se usa para aplicar estilos globales o restablecer estilos predeterminados.\n",
    "\n",
    "**Sintaxis:**  \n",
    "```css\n",
    "* {\n",
    "  propiedad: valor;\n",
    "}\n",
    "```\n",
    " **Ejemplo:**\n",
    "```css\n",
    "* {\n",
    "  margin: 0;\n",
    "  padding: 0;\n",
    "}\n",
    "```\n",
    "**Explicación:** Elimina los márgenes y rellenos predeterminados de todos los elementos.\n",
    "\n"
   ]
  },
  {
   "cell_type": "markdown",
   "id": "e074e5ee-ff78-47a1-abae-5b809a4046cd",
   "metadata": {},
   "source": [
    "<h2 style=\"color: #012c5e; font-family: 'Monserrat', serif; font-weight: 700; background-color: #f5f5f5; padding: 10px; border-radius: 8px;\">Selectores de combinación </h2>\n",
    "\n"
   ]
  },
  {
   "cell_type": "markdown",
   "id": "59255cd7-067b-4044-9949-98fd033a24f3",
   "metadata": {},
   "source": [
    "\n",
    "<h3 style=\"color:#013e85; font-family: 'Monserrat'; font-weight: 600;text-align: center;background-color:#fafafa; padding: 10px; border-radius: 8px;\">Selector descendiente </h3>\n",
    "\n",
    "* *Función*:\n",
    "\n",
    "**Selecciona todos los elementos descendientes de un elemento específico, sin importar cuán anidados estén dentro de él.**\n",
    "\n",
    "    1) Se usa cuando se quiere aplicar estilos a todos los elementos dentro de un contenedor determinado.\n",
    "\n",
    "**Sintaxis**\n",
    "```css\n",
    "selector1 selector2 {\n",
    "  propiedad: valor;\n",
    "}\n",
    "```\n",
    "- `selector1`: El elemento contenedor.\n",
    "- `selector2`: Todos los elementos dentro de `selector1` recibirán el estilo.\n",
    "\n",
    "**Ejemplo**\n",
    "```css\n",
    "#blog h1 {\n",
    "  color: blue;\n",
    "}\n",
    "```\n",
    "```html\n",
    "<div id=\"blog\">\n",
    "  <h1>Título del blog</h1>  <!-- Se vuelve azul -->\n",
    "  <div>\n",
    "    <h1>Subtítulo</h1>  <!-- También se vuelve azul -->\n",
    "  </div>\n",
    "</div>\n",
    "```\n",
    "* Todos los elementos `<h1>` dentro de `#blog` se vuelven azules.\n"
   ]
  },
  {
   "cell_type": "markdown",
   "id": "eb10690e-60e5-4429-80d4-5730daf5db30",
   "metadata": {},
   "source": [
    "\n",
    "\n",
    "<h3 style=\"color:#013e85; font-family: 'Monserrat'; font-weight: 600;text-align: center;background-color:#fafafa; padding: 10px; border-radius: 8px;\">Selector hijo </h3>\n",
    "\n",
    "\n",
    "* *Función*:\n",
    "\n",
    "**Selecciona solo los elementos que son hijos directos de un contenedor.**\n",
    "\n",
    "    1) Se usa cuando se quiere aplicar estilos solo a los elementos que están inmediatamente dentro del contenedor, sin afectar a los nietos o bisnietos.\n",
    "\n",
    "**Sintaxis**\n",
    "\n",
    "```css\n",
    "selector1 > selector2 {\n",
    "  propiedad: valor;\n",
    "}\n",
    "```\n",
    "- `selector1`: El elemento padre.\n",
    "- `selector2`: Solo sus hijos directos recibirán el estilo.\n",
    "\n",
    "**Ejemplo**\n",
    "```css\n",
    "#blog > h1 {\n",
    "  color: blue;\n",
    "}\n",
    "```\n",
    "\n",
    "```html\n",
    "<div id=\"blog\">\n",
    "  <h1>Este título se vuelve azul</h1>  <!-- Se vuelve azul -->\n",
    "  <div>\n",
    "    <h1>Este título NO se vuelve azul</h1>  <!-- No se ve afectado -->\n",
    "  </div>\n",
    "</div>\n",
    "```\n",
    "* Solo los `<h1>` que son hijos directos de `#blog` se ven afectados.\n"
   ]
  },
  {
   "cell_type": "markdown",
   "id": "bc9a99ae-edcc-49d3-a77d-49cd41f385de",
   "metadata": {},
   "source": [
    "\n",
    "<h3 style=\"color:#013e85; font-family: 'Monserrat'; font-weight: 600;text-align: center;background-color:#fafafa; padding: 10px; border-radius: 8px;\">Selector general de hermanos (~)</h3>\n",
    "\n",
    "* *Función*:\n",
    "\n",
    "**Selecciona todos los elementos del mismo tipo que aparecen después del elemento de referencia, dentro del mismo nivel de jerarquía.**\n",
    "\n",
    "    1) Se usa cuando se quiere aplicar estilos a todos los elementos hermanos posteriores a un elemento específico.\n",
    "    \n",
    "**Sintaxis**\n",
    "```css\n",
    "selector1 ~ selector2 {\n",
    "  propiedad: valor;\n",
    "}\n",
    "```\n",
    "- `selector1`: El elemento de referencia.\n",
    "- `selector2`: Todos los hermanos del mismo tipo después de `selector1` recibirán el estilo.\n",
    "\n",
    " **Ejemplo**\n",
    "```css\n",
    "h1 ~ p {\n",
    "  color: blue;\n",
    "}\n",
    "```\n",
    "```html\n",
    "<h1>Encabezado</h1>\n",
    "<p>Párrafo 1</p>  <!-- Se vuelve azul -->\n",
    "<p>Párrafo 2</p>  <!-- Se vuelve azul -->\n",
    "<div>Otro elemento</div>\n",
    "<p>Párrafo 3</p>  <!-- Se vuelve azul -->\n",
    "```\n",
    "* Todos los `<p>` que siguen a `<h1>` se vuelven azules.\n"
   ]
  },
  {
   "cell_type": "markdown",
   "id": "8d507f49-2bba-4a33-8199-10ebbb84d381",
   "metadata": {},
   "source": [
    "\n",
    "<h3 style=\"color:#013e85; font-family: 'Monserrat'; font-weight: 600;text-align: center;background-color:#fafafa; padding: 10px; border-radius: 8px;\">Selector de hermanos adyacentes (+)</h3>\n",
    "\n",
    "* *Función*:\n",
    "\n",
    "**Selecciona solo el primer elemento del mismo tipo que aparece inmediatamente después del elemento de referencia**\n",
    "\n",
    "    1) Se usa cuando se quiere aplicar un estilo solo al primer hermano inmediato de un elemento.\n",
    "    \n",
    "**Sintaxis**\n",
    "```css\n",
    "selector1 + selector2 {\n",
    "  propiedad: valor;\n",
    "}\n",
    "```\n",
    "- `selector1`: El elemento de referencia.\n",
    "- `selector2`: Solo el primer hermano inmediato recibirá el estilo.\n",
    "\n",
    " **Ejemplo**\n",
    "```css\n",
    "img + p {\n",
    "  font-size: 12px;\n",
    "  text-align: center;\n",
    "}\n",
    "```\n",
    "```html\n",
    "<img src=\"imagen.jpg\" alt=\"Imagen\">\n",
    "<p>Descripción de la imagen</p>  <!-- Se estiliza -->\n",
    "<p>Otro párrafo</p>  <!-- No se estiliza -->\n",
    "```\n",
    "* Solo el primer `<p>` después de `<img>` se estiliza como una leyenda.\n"
   ]
  },
  {
   "cell_type": "markdown",
   "id": "89d207c6-8555-4068-9c5a-61e5a37ae860",
   "metadata": {},
   "source": [
    "\n",
    "<h3 style=\"color:#013e85; font-family: 'Monserrat'; font-weight: 600;text-align: center;background-color:#fafafa; padding: 10px; border-radius: 8px;\">Selector de hermanos adyacentes (+)</h3>\n",
    "\n",
    "* *Función*:\n",
    "\n",
    "**Selecciona solo el primer elemento del mismo tipo que aparece inmediatamente después del elemento de referencia**\n",
    "\n",
    "    1) Se usa cuando se quiere aplicar un estilo solo al primer hermano inmediato de un elemento.\n",
    "    \n",
    "**Sintaxis**\n",
    "```css\n",
    "selector1 + selector2 {\n",
    "  propiedad: valor;\n",
    "}\n",
    "```\n",
    "- `selector1`: El elemento de referencia.\n",
    "- `selector2`: Solo el primer hermano inmediato recibirá el estilo.\n",
    "\n",
    " **Ejemplo**\n",
    "```css\n",
    "img + p {\n",
    "  font-size: 12px;\n",
    "  text-align: center;\n",
    "}\n",
    "```\n",
    "```html\n",
    "<img src=\"imagen.jpg\" alt=\"Imagen\">\n",
    "<p>Descripción de la imagen</p>  <!-- Se estiliza -->\n",
    "<p>Otro párrafo</p>  <!-- No se estiliza -->\n",
    "```\n",
    "* Solo el primer `<p>` después de `<img>` se estiliza como una leyenda.\n"
   ]
  },
  {
   "cell_type": "markdown",
   "id": "d24ff223-a602-4e23-b0f9-1de2c872cad1",
   "metadata": {},
   "source": [
    "\n",
    "<h4 style=\"color:#013e85; font-family: 'Nunito'; font-weight: 800;background-color:#f8f8f8; padding: 10px; border-radius: 8px;\">Selectores generales y adyacentes </h4>\n",
    "\n",
    "\n",
    "```css\n",
    "div ~ ul {\n",
    "  background-color: white;\n",
    "  box-shadow: 1px 1px 3px gray;\n",
    "}\n",
    "\n",
    "img + p {\n",
    "  font-size: 12px;\n",
    "  text-align: center;\n",
    "}\n",
    "```\n",
    "```html\n",
    "<p>Información sobre el sitio</p>\n",
    "<div>Acerca de</div>\n",
    "<ul>\n",
    "  <li>Elemento 1</li>\n",
    "  <li>Elemento 2</li>\n",
    "</ul> <!-- Se aplica la sombra de caja -->\n",
    "\n",
    "<img src=\"foto.jpg\">\n",
    "<p>Esta es la leyenda de la imagen</p> <!-- Se aplica el estilo de leyenda -->\n",
    "```\n",
    "* La lista `<ul>` después de `<div>` recibe una sombra.  \n",
    "* El primer `<p>` después de `<img>` se estiliza como leyenda.\n",
    "\n"
   ]
  },
  {
   "cell_type": "markdown",
   "id": "a2c9cc3f-fb9e-463a-ad26-29926b1d3fb4",
   "metadata": {},
   "source": [
    "<h2 style=\"color: #012c5e; font-family: 'Monserrat', serif; font-weight: 700; background-color: #f5f5f5; padding: 10px; border-radius: 8px;\">Efectos </h2>\n",
    "\n"
   ]
  },
  {
   "cell_type": "markdown",
   "id": "b25b254b-5914-4d17-b1de-d74352efe06a",
   "metadata": {},
   "source": [
    "\n",
    "<h3 style=\"color:#013e85; font-family: 'Monserrat'; font-weight: 600;text-align: center;background-color:#fafafa; padding: 10px; border-radius: 8px;\">Efecto Hover</h3>\n",
    "\n",
    "* *Función*:\n",
    "\n",
    "**Resalta elementos cuando el usuario pasa el cursor sobre ellos.**\n",
    "\n",
    "**Sintaxis (CSS):**  \n",
    "```css\n",
    ".boton:hover {\n",
    "  background-color: blue;\n",
    "  color: white;\n",
    "  transform: scale(1.1);\n",
    "}\n",
    "```\n",
    "**Ejemplo:**  \n",
    "Cuando el usuario pasa el cursor sobre un botón, este cambia de color y se agranda."
   ]
  },
  {
   "cell_type": "markdown",
   "id": "ec3e35ca-caf3-46f2-be2f-ff060b5714f2",
   "metadata": {},
   "source": [
    "\n",
    "<h3 style=\"color:#013e85; font-family: 'Monserrat'; font-weight: 600;text-align: center;background-color:#fafafa; padding: 10px; border-radius: 8px;\">Cambio de apariencia del cursor</h3>\n",
    "\n",
    "* *Función*:\n",
    "\n",
    "**Personaliza el cursor del usuario para que se vea diferente al predeterminado.**\n",
    "\n",
    "**Sintaxis (CSS):**  \n",
    "```css\n",
    ".elemento {\n",
    "  cursor: pointer; /* Cambia a una mano */\n",
    "}\n",
    "```\n",
    "**Ejemplo:**  \n",
    "Se usa para indicar que un elemento es interactivo."
   ]
  },
  {
   "cell_type": "markdown",
   "id": "2546c381-fe16-4780-8ba4-2bb91e15dce0",
   "metadata": {},
   "source": [
    "\n",
    "<h3 style=\"color:#013e85; font-family: 'Monserrat'; font-weight: 600;text-align: center;background-color:#fafafa; padding: 10px; border-radius: 8px;\">Galerías deslizantes y presentaciones de diapositivas</h3>\n",
    "\n",
    "* *Función*:\n",
    "\n",
    "**Permiten mostrar imágenes o contenido de manera interactiva y ordenada.**\n",
    "\n",
    "**Sintaxis básica (HTML + CSS):**  \n",
    "```html\n",
    "<div class=\"slider\">\n",
    "  <div class=\"slide\">Imagen 1</div>\n",
    "  <div class=\"slide\">Imagen 2</div>\n",
    "</div>\n",
    "```\n",
    "```css\n",
    ".slider {\n",
    "  display: flex; /* Muestra los elementos en fila */\n",
    "  overflow: hidden; /* Oculta las imágenes fuera del contenedor */\n",
    "}\n",
    "\n",
    ".slide {\n",
    "  min-width: 100%; /* Cada imagen ocupa todo el ancho del contenedor */\n",
    "  transition: transform 0.5s ease; /* Transición suave al deslizar */\n",
    "}\n",
    "\n",
    "```\n",
    "**Ejemplo:**  \n",
    "Al presionar un botón, la imagen cambia con una animación suave.\n"
   ]
  },
  {
   "cell_type": "markdown",
   "id": "aae9cc34-3f1e-4667-bfe1-468bbd8eb2c0",
   "metadata": {},
   "source": [
    "\n",
    "<h3 style=\"color:#013e85; font-family: 'Monserrat'; font-weight: 600;text-align: center;background-color:#fafafa; padding: 10px; border-radius: 8px;\">Fondos de video</h3>\n",
    "\n",
    "* *Función*:\n",
    "\n",
    "**Añaden movimiento a la parte superior de una página para captar la atención del usuario.**\n",
    "\n",
    "**Sintaxis (HTML + CSS):**  \n",
    "```html\n",
    "<video autoplay loop muted>\n",
    "  <source src=\"video.mp4\" type=\"video/mp4\">\n",
    "</video>\n",
    "```\n",
    "```css\n",
    "video {\n",
    "  position: fixed; /* Fija el video en la pantalla */\n",
    "  width: 100%; /* Ocupa todo el ancho disponible */\n",
    "  height: auto; /* Ajusta la altura proporcionalmente */\n",
    "}\n",
    "\n",
    "```\n",
    "**Ejemplo:**  \n",
    "Se usa en páginas de presentación o landing pages para dar un efecto visual impactante."
   ]
  },
  {
   "cell_type": "markdown",
   "id": "905909e6-7a37-4b62-8ef0-4d08e9bb4b0a",
   "metadata": {},
   "source": [
    "\n",
    "<h3 style=\"color:#013e85; font-family: 'Monserrat'; font-weight: 600;text-align: center;background-color:#fafafa; padding: 10px; border-radius: 8px;\">Efecto Parallax</h3>\n",
    "\n",
    "* *Función*:\n",
    "\n",
    "**Crea una sensación de profundidad moviendo los elementos en primer plano más rápido que los del fondo.**\n",
    "\n",
    "**Sintaxis (HTML + CSS):**  \n",
    "```css\n",
    ".fondo-parallax {\n",
    "  background-image: url('fondo.jpg'); /* Imagen de fondo */\n",
    "  background-attachment: fixed; /* Mantiene el fondo fijo mientras el contenido se desplaza */\n",
    "  background-size: cover; /* Ajusta el tamaño del fondo al contenedor */\n",
    "}\n",
    "\n",
    "```\n",
    " **Ejemplo:**  \n",
    "Al desplazarse por la página, el fondo se mueve a una velocidad diferente a los elementos en primer plano."
   ]
  },
  {
   "cell_type": "markdown",
   "id": "d8ededf5-b5d2-44d6-9d3d-0d7c82e7e554",
   "metadata": {},
   "source": [
    "\n",
    "<h3 style=\"color:#013e85; font-family: 'Monserrat'; font-weight: 600;text-align: center;background-color:#fafafa; padding: 10px; border-radius: 8px;\">Efecto \"Volver arriba\"</h3>\n",
    "\n",
    "* *Función*:\n",
    "\n",
    "**Añade un botón que permite regresar al inicio de la página rápidamente.**\n",
    "\n",
    "**Sintaxis (HTML + CSS + JavaScript):**  \n",
    "```html\n",
    "<button id=\"volverArriba\">↑</button>\n",
    "```\n",
    "```css\n",
    "#volverArriba {\n",
    "  position: fixed; /* Hace que el botón se mantenga en la misma posición */\n",
    "  bottom: 20px; /* Ubica el botón en la parte inferior */\n",
    "  right: 20px; /* Ubica el botón a la derecha */\n",
    "  display: none; /* Oculta el botón inicialmente */\n",
    "}\n",
    "```\n",
    "```js\n",
    "window.onscroll = function() {\n",
    "  document.getElementById('volverArriba').style.display = 'block'; /* Muestra el botón al hacer scroll */\n",
    "};\n",
    "```\n",
    " **Ejemplo:**  \n",
    "Cuando el usuario baja en la página, aparece un botón para volver al inicio."
   ]
  },
  {
   "cell_type": "markdown",
   "id": "098680fe-d546-4bf6-907b-1e169956a3f3",
   "metadata": {},
   "source": [
    "\n",
    "<h3 style=\"color:#013e85; font-family: 'Monserrat'; font-weight: 600;text-align: center;background-color:#fafafa; padding: 10px; border-radius: 8px;\">Transiciones de elementos y colores</h3>\n",
    "\n",
    "* *Función*:\n",
    "\n",
    "**Hacen que los cambios visuales sean suaves en lugar de bruscos.**\n",
    "\n",
    "**Sintaxis (CSS):**  \n",
    "```css\n",
    ".caja {\n",
    "  background-color: red; /* Color inicial */\n",
    "  transition: background-color 0.5s ease; /* Hace que el cambio de color sea progresivo */\n",
    "}\n",
    "\n",
    ".caja:hover {\n",
    "  background-color: blue; /* Cambia el color cuando el usuario pasa el cursor */\n",
    "}\n",
    "\n",
    "```\n",
    " **Ejemplo:**  \n",
    "Un cuadro cambia de color suavemente cuando el usuario pasa el cursor sobre él.\n"
   ]
  },
  {
   "cell_type": "markdown",
   "id": "88b3e21c-399a-4e4c-8b00-ca7bfea2edef",
   "metadata": {},
   "source": [
    "\n",
    "<h3 style=\"color:#013e85; font-family: 'Monserrat'; font-weight: 600;text-align: center;background-color:#fafafa; padding: 10px; border-radius: 8px;\">Selección de pantalla completa</h3>\n",
    "\n",
    "* *Función*:\n",
    "\n",
    "**Cambia automáticamente de sección a medida que el usuario se desplaza.**\n",
    "\n",
    "**Sintaxis (CSS):**  \n",
    "```css\n",
    ".seccion {\n",
    "  height: 100vh; /* Ocupa el 100% de la altura de la pantalla */\n",
    "  scroll-snap-align: start; /* Asegura que cada sección se detenga correctamente */\n",
    "}\n",
    "\n",
    "```\n",
    " **Ejemplo:**  \n",
    "Se usa en sitios de una sola página donde cada sección ocupa toda la pantalla."
   ]
  },
  {
   "cell_type": "markdown",
   "id": "da1e7389-3b65-422f-83dc-87ebee5b9abb",
   "metadata": {},
   "source": [
    "<h2 style=\"color: #012c5e; font-family: 'Monserrat', serif; font-weight: 700; background-color: #f5f5f5; padding: 10px; border-radius: 8px;\">Efectos de texto </h2>\n",
    "\n"
   ]
  },
  {
   "cell_type": "markdown",
   "id": "452f5fbe-b514-474b-89e4-b788963deacd",
   "metadata": {},
   "source": [
    "\n",
    "<h3 style=\"color:#013e85; font-family: 'Monserrat'; font-weight: 600;text-align: center;background-color:#fafafa; padding: 10px; border-radius: 8px;\">text-overflow (Desbordamiento de Texto)</h3>\n",
    "\n",
    "* *Función*:\n",
    "\n",
    "**Define cómo se maneja el contenido de texto que desborda su contenedor.**\n",
    "\n",
    "    1) Se usa cuando el texto dentro de un contenedor es más grande que el espacio disponible.\n",
    "\n",
    "**Sintaxis (CSS):**  \n",
    "```css\n",
    ".elemento {\n",
    "    white-space: nowrap; /* Evita el salto de línea */\n",
    "    overflow: hidden; /* Oculta el contenido que desborda */\n",
    "    text-overflow: ellipsis; /* Muestra puntos suspensivos (…) */\n",
    "}\n",
    "\n",
    "\n",
    "```\n",
    " **Ejemplo (HTML + CSS + JavaScript):**  \n",
    "```html\n",
    "<div class=\"caja\">Este es un texto muy largo que no cabe en el contenedor</div>\n",
    "\n",
    "```\n",
    "```css\n",
    ".caja {\n",
    "    width: 200px;\n",
    "    white-space: nowrap;\n",
    "    overflow: hidden;\n",
    "    text-overflow: ellipsis;\n",
    "    border: 1px solid black;\n",
    "}\n",
    "```"
   ]
  },
  {
   "cell_type": "markdown",
   "id": "e0ea5794-2f58-40ea-bfe1-d9a9575f3d1c",
   "metadata": {},
   "source": [
    "\n",
    "<h3 style=\"color:#013e85; font-family: 'Monserrat'; font-weight: 600;text-align: center;background-color:#fafafa; padding: 10px; border-radius: 8px;\">text-overflow: clip</h3>\n",
    "\n",
    "* *Función*:\n",
    "\n",
    "**Corta el texto que sobrepasa el contenedor sin agregar puntos suspensivos.**\n",
    "\n",
    "    1) Se usa cuando se quiere truncar el texto sin indicar que hay contenido oculto.\n",
    "\n",
    "**Sintaxis (CSS):**  \n",
    "```css\n",
    ".elemento {\n",
    "    white-space: nowrap; /* Evita el salto de línea */\n",
    "    overflow: hidden; /* Oculta el contenido que desborda */\n",
    "    text-overflow: ellipsis; /* Muestra puntos suspensivos (…) */\n",
    "}\n",
    "\n",
    "\n",
    "```\n",
    " **Ejemplo (HTML + CSS + JavaScript):**  \n",
    "```html\n",
    "<div class=\"caja\">Este es un texto muy largo que no cabe en el contenedor</div>\n",
    "\n",
    "```\n",
    "```css\n",
    ".caja {\n",
    "    width: 200px;            /* Define el ancho del contenedor */\n",
    "    white-space: nowrap;     /* Evita que el texto pase a otra línea */\n",
    "    overflow: hidden;        /* Oculta el contenido que se desborda */\n",
    "    text-overflow: ellipsis; /* Sustituye el texto oculto con '...' */\n",
    "    border: 1px solid black; /* Agrega un borde para visualizar el contenedor */\n",
    "\n",
    "}\n",
    "\n",
    "```\n",
    "* **Explicación:** Cuando el texto es más largo que el width, no se muestra el excedente y se sustituye con ..."
   ]
  },
  {
   "cell_type": "markdown",
   "id": "3b1d3683-d226-4c5a-9ebf-1887073f595f",
   "metadata": {},
   "source": [
    "\n",
    "<h3 style=\"color:#013e85; font-family: 'Monserrat'; font-weight: 600;text-align: center;background-color:#fafafa; padding: 10px; border-radius: 8px;\">Texto Vertical con writing-mode</h3>\n",
    "\n",
    "* *Función*:\n",
    "\n",
    "**Permite mostrar el texto en orientación vertical.**\n",
    "\n",
    "    1) Útil para idiomas como el chino o japonés, o para efectos de diseño.\n",
    "\n",
    "**Sintaxis (CSS):**  \n",
    "```css\n",
    ".elemento {\n",
    "    writing-mode: vertical-rl; \n",
    "}\n",
    "\n",
    "\n",
    "\n",
    "```\n",
    " **Ejemplo (HTML + CSS + JavaScript):**  \n",
    "\n",
    "```html\n",
    "<p class=\"vert\">Texto Vertical</p>\n",
    "\n",
    "\n",
    "```\n",
    "```css\n",
    ".vert {\n",
    "    writing-mode: vertical-rl; /* Gira el texto de arriba hacia abajo, de derecha a izquierda */\n",
    "    border: 1px solid black; /* Borde para visualizar el bloque de texto */\n",
    "    width: 50px; /* Limita el ancho para demostrar el efecto */\n",
    "    height: 150px; /* Altura del contenedor para acomodar el texto */\n",
    "}\n",
    "\n",
    "\n",
    "```\n",
    "* **Explicación:** El texto se mostrará de manera vertical, bajando desde la parte superior del contenedor."
   ]
  },
  {
   "cell_type": "markdown",
   "id": "3e1526a0-ae14-41bc-b960-420b33ff0ccb",
   "metadata": {},
   "source": [
    "\n",
    "<h3 style=\"color:#013e85; font-family: 'Monserrat'; font-weight: 600;text-align: center;background-color:#fafafa; padding: 10px; border-radius: 8px;\">Ajuste de Palabras con word-wrap</h3>\n",
    "\n",
    "* *Función*:\n",
    "\n",
    "**Controla cómo se dividen y ajustan las palabras en un párrafo cuando no caben en la línea.**\n",
    "\n",
    "    1) Evita que el texto desborde su contenedor.\n",
    "\n",
    "\n",
    "**Sintaxis (CSS):**  \n",
    "```css\n",
    ".elemento {\n",
    "    word-wrap: break-word;\n",
    "}\n",
    "\n",
    "\n",
    "```\n",
    " **Ejemplo (HTML + CSS + JavaScript):**  \n",
    "\n",
    "```html\n",
    "<div class=\"texto-ajustado\">\n",
    "    EstaEsUnaPalabraMuyLargaQueNoCabeEnElContenedor\n",
    "</div>\n",
    "\n",
    "```\n",
    "```css\n",
    ".texto-ajustado {\n",
    "    width: 200px; /* Define el ancho del contenedor */   \n",
    "    border: 1px solid black; /* Borde para visualizar el contenedor */\n",
    "    word-wrap: break-word; /* Divide la palabra cuando no cabe en el ancho */\n",
    "}\n",
    "\n",
    "\n",
    "```\n",
    "* **Explicación:** Si una palabra es demasiado larga para ajustarse al contenedor, se dividirá en varias líneas en lugar de desbordarse."
   ]
  },
  {
   "cell_type": "markdown",
   "id": "e5155a1d-da97-4994-ad8e-d5165ef4fc9d",
   "metadata": {},
   "source": [
    "\n",
    "<h3 style=\"color:#013e85; font-family: 'Monserrat'; font-weight: 600;text-align: center;background-color:#fafafa; padding: 10px; border-radius: 8px;\">Sombra de Texto con text-shadow</h3>\n",
    "\n",
    "* *Función*:\n",
    "\n",
    "**Añade sombras al texto para mejorar su apariencia.**\n",
    "\n",
    "    1) Se usa para efectos visuales, como resaltar texto o crear un efecto de neón.\n",
    "\n",
    "\n",
    "**Sintaxis (CSS):**  \n",
    "```css\n",
    ".elemento {\n",
    "    text-shadow: x y desenfoque color;\n",
    "}\n",
    "\n",
    "\n",
    "```\n",
    " **Ejemplo (HTML + CSS + JavaScript):**  \n",
    "\n",
    "```html\n",
    "<h2 class=\"sombra\">Texto con sombra</h2>\n",
    "\n",
    "\n",
    "```\n",
    "```css\n",
    ".sombra {\n",
    "    text-shadow: 3px 3px 5px gray;\n",
    "    /* \n",
    "       3px → Desplazamiento en eje X (horizontal) \n",
    "       3px → Desplazamiento en eje Y (vertical)\n",
    "       5px → Radio de desenfoque de la sombra \n",
    "       gray → Color de la sombra \n",
    "    */\n",
    "}\n",
    "\n",
    "\n",
    "```\n",
    "* **Explicación:** El texto tendrá una sombra desplazada 3px a la derecha y 3px hacia abajo, con un desenfoque de 5px."
   ]
  },
  {
   "cell_type": "markdown",
   "id": "888af03d-c257-45c4-bc82-1f49be53e5c0",
   "metadata": {},
   "source": [
    "\n",
    "<h3 style=\"color:#013e85; font-family: 'Monserrat'; font-weight: 600;text-align: center;background-color:#fafafa; padding: 10px; border-radius: 8px;\">Efecto Brillante con text-shadow</h3>\n",
    "\n",
    "* *Función*:\n",
    "\n",
    "**Crea un efecto de brillo en el texto.**\n",
    "\n",
    "    1) Se usa en títulos llamativos o efectos visuales de neón.\n",
    "\n",
    "\n",
    "**Sintaxis (CSS):**  \n",
    "```css\n",
    ".elemento {\n",
    "    text-shadow: 0 0 5px #fff, 0 0 10px #f0f, 0 0 15px #f0f;\n",
    "}\n",
    "\n",
    "\n",
    "\n",
    "```\n",
    " **Ejemplo (HTML + CSS):**  \n",
    "\n",
    "```html\n",
    "<h2 class=\"brilla\">Texto Brillante</h2>\n",
    "\n",
    "```\n",
    "```css\n",
    ".brilla {\n",
    "    color: white; /* Define el color del texto */\n",
    "    \n",
    "    text-shadow: \n",
    "        0 0 5px #fff,  /* Sombra blanca para suavizar */\n",
    "        0 0 10px #f0f, /* Sombra rosa para el efecto de brillo */\n",
    "        0 0 15px #f0f; /* Mayor intensidad de brillo */\n",
    "}\n",
    "\n",
    "\n",
    "```\n",
    "* **Explicación:** Se aplican múltiples sombras para simular un efecto de brillo neón."
   ]
  },
  {
   "cell_type": "markdown",
   "id": "3da471fe-2959-4db5-a1a3-161c522b0362",
   "metadata": {},
   "source": [
    "<h2 style=\"color: #012c5e; font-family: 'Monserrat', serif; font-weight: 700; background-color: #f5f5f5; padding: 10px; border-radius: 8px;\">Transformación y Transición </h2>\n",
    "\n"
   ]
  },
  {
   "cell_type": "markdown",
   "id": "280b2f1d-e0ca-4ae1-b58e-ff0cb2c12c2a",
   "metadata": {},
   "source": [
    "\n",
    "<h3 style=\"color:#013e85; font-family: 'Monserrat'; font-weight: 600;text-align: center;background-color:#fafafa; padding: 10px; border-radius: 8px;\">Propiedad transform</h3>\n",
    "\n",
    "* *Función*:\n",
    "\n",
    "**La propiedad transform se usa para modificar la posición, tamaño o forma de un elemento en el espacio. Permite aplicar efectos como escalado, rotación, inclinación y traslación.**\n",
    "\n",
    "    1) Se aplica sobre elementos HTML para cambiar su apariencia sin afectar su estructura en el flujo del documento.\n",
    "\n",
    "\n",
    "**Sintaxis General:**  \n",
    "```css\n",
    "selector {\n",
    "  transform: tipoDeTransformacion(valor);\n",
    "}\n",
    "```\n",
    "- `tipoDeTransformacion`: Especifica la transformación que se aplicará al elemento (por ejemplo, `rotate`, `scale`, `skew`, `translate`).  \n",
    "- `valor`: Determina el grado o magnitud de la transformación (grados, píxeles, porcentajes, etc.).  \n",
    "\n",
    " **Componentes y sus funciones:**  \n",
    "| Propiedad           | Descripción |\n",
    "|---------------------|-------------|\n",
    "| `rotate(ángulo)`   | Rota el elemento en el eje Z por los grados especificados. |\n",
    "| `scaleX(factor)`   | Escala el elemento en el eje X. |\n",
    "| `scaleY(factor)`   | Escala el elemento en el eje Y. |\n",
    "| `scale(factor)`    | Escala el elemento en ambos ejes. |\n",
    "| `skewX(ángulo)`    | Inclina el elemento en el eje X. |\n",
    "| `skewY(ángulo)`    | Inclina el elemento en el eje Y. |\n",
    "| `skew(ánguloX, ánguloY)` | Inclina el elemento en ambos ejes. |\n",
    "| `translateX(px)`   | Desplaza el elemento horizontalmente. |\n",
    "| `translateY(px)`   | Desplaza el elemento verticalmente. |\n",
    "| `translate(px, px)` | Desplaza el elemento en ambos ejes. |\n",
    "\n",
    "\n",
    "\n",
    " **Ejemplo (HTML + CSS)**  \n",
    "```css\n",
    ".a {\n",
    "  transform: skewX(20deg); /* Inclina la letra A en el eje X */\n",
    "}\n",
    "\n",
    ".b {\n",
    "  transform: rotate(20deg); /* Rota la letra B en 20 grados */\n",
    "}\n",
    "```\n",
    "- `.a` se inclina en el eje X por 20 grados.  \n",
    "- `.b` rota en el eje Z por 20 grados.  \n"
   ]
  },
  {
   "cell_type": "markdown",
   "id": "ededb5ea-071c-40c0-8d66-341305534c4d",
   "metadata": {},
   "source": [
    "\n",
    "<h3 style=\"color:#013e85; font-family: 'Monserrat'; font-weight: 600;text-align: center;background-color:#fafafa; padding: 10px; border-radius: 8px;\">Propiedad transition</h3>\n",
    "\n",
    "* *Función*:\n",
    "\n",
    "**La propiedad `transition` permite animar cambios en las propiedades CSS de un elemento durante un tiempo determinado, creando un efecto suave en lugar de un cambio instantáneo.**\n",
    "\n",
    "    1) Se usa para animar transformaciones o cambios en las propiedades del elemento cuando ocurre una acción específica, como `hover`.  \n",
    "\n",
    "\n",
    "**Sintaxis General:**  \n",
    "```css\n",
    "selector {\n",
    "  transition: propiedad duración tipo-de-animación retraso;\n",
    "}\n",
    "```\n",
    "- `propiedad`: Propiedad CSS a animar (`transform`, `background-color`, etc.).  \n",
    "- `duración`: Tiempo que tarda la animación (`s`, `ms`).  \n",
    "- `tipo-de-animación` (opcional): Define la curva de velocidad de la animación (`ease`, `linear`, `ease-in`, `ease-out`, `ease-in-out`).  \n",
    "- `retraso` (opcional): Tiempo que espera antes de iniciar la animación.  \n",
    "\n",
    " **Ejemplo (HTML + CSS)**  \n",
    "```css\n",
    ".a, .b {\n",
    "  transition: transform 5s; /* Aplica una transición de 5 segundos a la transformación */\n",
    "}\n",
    "```\n",
    "- La transformación (`skewX` y `rotate`) ocurrirá en 5 segundos, en lugar de ser instantánea.  \n"
   ]
  },
  {
   "cell_type": "markdown",
   "id": "bd75cc58-ce6f-448a-9c38-7debe72c0d36",
   "metadata": {},
   "source": [
    "\n",
    "<h3 style=\"color:#013e85; font-family: 'Monserrat'; font-weight: 600;text-align: center;background-color:#fafafa; padding: 10px; border-radius: 8px;\">hover y transform</h3>\n",
    "\n",
    "\n",
    " **Ejemplo (HTML + CSS)**  \n",
    "```html\n",
    "<div class=\"caja\"></div>\n",
    "```\n",
    "\n",
    "\n",
    "```css\n",
    ".caja {\n",
    "  display: grid; /* Organiza el contenido como una cuadrícula */\n",
    "  width: 240px; /* Establece ancho */\n",
    "  height: 240px; /* Establece altura */\n",
    "  margin: 100px; /* Margen alrededor de la caja */\n",
    "  background-color: rgb(144, 238, 144); /* Color de fondo verde claro */\n",
    "  border-radius: 12px; /* Bordes redondeados */\n",
    "  border: 24px solid #006400; /* Borde verde oscuro */\n",
    "  transition: transform 2s, background-color 2s, opacity 2s; /* Suaviza cambios */\n",
    "}\n",
    "\n",
    ".caja:hover {\n",
    "  transform: rotate(60deg); /* Gira la caja 60 grados */\n",
    "  background-color: coral; /* Cambia el color de fondo */\n",
    "  opacity: 0.5; /* Reduce la opacidad */\n",
    "}\n",
    "\n",
    "```\n"
   ]
  },
  {
   "cell_type": "markdown",
   "id": "598ca74a-e898-47a3-a112-54cbed143b7a",
   "metadata": {},
   "source": [
    "<h2 style=\"color: #012c5e; font-family: 'Monserrat', serif; font-weight: 700; background-color: #f5f5f5; padding: 10px; border-radius: 8px;\">Regla @keyframes</h2>\n",
    "\n",
    "\n",
    "* *Función*:\n",
    "\n",
    "**La regla `@keyframes` se usa para definir animaciones CSS al especificar un nombre y establecer los estados intermedios (`keyframes`) de la animación.**\n",
    "\n",
    "    1) Se usa para controlar los diferentes pasos de una animación, definiendo qué ocurre en distintos momentos de la ejecución.    \n",
    "\n",
    "\n",
    "**Sintaxis General:**  \n",
    "```css\n",
    "@keyframes nombre-de-la-animacion {\n",
    "  from { propiedad: valor-inicial; }\n",
    "  to { propiedad: valor-final; }\n",
    "}\n",
    "\n",
    "```\n",
    "**Explicación de cada propiedad**  \n",
    "- `@keyframes nombre-de-la-animacion`: Define la animación con un nombre específico.  \n",
    "- `from`: Representa el estado inicial de la animación.  \n",
    "- `to`: Representa el estado final de la animación.  \n",
    "\n",
    " **Ejemplo con explicación**  \n",
    "```css\n",
    "@keyframes rotacion {\n",
    "  from { transform: rotate(0deg); }  /* La animación inicia sin rotación */\n",
    "  to { transform: rotate(360deg); } /* La animación termina con una vuelta completa */\n",
    "}\n",
    "```\n",
    "Este `@keyframes` hace que un elemento rote desde 0° hasta 360° en un bucle continuo.\n"
   ]
  },
  {
   "cell_type": "markdown",
   "id": "99cb8189-9032-41c2-b316-0f5c3cb9ce12",
   "metadata": {},
   "source": [
    "<h2 style=\"color: #012c5e; font-family: 'Monserrat', serif; font-weight: 700; background-color: #f5f5f5; padding: 10px; border-radius: 8px;\">Propiedad animation</h2>\n",
    "\n",
    "\n",
    "* *Función*:\n",
    "\n",
    "**La propiedad `animation` se usa para aplicar una animación definida en `@keyframes` a un elemento HTML.**\n",
    "\n",
    "    1) Se aplica a un elemento CSS para que este ejecute la animación con parámetros específicos.  \n",
    "\n",
    "\n",
    "**Sintaxis General:**  \n",
    "```css\n",
    "@keyframes nombre-de-la-animacion {\n",
    "  from { propiedad: valor-inicial; }\n",
    "  to { propiedad: valor-final; }\n",
    "}\n",
    "\n",
    "```\n",
    "**Sintaxis básica con componentes y atributos**  \n",
    "```css\n",
    "selector {\n",
    "  animation: nombre-de-la-animacion duracion tipo-ritmo iteraciones;\n",
    "}\n",
    "```\n",
    " **Explicación de cada propiedad**  \n",
    "- `nombre-de-la-animacion`: Nombre de la animación definida en `@keyframes`.  \n",
    "- `duracion`: Tiempo en segundos o milisegundos que dura una iteración de la animación.  \n",
    "- `tipo-ritmo`: Define cómo se distribuye la velocidad de la animación (ej. `linear`, `ease`, `ease-in`, etc.).  \n",
    "- `iteraciones`: Cantidad de veces que se repite la animación (`infinite` para repetir indefinidamente).  \n",
    "\n",
    " **Ejemplo con explicación**  \n",
    "```css\n",
    ".reloj {\n",
    "  animation: rotacion 60s linear infinite; /* Aplica la animación 'rotacion' */\n",
    "}\n",
    "```\n",
    "- `rotacion`: Es el nombre de la animación definida en `@keyframes`.  \n",
    "- `60s`: La animación dura 60 segundos por ciclo.  \n",
    "- `linear`: La animación mantiene una velocidad constante.  \n",
    "- `infinite`: La animación se repite de forma indefinida.  \n"
   ]
  }
 ],
 "metadata": {
  "kernelspec": {
   "display_name": "Python (venv)",
   "language": "python",
   "name": "venv"
  },
  "language_info": {
   "codemirror_mode": {
    "name": "ipython",
    "version": 3
   },
   "file_extension": ".py",
   "mimetype": "text/x-python",
   "name": "python",
   "nbconvert_exporter": "python",
   "pygments_lexer": "ipython3",
   "version": "3.13.2"
  }
 },
 "nbformat": 4,
 "nbformat_minor": 5
}
