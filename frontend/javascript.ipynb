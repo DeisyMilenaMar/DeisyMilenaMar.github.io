{
 "cells": [
  {
   "cell_type": "markdown",
   "id": "c247f9fe-0c7a-4bef-aa08-f59dcb2a50ac",
   "metadata": {},
   "source": [
    "<h1 style=\"color: #002147; font-family: 'Garamond', serif; font-weight: 600; text-align: center;\">Introducción a JavaScript</h1>"
   ]
  },
  {
   "cell_type": "markdown",
   "id": "73b87692-8996-44e1-9ae7-00790cb8d631",
   "metadata": {},
   "source": [
    "<h2 style=\"color: #012c5e; font-family: 'Monserrat', serif; font-weight: 700; background-color: #f5f5f5; padding: 10px; border-radius: 8px;\">variables var, let y const</h2>\n"
   ]
  },
  {
   "cell_type": "markdown",
   "id": "6ac5d565-9286-4fee-a146-69814c74b485",
   "metadata": {},
   "source": [
    "<h3 style=\"color:#013e85; font-family: 'Monserrat'; font-weight: 500; text-align: center;\"> var</h3>\n"
   ]
  },
  {
   "cell_type": "markdown",
   "id": "ff2a550f-6b24-479e-b03c-af2303cb82be",
   "metadata": {},
   "source": [
    "*Función*:\n",
    "\n",
    "`var` permite declarar una variable que puede ser re-declarada y reasignada.\n",
    "\n",
    "        1) Tiene ámbito de función, lo que significa que es accesible en toda la función donde ha sido declarada.\n",
    "        2) Si se intenta acceder a una variable var antes de que haya sido declarada, devolverá undefined debido a la elevación (hoisting).\n",
    "        3) La variable var se declara en el contexto de ejecución global o de función."
   ]
  },
  {
   "cell_type": "markdown",
   "id": "cafdc45d-9504-40b0-9458-deaf12eeb637",
   "metadata": {},
   "source": [
    "```js\n",
    "// var\n",
    "var user = \"Mary\"; \n",
    "console.log(user); // Output: Mary\n",
    "var user = \"Joanna\"; \n",
    "console.log(user); // Output: Joanna\n",
    "user = \"Mark\"; \n",
    "console.log(user); // Output: Mark"
   ]
  },
  {
   "cell_type": "markdown",
   "id": "8eb613f3-f343-4e88-ad71-a8e79d0ca0a9",
   "metadata": {},
   "source": [
    "<h3 style=\"color:#013e85; font-family: 'Monserrat'; font-weight: 300;text-align: center;\">let</h3>\n"
   ]
  },
  {
   "cell_type": "markdown",
   "id": "71d991eb-bb1c-41ce-bf11-13b80ccaf3e9",
   "metadata": {},
   "source": [
    "*Función*:\n",
    "\n",
    "`let` permite declarar una variable que no puede ser re-declarada en el mismo ámbito.\n",
    "\n",
    "    1) Tiene ámbito de bloque, por lo que solo está disponible dentro del bloque donde fue declarada.\n",
    "    2) Si se intenta acceder a una variable let antes de su declaración, lanzará un ReferenceError.\n",
    "    3) Puede ser reasignada después de la declaración."
   ]
  },
  {
   "cell_type": "markdown",
   "id": "1b9546d1-6d70-487f-8f92-8662f1a85c78",
   "metadata": {},
   "source": [
    "```js\n",
    "// let\n",
    "let name = \"Anna\";\n",
    "console.log(name); // Output: Anna\n",
    "name = \"Sara\"; \n",
    "console.log(name); // Output: Sara\n",
    "// let name = \"John\"; // Error: Identifier 'name' has already been declared"
   ]
  },
  {
   "cell_type": "markdown",
   "id": "3ae4434b-446d-4184-ab3a-57c7b554ba5d",
   "metadata": {},
   "source": [
    "<h3 style=\"color:#013e85; font-family: 'Monserrat'; font-weight: 300;text-align: center;\">const</h3>\n"
   ]
  },
  {
   "cell_type": "markdown",
   "id": "97dba04e-6e1c-42c5-b114-69814490e00e",
   "metadata": {},
   "source": [
    "*Función*:\n",
    "\n",
    "**Las variables declaradas con const tienen ámbito de bloque (block scope).**\n",
    "\n",
    "    1) No pueden ser re-declaradas ni reasignadas.\n",
    "    2) El valor debe ser inicializado en el momento de la declaración.\n",
    "    3) No se puede reasignar un nuevo valor, pero si es un objeto o arreglo, sus propiedades o elementos sí pueden ser modificados.\n"
   ]
  },
  {
   "cell_type": "markdown",
   "id": "ef406445-17c2-4e41-aefc-25a7727e46c9",
   "metadata": {},
   "source": [
    "```js\n",
    "// const\n",
    "const age = 30;\n",
    "console.log(age); // Output: 30\n",
    "// age = 35; // Error: Assignment to constant variable.\n",
    "const userInfo = { name: \"Anna\" };\n",
    "userInfo.name = \"Sara\"; // Esto es permitido porque solo se modifica la propiedad\n",
    "console.log(userInfo.name); // Output: Sara"
   ]
  },
  {
   "cell_type": "markdown",
   "id": "618438ab-dd85-451f-bd14-23d995a1c3e4",
   "metadata": {
    "jp-MarkdownHeadingCollapsed": true
   },
   "source": [
    "<h2 style=\"color: #012c5e; font-family: 'Monserrat', serif; font-weight: 700; background-color: #f5f5f5; padding: 10px; border-radius: 8px;\">Alcance (scope)</h2>\n"
   ]
  },
  {
   "cell_type": "markdown",
   "id": "3a448853-96c2-42b5-b642-04bc6fef867c",
   "metadata": {},
   "source": [
    "<h3 style=\"color:#013e85; font-family: 'Monserrat'; font-weight: 500;text-align: center;\">Global Scope</h3>\n"
   ]
  },
  {
   "cell_type": "markdown",
   "id": "b45a2f30-2511-4048-a17d-0a2d90b15651",
   "metadata": {},
   "source": [
    "*Función*:\n",
    "\n",
    "**El alcance global (global scope) se refiere a cualquier variable o función declarada fuera de una función o bloque**\n",
    "    \n",
    "    1)  Las variables en el alcance global son accesibles desde cualquier parte del código.\n",
    "    2)  Las variables declaradas fuera de una función o bloque tienen un alcance global.\n",
    "    3)  Son accesibles desde cualquier parte del código."
   ]
  },
  {
   "cell_type": "markdown",
   "id": "0106b25d-78f3-4a3d-99c2-5ddfa9d5e209",
   "metadata": {},
   "source": [
    "```js\n",
    "var globalVariable = value;\n",
    "let globalVariable = value;\n",
    "const globalVariable = value;"
   ]
  },
  {
   "cell_type": "markdown",
   "id": "bbb35eb4-3289-4518-b9bc-cc1cbb5d25d2",
   "metadata": {},
   "source": [
    "<h5 style=\"color:#012c5e; font-family: 'Nunito'; font-weight: 400;\">Ejemplo</h5>\n"
   ]
  },
  {
   "cell_type": "markdown",
   "id": "45862248-6586-44f4-bc74-1506300ae937",
   "metadata": {},
   "source": [
    "```js\n",
    "// Global Scope\n",
    "let globalVariable = 'I am global';\n",
    "\n",
    "function exampleFunction() {\n",
    "    console.log(globalVariable); // Accessible desde dentro de la función\n",
    "}"
   ]
  },
  {
   "cell_type": "markdown",
   "id": "08e9851f-6be0-40fa-90a4-ae74b9efb530",
   "metadata": {},
   "source": [
    "<h3 style=\"color:#013e85; font-family: 'Monserrat'; font-weight: 500;text-align: center;\">Local Scope (Function Scope)</h3>\n"
   ]
  },
  {
   "cell_type": "markdown",
   "id": "04666235-efe0-4b88-9f71-3bba9585307e",
   "metadata": {},
   "source": [
    "*Función*:\n",
    "\n",
    "**El alcance local (local scope o function scope) se refiere a las variables declaradas dentro de una función.**\n",
    "\n",
    "     1) Estas variables solo son accesibles dentro de la función en la que fueron creadas."
   ]
  },
  {
   "cell_type": "markdown",
   "id": "df3e4cb9-3572-4a3b-b542-df1ca5dd5b91",
   "metadata": {},
   "source": [
    "```js\n",
    "function exampleFunction() {\n",
    "    let localVariable = 'I am local';\n",
    "    let localVariable = value;\n",
    "    const localVariable = value;\n",
    "    console.log(localVariable); // ✅ Accesible dentro de la función\n",
    "}\n",
    "\n",
    "console.log(localVariable); // ❌ Error: No accesible fuera de la función"
   ]
  },
  {
   "cell_type": "markdown",
   "id": "fe473f96-115e-41c6-9fb9-833c3b53a824",
   "metadata": {},
   "source": [
    "<h3 style=\"color:#013e85; font-family: 'Monserrat'; font-weight: 500;text-align: center;\">Block Scope</h3>\n"
   ]
  },
  {
   "cell_type": "markdown",
   "id": "2233be96-7637-485a-bf1d-020e0cf09b65",
   "metadata": {},
   "source": [
    "*Función:*\n",
    "\n",
    "**El alcance de bloque (block scope) se refiere a las variables declaradas con let o const dentro de un bloque {}.**\n",
    "\n",
    "    1) Estas variables solo son accesibles dentro del bloque donde fueron declaradas.\n",
    "    2) Las variables declaradas con let o const están limitadas al bloque donde fueron creadas (entre {}).\n",
    "    3) Esto incluye bloques if, for, while, etc"
   ]
  },
  {
   "cell_type": "markdown",
   "id": "1651fd04-9dfc-48b4-a5d8-41063bbeec69",
   "metadata": {},
   "source": [
    "```js\n",
    "{\n",
    "    let blockVariable = value;\n",
    "    const blockVariable = value;\n",
    "}"
   ]
  },
  {
   "cell_type": "markdown",
   "id": "3fe3ffbe-04eb-4cef-bbe4-9221363fe5b9",
   "metadata": {},
   "source": [
    "<h5 style=\"color:#012c5e; font-family: 'Nunito'; font-weight: 400;\">Ejemplo</h5>\n"
   ]
  },
  {
   "cell_type": "markdown",
   "id": "5aadb36c-9cd4-43e0-9e53-baa9fc425560",
   "metadata": {},
   "source": [
    "```js\n",
    "{\n",
    "    let blockVariable = 'I am in a block';\n",
    "    console.log(blockVariable); // ✅ Accesible dentro del bloque\n",
    "}\n",
    "\n",
    "console.log(blockVariable); // ❌ Error: No accesible fuera del bloque"
   ]
  },
  {
   "cell_type": "markdown",
   "id": "32ecd66c-5bfe-4c52-91f4-45603ebd2017",
   "metadata": {},
   "source": [
    "<h3 style=\"color:#013e85; font-family: 'Monserrat'; font-weight: 500;text-align: center;\">Scope Chain</h3>\n"
   ]
  },
  {
   "cell_type": "markdown",
   "id": "f22dc62a-9c80-4501-acbf-d190c5fd90e7",
   "metadata": {},
   "source": [
    "*Función*:\n",
    "\n",
    "**La cadena de alcance (scope chain) permite que una función acceda a las variables definidas en un ámbito superior (padre).**\n",
    "\n",
    "     1) Si una variable no está definida en el ámbito actual, JavaScript buscará en los ámbitos superiores hasta encontrarla o llegar al ámbito global."
   ]
  },
  {
   "cell_type": "markdown",
   "id": "d1cd456e-8d71-43be-9855-05db0427cd89",
   "metadata": {},
   "source": [
    "```js\n",
    "let outerVariable = 'I am outer';\n",
    "\n",
    "function outerFunction() {\n",
    "    let innerVariable = 'I am inner';\n",
    "\n",
    "\n",
    "    function innerFunction() {\n",
    "        console.log(outerVariable); // ✅ Busca en el ámbito superior\n",
    "        console.log(innerVariable); // ✅ Busca en el ámbito superior inmediato\n",
    "    }\n",
    "\n",
    "\n",
    "    innerFunction();\n",
    "}"
   ]
  },
  {
   "cell_type": "markdown",
   "id": "c9a761be-1abc-454f-9dd1-50473e7b8259",
   "metadata": {},
   "source": [
    "<h2 style=\"color: #012c5e; font-family: 'Monserrat', serif; font-weight: 700; background-color: #f5f5f5; padding: 10px; border-radius: 8px;\">Tipos de datos</h2>\n"
   ]
  },
  {
   "cell_type": "markdown",
   "id": "ab3d1ff9-e10e-421e-9ae0-fda0d52237f3",
   "metadata": {},
   "source": [
    "<h3 style=\"color:#013e85; font-family: 'Monserrat'; font-weight: 500;text-align: center;\">Variables</h3>\n"
   ]
  },
  {
   "cell_type": "markdown",
   "id": "09e8c714-ef3f-47ad-a73e-4a8c8941fc4e",
   "metadata": {},
   "source": [
    "```js\n",
    "// Declaración de variables con var, let y const\n",
    "var variableName = value;    // declaración con var\n",
    "let variableName = value;    // declaración con let\n",
    "const variableName = value;  // declaración con const"
   ]
  },
  {
   "cell_type": "markdown",
   "id": "874ba3bc-7c0f-4c24-ae0e-e3145fa3b1ef",
   "metadata": {},
   "source": [
    "*Reglas de nombres para variables:*\n",
    "\n",
    "**Deben comenzar con una letra (a-z, A-Z), guión bajo (_) o signo de dólar ($).**\n",
    "    \n",
    "    1) No pueden ser palabras reservadas.\n",
    "    2) Son sensibles a mayúsculas y minúsculas (myVar ≠ myvar)."
   ]
  },
  {
   "cell_type": "markdown",
   "id": "ae8bebaf-baba-4c56-9c42-734094fdb464",
   "metadata": {},
   "source": [
    "<h3 style=\"color:#013e85; font-family: 'Monserrat'; font-weight: 500;text-align: center;\">Datos primitivos</h3>\n"
   ]
  },
  {
   "cell_type": "markdown",
   "id": "dc4d29fd-320a-43f5-b68e-5a987b24c325",
   "metadata": {},
   "source": [
    "```js\n",
    "// String\n",
    "let stringValue = \"Text\";\n",
    "\n",
    "// Number\n",
    "let numberValue = 123;\n",
    "\n",
    "\n",
    "// Boolean\n",
    "let booleanValue = true; // o false\n",
    "\n",
    "\n",
    "// Null\n",
    "let nullValue = null;\n",
    "\n",
    "\n",
    "// Undefined\n",
    "let undefinedValue = undefined;\n",
    "\n",
    "\n",
    "// BigInt\n",
    "let bigIntValue = 12345678901234567890n;\n",
    "\n",
    "\n",
    "// Symbol\n",
    "let symbolValue = Symbol(\"description\");"
   ]
  },
  {
   "cell_type": "markdown",
   "id": "355149b6-ba63-487a-8209-2cd6d1222620",
   "metadata": {},
   "source": [
    "**Componentes y atributos**\n",
    "\n",
    "* `Null` : Representa una ausencia intencional de valor (valor vacío).\n",
    "* `Undefined` : Representa una variable que ha sido declarada pero no definida.\n",
    "* `BigInt`:Permite almacenar números muy grandes (superiores a Number.MAX_SAFE_INTEGER).\n",
    "* `Symbol`: Representa un valor único e inmutable (usado para identificadores únicos)"
   ]
  },
  {
   "cell_type": "markdown",
   "id": "8192aa45-3f12-4451-9521-589da4bf323a",
   "metadata": {},
   "source": [
    "<h5 style=\"color:#012c5e; font-family: 'Nunito'; font-weight: 400;\">Ejemplo</h5>\n"
   ]
  },
  {
   "cell_type": "markdown",
   "id": "739212fa-72ed-433b-97dd-e8ceadd20740",
   "metadata": {},
   "source": [
    "```js\n",
    "let productName = \"Guitar\"; // String\n",
    "let price = 375;            // Number\n",
    "let isAvailable = true;     // Boolean\n",
    "let discount = null;        // Null\n",
    "let id;                     // Undefined\n",
    "let largeNumber = 12345678901234567890n; // BigInt\n",
    "let uniqueID = Symbol(\"id\"); // Symbol"
   ]
  },
  {
   "cell_type": "markdown",
   "id": "1cb0a714-41ed-4f74-902e-d9c895267a59",
   "metadata": {
    "jp-MarkdownHeadingCollapsed": true
   },
   "source": [
    "<h3 style=\"color:#013e85; font-family: 'Monserrat'; font-weight: 500;text-align: center;\">Objects y arrays</h3>\n"
   ]
  },
  {
   "cell_type": "markdown",
   "id": "49db0f48-89f1-477c-88ae-ee1be21c818d",
   "metadata": {},
   "source": [
    "```js\n",
    "// Object\n",
    "let objectName = {\n",
    "  key1: value1,\n",
    "  key2: value2,\n",
    "  key3: value3\n",
    "};\n",
    "\n",
    "// Array\n",
    "let arrayName = [value1, value2, value3];"
   ]
  },
  {
   "cell_type": "markdown",
   "id": "96d25016-b9d5-45d1-b397-103af78aeb07",
   "metadata": {},
   "source": [
    "<h5 style=\"color:#012c5e; font-family: 'Nunito'; font-weight: 400;\">Ejemplo</h5>\n"
   ]
  },
  {
   "cell_type": "markdown",
   "id": "ffe4b08b-6c99-401e-a83a-603fb6b9f8af",
   "metadata": {},
   "source": [
    "```js\n",
    "let guitar = {\n",
    "  name: \"Stratocaster\",\n",
    "  brand: \"Fender\",\n",
    "  price: 1500\n",
    "};\n",
    "\n",
    "let guitarModels = [\"Stratocaster\", \"Telecaster\", \"Les Paul\"];"
   ]
  },
  {
   "cell_type": "markdown",
   "id": "583c020b-4e21-4231-b49b-3ddc9358d2f7",
   "metadata": {
    "jp-MarkdownHeadingCollapsed": true
   },
   "source": [
    "<h3 style=\"color:#013e85; font-family: 'Monserrat'; font-weight: 500;text-align: center;\">Operadores de Asignación</h3>\n"
   ]
  },
  {
   "cell_type": "markdown",
   "id": "a917138c-bf7d-4746-b812-8f34cebcc3d7",
   "metadata": {},
   "source": [
    "\n",
    "*Función:*\n",
    "\n",
    "**Los operadores de asignación permiten asignar valores a las variables.**"
   ]
  },
  {
   "cell_type": "markdown",
   "id": "04ec0fa1-522f-466d-a488-b94dd2b4fc3e",
   "metadata": {},
   "source": [
    "```js\n",
    "// Sintaxis general de operadores de asignación\n",
    "variable = valor;  //   Suma y asigna el resultado\n",
    "variable += valor; //   Resta y asigna el resultado\n",
    "variable -= valor; //   Multiplica y asigna el resultado\n",
    "variable *= valor; // \tMultiplica y asigna el resultado\n",
    "variable /= valor; //   Divide y asigna el resultado\n",
    "variable %= valor; //   Asigna el resto de una división\n",
    "variable **= valor; //  Asigna el resultado de una potenciación"
   ]
  },
  {
   "cell_type": "markdown",
   "id": "1ff19b4e-23af-4174-b3ca-d9e65036df71",
   "metadata": {},
   "source": [
    "<h5 style=\"color:#012c5e; font-family: 'Nunito'; font-weight: 400;\">Ejemplo</h5>\n"
   ]
  },
  {
   "cell_type": "markdown",
   "id": "f7171faf-cff4-40ba-a635-1e02c225c60b",
   "metadata": {},
   "source": [
    "```js\n",
    "// Assignment Operators\n",
    "let x = 10;\n",
    "x += 5; // x = x + 5 -> x = 15"
   ]
  },
  {
   "cell_type": "markdown",
   "id": "54466c2a-dc4e-45aa-8850-a9349b5429a2",
   "metadata": {
    "jp-MarkdownHeadingCollapsed": true
   },
   "source": [
    "<h3 style=\"color:#013e85; font-family: 'Monserrat'; font-weight: 500;text-align: center;\">Operadores Aritméticos</h3>\n"
   ]
  },
  {
   "cell_type": "markdown",
   "id": "79e26559-c1ce-46e1-9bee-e1f8e0b26cda",
   "metadata": {},
   "source": [
    "*Función:*\n",
    "\n",
    "**Los operadores aritméticos permiten realizar operaciones matemáticas básicas sobre valores numéricos.**"
   ]
  },
  {
   "cell_type": "markdown",
   "id": "20305338-bcf8-4301-ae48-8065fe6942f9",
   "metadata": {},
   "source": [
    "```js\n",
    "// Sintaxis general de operadores aritméticos\n",
    "resultado = valor1 + valor2; // Suma\n",
    "resultado = valor1 - valor2; // Resta\n",
    "resultado = valor1 * valor2; // Multiplicación\n",
    "resultado = valor1 / valor2; // División\n",
    "resultado = valor1 % valor2; // Módulo (resto de una división)\n",
    "resultado = valor1 ** valor2; // Potencia"
   ]
  },
  {
   "cell_type": "markdown",
   "id": "6f851640-37e8-405b-b0d0-d8694a30f164",
   "metadata": {},
   "source": [
    "<h5 style=\"color:#012c5e; font-family: 'Nunito'; font-weight: 400;\">Ejemplo</h5>\n"
   ]
  },
  {
   "cell_type": "markdown",
   "id": "93bd01c8-6742-4bd2-9fac-f88994d89207",
   "metadata": {},
   "source": [
    "```js\n",
    "// Arithmetic Operators\n",
    "let sum = 10 + 5; // 15\n",
    "let difference = 10 - 5; // 5\n",
    "let product = 10 * 5; // 50\n",
    "let quotient = 10 / 5; // 2\n",
    "let remainder = 10 % 3; // 1\n",
    "let power = 2 ** 3; // 8"
   ]
  },
  {
   "cell_type": "markdown",
   "id": "8c7257dd-ffdd-4c46-828d-f1a716bf8663",
   "metadata": {
    "jp-MarkdownHeadingCollapsed": true
   },
   "source": [
    "<h3 style=\"color:#013e85; font-family: 'Monserrat'; font-weight: 500;text-align: center;\">Operadores de Comparación</h3>\n"
   ]
  },
  {
   "cell_type": "markdown",
   "id": "5f5d2519-d69d-4c77-94de-24b68e18c71c",
   "metadata": {},
   "source": [
    "*Función:*\n",
    "\n",
    "**Los operadores de comparación permiten comparar valores y devuelven un valor booleano (true o false).**"
   ]
  },
  {
   "cell_type": "markdown",
   "id": "9e4fc7ba-07f2-423e-97a5-bd2ea3fa5f6f",
   "metadata": {},
   "source": [
    "```js\n",
    "// Sintaxis general de operadores de comparación\n",
    "resultado = valor1 == valor2; // Igualdad (compara valor)\n",
    "resultado = valor1 === valor2; // Igualdad estricta (compara valor y tipo)\n",
    "resultado = valor1 != valor2; // Desigualdad\n",
    "resultado = valor1 !== valor2; // Desigualdad estricta\n",
    "resultado = valor1 > valor2; // Mayor que\n",
    "resultado = valor1 < valor2; // Menor que\n",
    "resultado = valor1 >= valor2; // Mayor o igual que\n",
    "resultado = valor1 <= valor2; // Menor o igual que"
   ]
  },
  {
   "cell_type": "markdown",
   "id": "5f623c7f-8be3-4696-b253-e8fd0636e511",
   "metadata": {},
   "source": [
    "<h5 style=\"color:#012c5e; font-family: 'Nunito'; font-weight: 400;\">Ejemplo</h5>\n"
   ]
  },
  {
   "cell_type": "markdown",
   "id": "be4417ca-265b-4d94-a94e-7b1fe72349e5",
   "metadata": {},
   "source": [
    "```js\n",
    "// Comparison Operators\n",
    "console.log(10 == '10'); // true (compara valor)\n",
    "console.log(10 === '10'); // false (compara valor y tipo)\n",
    "console.log(10 != '10'); // false\n",
    "console.log(10 !== '10'); // true\n",
    "console.log(10 > 5); // true\n",
    "console.log(10 < 5); // false\n",
    "console.log(10 >= 10); // true\n",
    "console.log(5 <= 10); // true"
   ]
  },
  {
   "cell_type": "markdown",
   "id": "b9978c3f-1d5a-4be9-944d-5b5e288819d7",
   "metadata": {
    "jp-MarkdownHeadingCollapsed": true
   },
   "source": [
    "<h3 style=\"color:#013e85; font-family: 'Monserrat'; font-weight: 500;text-align: center;\">Operadores Lógicos</h3>\n"
   ]
  },
  {
   "cell_type": "markdown",
   "id": "c62a0de6-0ff0-4f74-b04c-4ea99f121423",
   "metadata": {},
   "source": [
    "*Función:*\n",
    "\n",
    "**Los operadores lógicos permiten realizar evaluaciones entre valores booleanos (true o false).**"
   ]
  },
  {
   "cell_type": "markdown",
   "id": "3396042d-5855-43cb-96d6-21a2e01241a6",
   "metadata": {},
   "source": [
    "```js\n",
    "// Sintaxis general de operadores lógicos\n",
    "resultado = condicion1 && condicion2; // AND Devuelve true si ambas condiciones son verdaderas.\n",
    "resultado = condicion1 || condicion2; // OR Devuelve true si al menos una condición es verdadera.\n",
    "resultado = !condicion;              // NOT   Invierte el valor de la condición (true a false y false a true)."
   ]
  },
  {
   "cell_type": "markdown",
   "id": "8c9bd0b2-4e65-4cf9-aa7c-0e3fe47fc939",
   "metadata": {},
   "source": [
    "<h5 style=\"color:#012c5e; font-family: 'Nunito'; font-weight: 400;\">Ejemplo</h5>\n"
   ]
  },
  {
   "cell_type": "markdown",
   "id": "ccdd4720-860e-4ff3-a001-33b2abd6519b",
   "metadata": {},
   "source": [
    "```js\n",
    "// Logical Operators\n",
    "let a = 6;\n",
    "let b = 8;\n",
    "console.log(a > 5 && b < 10); // true (ambas condiciones son verdaderas)\n",
    "console.log(a > 10 || b < 10); // true (una condición es verdadera)\n",
    "console.log(!(a > 10)); // true (invierte el valor booleano)"
   ]
  },
  {
   "cell_type": "markdown",
   "id": "8a0175aa-bdd6-4585-b9ab-0e31a29e6dad",
   "metadata": {
    "jp-MarkdownHeadingCollapsed": true
   },
   "source": [
    "<h3 style=\"color:#013e85; font-family: 'Monserrat'; font-weight: 500;text-align: center;\">Operadores unarios</h3>\n"
   ]
  },
  {
   "cell_type": "markdown",
   "id": "d280265a-b788-481f-b873-43d54b66a7cb",
   "metadata": {},
   "source": [
    "*Función:*\n",
    "\n",
    "**Modifican el valor de una variable directamente.**"
   ]
  },
  {
   "cell_type": "markdown",
   "id": "7807d251-4b28-46aa-acbc-b868b2a6a69c",
   "metadata": {},
   "source": [
    "```js\n",
    "variable++; // Incrementa el valor de una variable en 1.\n",
    "variable--; //  Decrementa el valor de una variable en 1."
   ]
  },
  {
   "cell_type": "markdown",
   "id": "b30e60d9-6948-4fe2-8341-601e804e4b4f",
   "metadata": {},
   "source": [
    "<h5 style=\"color:#012c5e; font-family: 'Nunito'; font-weight: 400;\">Ejemplo</h5>\n"
   ]
  },
  {
   "cell_type": "markdown",
   "id": "8c775e93-d5bc-4a01-80bd-fa8a7c0f83f2",
   "metadata": {},
   "source": [
    "```js\n",
    "let count = 1;\n",
    "count++; // Resultado: 2"
   ]
  },
  {
   "cell_type": "markdown",
   "id": "8f41a7c0-9528-49a2-9168-fb5ca62fa938",
   "metadata": {
    "jp-MarkdownHeadingCollapsed": true
   },
   "source": [
    "<h3 style=\"color:#013e85; font-family: 'Monserrat'; font-weight: 500;text-align: center;\">typeof Operator</h3>\n"
   ]
  },
  {
   "cell_type": "markdown",
   "id": "3fb1c952-8267-4c45-a696-cf5f08271212",
   "metadata": {},
   "source": [
    "*Función:*\n",
    "\n",
    "**Devuelve el tipo de dato de una variable o valor.**"
   ]
  },
  {
   "cell_type": "markdown",
   "id": "3ada9cd9-9c46-4e47-bc11-338a8d393577",
   "metadata": {},
   "source": [
    "```js\n",
    "typeof value;"
   ]
  },
  {
   "cell_type": "markdown",
   "id": "f1c2811a-0075-4492-9a25-a3757bb76a47",
   "metadata": {},
   "source": [
    "<h5 style=\"color:#012c5e; font-family: 'Nunito'; font-weight: 400;\">Ejemplo</h5>\n"
   ]
  },
  {
   "cell_type": "markdown",
   "id": "02907d38-cd73-4992-a4e8-dc1a9044ce93",
   "metadata": {},
   "source": [
    "```js\n",
    "let type = typeof \"Hello\"; // Resultado: \"string\""
   ]
  },
  {
   "cell_type": "markdown",
   "id": "da909f4c-65af-4a64-a080-f60cce0968d6",
   "metadata": {},
   "source": [
    "<h3 style=\"color:#013e85; font-family: 'Monserrat'; font-weight: 500;text-align: center;\">strings</h3>\n"
   ]
  },
  {
   "cell_type": "markdown",
   "id": "c553767a-f439-45bd-8a72-cbd0f78d7a6d",
   "metadata": {},
   "source": [
    "---\n",
    "\n",
    "\n",
    "| Método         | Descripción                                        | Sintaxis                        | Ejemplo                               |\n",
    "|---------------|------------------------------------------------|--------------------------------|----------------------------------|\n",
    "| `length`      | Propiedad que devuelve la longitud de la cadena  | `string.length`               | `\"Hello\".length` → `5`         |\n",
    "| `charAt()`    | Devuelve el carácter en un índice específico    | `string.charAt(índice)`       | `\"Hello\".charAt(0)` → `'H'`    |\n",
    "| `concat()`    | Une dos o más cadenas                          | `string.concat(string2, ...)` | `\"Hello\".concat(\" World\")`     |\n",
    "| `indexOf()`   | Devuelve la posición de la primera aparición de un substring | `string.indexOf(substring)`   | `\"hello-world\".indexOf('o')` → `4` |\n",
    "| `lastIndexOf()` | Devuelve la posición de la última aparición de un substring | `string.lastIndexOf(substring)` | `\"hello-hello\".lastIndexOf('o')` → `9` |\n",
    "| `split()`     | Divide la cadena en un array de subcadenas     | `string.split(separador)`     | `\"ho-ho-ho\".split(\"-\")` → `['ho','ho','ho']` |\n",
    "| `toUpperCase()` | Convierte la cadena a mayúsculas             | `string.toUpperCase()`        | `\"hello\".toUpperCase()` → `\"HELLO\"` |\n",
    "| `toLowerCase()` | Convierte la cadena a minúsculas             | `string.toLowerCase()`        | `\"HELLO\".toLowerCase()` → `\"hello\"` |\n"
   ]
  },
  {
   "cell_type": "markdown",
   "id": "399b25af-10ed-47d0-94e2-9efcd1d8d2b4",
   "metadata": {},
   "source": [
    "<h3 style=\"color:#013e85; font-family: 'Monserrat'; font-weight: 500;text-align: center;\">Booleans</h3>\n"
   ]
  },
  {
   "cell_type": "markdown",
   "id": "f9a415bb-10e8-4e84-855d-0bb20751fb0d",
   "metadata": {},
   "source": [
    "```js\n",
    "// Igualdad\n",
    "valor1 == valor2;  // Igualdad de valor\n",
    "valor1 === valor2; // Igualdad de valor y tipo\n",
    "\n",
    "// Desigualdad\n",
    "valor1 != valor2;  // Desigualdad de valor\n",
    "valor1 !== valor2; // Desigualdad de valor y tipo\n",
    "\n",
    "\n",
    "// Comparación mayor/menor\n",
    "valor1 > valor2;   // Mayor que\n",
    "valor1 < valor2;   // Menor que\n",
    "valor1 >= valor2;  // Mayor o igual que\n",
    "valor1 <= valor2;  // Menor o igual que"
   ]
  },
  {
   "cell_type": "markdown",
   "id": "7f15e829-5167-4be8-8e11-4f29e8504999",
   "metadata": {},
   "source": [
    "<h2 style=\"color: #012c5e; font-family: 'Monserrat', serif; font-weight: 700; background-color: #f5f5f5; padding: 10px; border-radius: 8px;\">Condicionales</h2>\n"
   ]
  },
  {
   "cell_type": "markdown",
   "id": "42f3ecd2-abc3-4f93-a6a0-91969a029d90",
   "metadata": {
    "jp-MarkdownHeadingCollapsed": true
   },
   "source": [
    "<h3 style=\"color:#013e85; font-family: 'Monserrat'; font-weight: 500;text-align: center;\">if statement</h3>\n"
   ]
  },
  {
   "cell_type": "markdown",
   "id": "8bfbc7db-9da0-40c0-bd07-9c8f56b5d546",
   "metadata": {},
   "source": [
    "```js\n",
    "if (condition) {\n",
    "    // Code to execute if the condition is true\n",
    "}"
   ]
  },
  {
   "cell_type": "markdown",
   "id": "ca4ae8b2-461b-44e0-8dc4-37e522b4fce4",
   "metadata": {},
   "source": [
    "**Componentes y atributos**\n",
    "\n",
    "* *`(condition)`*: Expresión que evalúa una condición y devuelve true o false.\n",
    "* *`{ }`*: Bloque de código que se ejecutará si la condición es verdadera (true)."
   ]
  },
  {
   "cell_type": "markdown",
   "id": "b932a015-5a3c-4a7c-b4d0-94831b2298bb",
   "metadata": {
    "jp-MarkdownHeadingCollapsed": true
   },
   "source": [
    "<h3 style=\"color:#013e85; font-family: 'Monserrat'; font-weight: 500;text-align: center;\">if-else statement</h3>\n"
   ]
  },
  {
   "cell_type": "markdown",
   "id": "8c761801-f90b-47e2-926c-d098592723a1",
   "metadata": {},
   "source": [
    "*Función:*\n",
    "\n",
    "**Evalúa múltiples condiciones secuencialmente.**\n",
    "    \n",
    "    1) Si la primera condición es true, ejecuta el código asociado a if.\n",
    "    2) Si la primera condición es false, evalúa la condición else if.\n",
    "    3) Si else if es true, ejecuta el código asociado.\n",
    "    4) Si ninguna condición es true, ejecuta el bloque else."
   ]
  },
  {
   "cell_type": "markdown",
   "id": "356c8a17-e0a3-4a14-abc8-5773779f03c0",
   "metadata": {},
   "source": [
    "```js\n",
    "if (condition1) {\n",
    "    // Code to execute if condition1 is true\n",
    "} else if (condition2) {\n",
    "    // Code to execute if condition1 is false and condition2 is true\n",
    "} else {\n",
    "    // Code to execute if both condition1 and condition2 are false\n",
    "}"
   ]
  },
  {
   "cell_type": "markdown",
   "id": "5401e9ba-e624-427a-967a-cc6a977153af",
   "metadata": {},
   "source": [
    "**Componentes y atributos**\n",
    "\n",
    "* *`(condition1)`*: Expresión que evalúa la primera condición y devuelve true o false.\n",
    "* *`{ }`*: Bloque de código que se ejecutará si la condición es verdadera (true).\n",
    "* *`else if`*: Palabra clave que define una condición adicional que se evaluará si la primera condición es falsa.\n",
    "* *`(condition2)`* : Expresión que evalúa la segunda condición y devuelve true o false.\n",
    "* *`{ }`*: Bloque de código que se ejecutará si la segunda condición es verdadera (true)."
   ]
  },
  {
   "cell_type": "markdown",
   "id": "8760d614-7e5c-4510-9de8-dea0e4522be9",
   "metadata": {},
   "source": [
    "<h5 style=\"color:#012c5e; font-family: 'Nunito'; font-weight: 400;\">Ejemplo</h5>\n"
   ]
  },
  {
   "cell_type": "markdown",
   "id": "cca238f8-f7a0-45c5-97dc-50e945a5da24",
   "metadata": {},
   "source": [
    "```js\n",
    "var place = \"first\";\n",
    "\n",
    "if (place ==\"first\") {\n",
    "    console.log(\"gold medal\");\n",
    "} else if (place ==\"second\") {\n",
    "    console.log(\"silver medal\");\n",
    "} else if (place ==\"third\") {\n",
    "    console.log(\"bronze medal\");\n",
    "} else {\n",
    "    console.log(\"no medal\");\n",
    "}"
   ]
  },
  {
   "cell_type": "markdown",
   "id": "e2acc11d-3512-4b0c-b1a1-a0336ae1bbf3",
   "metadata": {
    "jp-MarkdownHeadingCollapsed": true
   },
   "source": [
    "<h3 style=\"color:#013e85; font-family: 'Monserrat'; font-weight: 500;text-align: center;\">switch statement</h3>\n"
   ]
  },
  {
   "cell_type": "markdown",
   "id": "c97c84ac-cd52-4a33-baea-aa33380e6ae5",
   "metadata": {},
   "source": [
    "*Función:*\n",
    "\n",
    "**Evalúa una expresión y ejecuta el código que coincide con el valor de la expresión.**\n",
    "\n",
    "    1)  Se usa cuando hay muchas condiciones posibles y cada una de ellas debe manejarse de manera diferente."
   ]
  },
  {
   "cell_type": "markdown",
   "id": "8fcf57c1-d36b-4fd3-b152-3e8d4526d1e5",
   "metadata": {},
   "source": [
    "```js\n",
    "switch (expression) {\n",
    "    case value1:\n",
    "        // Código ejecutado si expression === value1\n",
    "        break;\n",
    "    case value2:\n",
    "        // Código ejecutado si expression === value2\n",
    "        break;\n",
    "    default:\n",
    "        // Código ejecutado si ninguna condición coincide\n",
    "}"
   ]
  },
  {
   "cell_type": "markdown",
   "id": "ed93f5eb-eefd-4902-a295-d656293e55a4",
   "metadata": {},
   "source": [
    "\n",
    "**Componentes y atributos**\n",
    "\n",
    "* *`switch (expression)`*: Evalúa el valor de expression.\n",
    "* *`case value`*: Compara expression con value. Si coinciden, ejecuta el código correspondiente.\n",
    "* *`break`*:Detiene la ejecución del switch después de un caso exitoso.\n",
    "* *`default`*: Código ejecutado si ninguna opción coincide."
   ]
  },
  {
   "cell_type": "markdown",
   "id": "210306b6-051a-4108-8d22-8931778ec431",
   "metadata": {},
   "source": [
    "<h5 style=\"color:#012c5e; font-family: 'Nunito'; font-weight: 400;\">Ejemplo</h5>\n"
   ]
  },
  {
   "cell_type": "markdown",
   "id": "9869d5e2-bc19-4a1e-bb85-6f5234034408",
   "metadata": {},
   "source": [
    "```js\n",
    "var place = \"first\";\n",
    "\n",
    "switch (place) {\n",
    "    case \"first\":\n",
    "        console.log(\"gold medal\");\n",
    "        break;\n",
    "    case \"second\":\n",
    "        console.log(\"silver medal\");\n",
    "        break;\n",
    "    case \"third\":\n",
    "        console.log(\"bronze medal\");\n",
    "        break;\n",
    "    default:\n",
    "        console.log(\"no medal\");\n",
    "}"
   ]
  },
  {
   "cell_type": "markdown",
   "id": "6b1d186e-d53b-48e8-883b-abc22c5f79ba",
   "metadata": {},
   "source": [
    "<h2 style=\"color: #012c5e; font-family: 'Monserrat', serif; font-weight: 700; background-color: #f5f5f5; padding: 10px; border-radius: 8px;\">Loops</h2>\n"
   ]
  },
  {
   "cell_type": "markdown",
   "id": "811bea7f-2774-4322-916a-2adeb243dbd2",
   "metadata": {
    "jp-MarkdownHeadingCollapsed": true
   },
   "source": [
    "<h3 style=\"color:#013e85; font-family: 'Monserrat'; font-weight: 500;text-align: center;\">for loop</h3>\n"
   ]
  },
  {
   "cell_type": "markdown",
   "id": "64b3a521-18d5-4ace-8ca8-3ab09da09245",
   "metadata": {},
   "source": [
    "*Función:*\n",
    "\n",
    "**El for loop se utiliza para ejecutar un bloque de código un número determinado de veces.**\n",
    "\n",
    "    1)  Se usa cuando conoces exactamente cuántas veces deseas que se ejecute el código."
   ]
  },
  {
   "cell_type": "markdown",
   "id": "3fe71551-adf9-4707-b388-a8b2328b14e2",
   "metadata": {},
   "source": [
    "```js\n",
    "for (initialization; condition; increment) {\n",
    "    // code block to execute\n",
    "}"
   ]
  },
  {
   "cell_type": "markdown",
   "id": "837cb790-d190-471a-ba49-31d5cbda0c34",
   "metadata": {},
   "source": [
    "**Componentes y atributos**\n",
    "\n",
    "* *`initialization`* : Se ejecuta solo una vez al inicio del bucle para establecer la variable de control.\n",
    "* *`condition`* : Evalúa si el bucle debe continuar ejecutándose.\n",
    "* *`increment/decrement`* :Modifica la variable de control en cada iteración.\n",
    "* *`Bloque de código`* : Se ejecuta en cada iteración mientras la condición sea true."
   ]
  },
  {
   "cell_type": "markdown",
   "id": "bf84313c-de44-4b02-aff1-1ce17aad638c",
   "metadata": {},
   "source": [
    "<h5 style=\"color:#012c5e; font-family: 'Nunito'; font-weight: 400;\">Ejemplo</h5>\n"
   ]
  },
  {
   "cell_type": "markdown",
   "id": "8ad079d6-4e6d-431c-8d2b-486f6156af9b",
   "metadata": {},
   "source": [
    "```js\n",
    "for (let i = 1; i <= 5; i++) {\n",
    "    console.log(\"Iteration:\", i);\n",
    "}"
   ]
  },
  {
   "cell_type": "markdown",
   "id": "fee22ff1-ebc8-4f79-9769-b3ae7c7bc7fc",
   "metadata": {},
   "source": [
    "**Componentes y atributos**\n",
    "\n",
    "* *`Inicialización (let i = 1)`* : Se establece la variable i con valor 1.\n",
    "* *`Condición (i <= 5)`* :Mientras i sea menor o igual a 5, el bucle se ejecutará.\n",
    "* *`Incremento (i++)`* : En cada iteración, i aumenta en 1."
   ]
  },
  {
   "cell_type": "markdown",
   "id": "4de9ebad-4421-499b-9f65-394ba671ecae",
   "metadata": {
    "jp-MarkdownHeadingCollapsed": true
   },
   "source": [
    "<h3 style=\"color:#013e85; font-family: 'Monserrat'; font-weight: 500;text-align: center;\">while loop</h3>\n"
   ]
  },
  {
   "cell_type": "markdown",
   "id": "ecc22621-b111-417c-bc7a-f5bd1b74d0c1",
   "metadata": {},
   "source": [
    "*Función:*\n",
    "\n",
    "**El while loop ejecuta un bloque de código mientras una condición sea true.**\n",
    "1)  Se usa cuando no sabes exactamente cuántas veces debe ejecutarse el código, pero sabes que debe detenerse cuando una condición específica deje de ser verdadera."
   ]
  },
  {
   "cell_type": "markdown",
   "id": "eb9e008b-e56f-4e02-b63c-01efc60e0771",
   "metadata": {},
   "source": [
    "```js\n",
    "initialization;\n",
    "while (condition) {\n",
    "    // code block to execute\n",
    "    increment;\n",
    "}"
   ]
  },
  {
   "cell_type": "markdown",
   "id": "f6e6a06a-417a-4d37-aca4-9daa868733fa",
   "metadata": {},
   "source": [
    "**Componentes y atributos**\n",
    "\n",
    "* *`initialization`*: Se ejecuta una vez antes de que el loop comience. Generalmente se usa para declarar e inicializar la variable de contador.\n",
    "* *`condition`*:Expresión que se evalúa antes de cada iteración. Si es true, el loop continúa; si es false, el loop termina.\n",
    "* *`increment`*: Se ejecuta al final de cada iteración para actualizar el valor del contador.\n",
    "* *`// code block to execute`*: Bloque de código que se ejecuta mientras la condición sea true."
   ]
  },
  {
   "cell_type": "markdown",
   "id": "f9e25ab3-b677-4e31-985d-b5b4cb599c1d",
   "metadata": {},
   "source": [
    "<h5 style=\"color:#012c5e; font-family: 'Nunito'; font-weight: 400;\">Ejemplo</h5>\n"
   ]
  },
  {
   "cell_type": "markdown",
   "id": "713de963-8ff2-4f2e-8cde-c5bc3c4e3aa4",
   "metadata": {},
   "source": [
    "```js\n",
    "let i = 0;\n",
    "while (i < 5) {\n",
    "    console.log(i);\n",
    "    i++;\n",
    "}"
   ]
  },
  {
   "cell_type": "markdown",
   "id": "222e35e1-7edb-4b93-ae57-fc5674e1dded",
   "metadata": {
    "jp-MarkdownHeadingCollapsed": true
   },
   "source": [
    "<h3 style=\"color:#013e85; font-family: 'Monserrat'; font-weight: 500;text-align: center;\">do...while loop</h3>\n"
   ]
  },
  {
   "cell_type": "markdown",
   "id": "997b76ba-35b4-4cc0-9e8c-0df17a3ef0d9",
   "metadata": {},
   "source": [
    "*Función:*\n",
    "\n",
    "**El do...while loop ejecuta un bloque de código al menos una vez, incluso si la condición es false.**\n",
    "\n",
    "    1)  Se usa cuando deseas que el código se ejecute al menos una vez, independientemente de si la condición es verdadera o falsa."
   ]
  },
  {
   "cell_type": "markdown",
   "id": "b2f28353-f039-40f2-8a33-0486d829810e",
   "metadata": {},
   "source": [
    "```js\n",
    "initialization;\n",
    "do {\n",
    "    // code block to execute\n",
    "    increment;\n",
    "} while (condition);"
   ]
  },
  {
   "cell_type": "markdown",
   "id": "43c5a8a3-e58b-4ae8-8c7f-404a4e269f13",
   "metadata": {},
   "source": [
    "<h5 style=\"color:#012c5e; font-family: 'Nunito'; font-weight: 400;\">Ejemplo</h5>\n"
   ]
  },
  {
   "cell_type": "markdown",
   "id": "2108cb40-6c35-4ecd-a2e7-795ccf3395ce",
   "metadata": {},
   "source": [
    "```js\n",
    "let i = 0;\n",
    "do {\n",
    "    console.log(i);\n",
    "    i++;\n",
    "} while (i < 5);"
   ]
  },
  {
   "cell_type": "markdown",
   "id": "f72824a9-18d6-468f-813c-9dda37637a4f",
   "metadata": {},
   "source": [
    "<h3 style=\"color:#013e85; font-family: 'Monserrat'; font-weight: 500;text-align: center;\">Control de loops</h3>\n"
   ]
  },
  {
   "cell_type": "markdown",
   "id": "4b33014a-df14-4b42-aa18-c63912c5a7c3",
   "metadata": {},
   "source": [
    "```js\n",
    "// break\n",
    "for (initialization; condition; increment) {\n",
    "    if (expression) {\n",
    "        break;\n",
    "    }\n",
    "}\n",
    "\n",
    "// continue\n",
    "for (initialization; condition; increment) {\n",
    "    if (expression) {\n",
    "        continue;\n",
    "    }\n",
    "}"
   ]
  },
  {
   "cell_type": "markdown",
   "id": "a358217b-6c7e-410f-a42d-03d97e0ea06b",
   "metadata": {},
   "source": [
    "**Componentes y atributos**\n",
    "\n",
    "* *`break`*: Termina el loop inmediatamente, independientemente de si la condición sigue siendo true.\n",
    "* *`continue`*: Salta a la siguiente iteración del loop sin ejecutar el resto del código en el bloque."
   ]
  },
  {
   "cell_type": "markdown",
   "id": "82bdb26c-a5e8-41b4-ab7b-70aba168a175",
   "metadata": {},
   "source": [
    "<h5 style=\"color:#012c5e; font-family: 'Nunito'; font-weight: 400;\">Ejemplo</h5>\n"
   ]
  },
  {
   "cell_type": "markdown",
   "id": "3eb0e12e-839d-4c5c-8c47-f215534c05d5",
   "metadata": {},
   "source": [
    "```js\n",
    "for (let i = 0; i < 10; i++) {\n",
    "    if (i === 5) {\n",
    "        break;\n",
    "    }\n",
    "    console.log(i);\n",
    "}\n"
   ]
  },
  {
   "cell_type": "markdown",
   "id": "bea55974-0943-4903-b135-b405e0817ada",
   "metadata": {},
   "source": [
    "```js\n",
    "for (let i = 0; i < 10; i++) {\n",
    "    if (i === 5) {\n",
    "        continue;\n",
    "    }\n",
    "    console.log(i);\n",
    "}"
   ]
  },
  {
   "cell_type": "markdown",
   "id": "d35bb337-34c8-422b-be42-e58c7a46d758",
   "metadata": {},
   "source": [
    "\n",
    "| Tipo de loop      | Uso principal                                | Cuándo usarlo                                                      |\n",
    "|------------------|--------------------------------------------|-------------------------------------------------------------------|\n",
    "| `for loop`       | Ejecutar código un número determinado de veces | Cuando sabes cuántas veces se debe ejecutar el loop              |\n",
    "| `while loop`     | Ejecutar código mientras una condición sea `true` | Cuando no sabes cuántas veces se ejecutará el loop               |\n",
    "| `do...while loop` | Ejecutar código al menos una vez            | Cuando el código debe ejecutarse una vez antes de verificar la condición |\n",
    "| `nested loop`    | Loop dentro de otro loop                    | Cuando trabajas con datos bidimensionales o estructuras complejas |\n",
    "| `break`         | Salir inmediatamente del loop                | Para terminar el loop cuando se cumple una condición             |\n",
    "| `continue`      | Saltar a la siguiente iteración              | Para omitir una iteración específica                             |\n"
   ]
  },
  {
   "cell_type": "markdown",
   "id": "864438eb-3ef2-4063-b9a1-7483b3131a33",
   "metadata": {
    "jp-MarkdownHeadingCollapsed": true
   },
   "source": [
    "<h2 style=\"color: #012c5e; font-family: 'Monserrat', serif; font-weight: 700; background-color: #f5f5f5; padding: 10px; border-radius: 8px;\">Funciones</h2>\n"
   ]
  },
  {
   "cell_type": "markdown",
   "id": "85bae694-9cd2-475e-9e6a-a40df4b96352",
   "metadata": {},
   "source": [
    "```js\n",
    "// Declaración de una función\n",
    "function nombreDeLaFuncion(parámetro1, parámetro2, ...) {\n",
    "    // Cuerpo de la función\n",
    "    // Código que define las operaciones a realizar\n",
    "    return valorDeSalida; // (opcional)\n",
    "}\n",
    "\n",
    "// Llamada o invocación de la función\n",
    "nombreDeLaFuncion(argumento1, argumento2, ...);"
   ]
  },
  {
   "cell_type": "markdown",
   "id": "76c2de53-db6e-4962-881d-7e450b8de32e",
   "metadata": {},
   "source": [
    "**Componentes y atributos**\n",
    "\n",
    "* *`function`*: Palabra clave que indica que se está declarando una función.\n",
    "* *`nombreDeLaFuncion`*: Nombre de la función. Debe seguir las reglas de nomenclatura de JavaScript (sin espacios, comenzar con letra o guion bajo).\n",
    "* *`parámetro1, parámetro2, ...`*: Valores que la función espera recibir para realizar las operaciones.\n",
    "* *`{}`*: Las llaves delimitan el cuerpo de la función.\n",
    "* *`return`*: Palabra clave que permite devolver un valor desde la función (opcional).\n",
    "* *`nombreDeLaFuncion(argumento1, argumento2, ...) `*: Forma en que se invoca o llama a la función, pasando argumentos específicos."
   ]
  },
  {
   "cell_type": "markdown",
   "id": "a1d09596-0e26-4b31-9df0-0abadd4fccf4",
   "metadata": {},
   "source": [
    "<h5 style=\"color:#012c5e; font-family: 'Nunito'; font-weight: 400;\">Ejemplo</h5>\n"
   ]
  },
  {
   "cell_type": "markdown",
   "id": "dfd42c01-7c43-4d0d-a565-af1a7da0e406",
   "metadata": {},
   "source": [
    "```js\n",
    "function addTwoNums(a, b) {\n",
    "    return a + b;\n",
    "}\n",
    "\n",
    "let result = addTwoNums(10, 20);\n",
    "console.log(result); // Salida: 30"
   ]
  },
  {
   "cell_type": "markdown",
   "id": "1940c02e-acf3-40b8-bf19-0b2a3f481365",
   "metadata": {},
   "source": [
    "<h2 style=\"color: #012c5e; font-family: 'Monserrat', serif; font-weight: 700; background-color: #f5f5f5; padding: 10px; border-radius: 8px;\">Arrays</h2>\n"
   ]
  },
  {
   "cell_type": "markdown",
   "id": "62793d78-b6d7-4fa2-a183-b63b4d105540",
   "metadata": {},
   "source": [
    "\n",
    "| Tema                          | Propiedad / Función                                  | Sintaxis General                                      |\n",
    "|------------------------------|------------------------------------------------|--------------------------------------------------|\n",
    "| **Creación y acceso**         | Crear array                                    | `let array = ['valor1', 'valor2', ...]`        |\n",
    "|                              | Acceder a un valor por índice                  | `array[indice]`                                |\n",
    "| **Modificación de valores**   | Modificar un valor por índice                  | `array[indice] = nuevoValor`                   |\n",
    "| **Añadir y eliminar elementos** | Añadir al final                               | `array.push(valor)`                             |\n",
    "|                              | Eliminar el último valor                        | `array.pop()`                                  |\n",
    "|                              | Añadir al principio                            | `array.unshift(valor)`                         |\n",
    "|                              | Eliminar el primer valor                       | `array.shift()`                                |\n",
    "| **Información del array**     | Longitud del array                             | `array.length`                                 |\n",
    "| **Buscar valores**           | Índice de un valor                             | `array.indexOf(valor)`                         |\n",
    "|                              | Comprobar si un valor existe                   | `array.includes(valor)`                        |\n",
    "| **Transformación**           | Crear un nuevo array aplicando una transformación | `array.map(callback)`                         |\n",
    "|                              | Filtrar valores específicos                     | `array.filter(callback)`                      |\n",
    "|                              | Reducir a un solo valor                        | `array.reduce((acc, valor) => { return ... })` |\n",
    "| **Ordenación y reversión**   | Ordenar (orden alfabético o numérico)          | `array.sort()`                                |\n",
    "|                              | Invertir el orden                              | `array.reverse()`                             |\n",
    "| **Secciones y copias**       | Copiar una parte del array                     | `array.slice(inicio, fin)`                    |\n",
    "|                              | Combinar dos arrays                            | `array1.concat(array2)`                       |\n",
    "| **Modificación directa de elementos** | Modificar, reemplazar o eliminar elementos específicos | `array.splice(indice, numElementos, valor1, valor2, ...)` |\n"
   ]
  },
  {
   "cell_type": "markdown",
   "id": "e2388bd7-2eb6-4eb5-b6b8-d9898abd6bb8",
   "metadata": {},
   "source": [
    "<h3 style=\"color:#5b02b5; font-family: 'Monserrat'; font-weight: 500;text-align: center;\">Declarar arrays</h3>\n"
   ]
  },
  {
   "cell_type": "markdown",
   "id": "e5af2521-b5d1-4d60-94fe-c3930438e333",
   "metadata": {},
   "source": [
    "```js\n",
    "// Declaración de un array vacío\n",
    "let arrayName = [];\n",
    "\n",
    "// Declaración de un array con elementos\n",
    "let arrayName = [element1, element2, element3, ...];\n",
    "\n",
    "\n",
    "// Declaración usando el constructor Array\n",
    "let arrayName = new Array(); // Array vacío\n",
    "let arrayName = new Array(size); // Array con tamaño definido\n",
    "let arrayName = new Array(element1, element2, element3, ...); // Array con elementos definidos"
   ]
  },
  {
   "cell_type": "markdown",
   "id": "8f4d38ac-3a08-4bfa-b2d2-7bc952e99da9",
   "metadata": {},
   "source": [
    "<h3 style=\"color:#013e85; font-family: 'Monserrat'; font-weight: 500;text-align: center;\">Acceder elementos de un Array</h3>\n"
   ]
  },
  {
   "cell_type": "markdown",
   "id": "9adf8863-ba7e-46bd-8e5a-850179c96bf7",
   "metadata": {},
   "source": [
    "```js\n",
    "// Acceso a elementos por índice\n",
    "let element = arrayName[index];\n",
    "\n",
    "// Modificación de elementos por índice\n",
    "arrayName[index] = newValue;\n",
    "\n",
    "\n",
    "// Retorna el índice de la primera aparición de un elemento en un array.\n",
    "array.indexOf(element, fromIndex)"
   ]
  },
  {
   "cell_type": "markdown",
   "id": "0675853f-4f13-4459-b321-468b820a73df",
   "metadata": {},
   "source": [
    "<h3 style=\"color:#013e85; font-family: 'Monserrat'; font-weight: 500;text-align: center;\">Longitud de un array</h3>\n"
   ]
  },
  {
   "cell_type": "markdown",
   "id": "f98a9983-79a6-4551-a635-1c9242874923",
   "metadata": {},
   "source": [
    "```js\n",
    "// Obtener la longitud de un array\n",
    "let length = arrayName.length;"
   ]
  },
  {
   "cell_type": "markdown",
   "id": "15eceb21-296c-4194-9d29-26bbe3eef44c",
   "metadata": {},
   "source": [
    "<h3 style=\"color:#013e85; font-family: 'Monserrat'; font-weight: 500;text-align: center;\">Modificar array</h3>\n"
   ]
  },
  {
   "cell_type": "markdown",
   "id": "6337f695-4d99-45ba-ae50-fe711b7080e3",
   "metadata": {},
   "source": [
    "<h4 style=\"color:#0257ba; font-family: 'Nunito'; font-weight: 300;background-color:#f8f8f8 ; padding: 10px; border-radius: 8px;\">Agregar elementos</h4>\n"
   ]
  },
  {
   "cell_type": "markdown",
   "id": "36ccdb5b-d9ca-4bce-b851-9958fe8f4cd4",
   "metadata": {},
   "source": [
    "```js\n",
    "/ Agrega un elemento al final\n",
    "arrayName.push(element);\n",
    "\n",
    "// Agrega un elemento al principio\n",
    "arrayName.unshift(element);"
   ]
  },
  {
   "cell_type": "markdown",
   "id": "132e3422-e799-46de-b34a-14ef32ee24d3",
   "metadata": {},
   "source": [
    "<h4 style=\"color:#0257ba; font-family: 'Nunito'; font-weight: 300;background-color:#f8f8f8 ; padding: 10px; border-radius: 8px;\">Eliminar elementos</h4>\n"
   ]
  },
  {
   "cell_type": "markdown",
   "id": "027d029f-4aa9-4195-8313-b430a2a8e3bb",
   "metadata": {},
   "source": [
    "```js\n",
    "// Elimina el último elemento\n",
    "let removedElement = arrayName.pop();\n",
    "\n",
    "// Elimina el primer elemento\n",
    "let removedElement = arrayName.shift();"
   ]
  },
  {
   "cell_type": "markdown",
   "id": "02e1b265-c0e2-4e0c-9967-435474b66ade",
   "metadata": {},
   "source": [
    "<h4 style=\"color:#0257ba; font-family: 'Nunito'; font-weight: 300;background-color:#f8f8f8; padding: 10px; border-radius: 8px;\">Añadir o eliminar elementos en una posición específica</h4>\n"
   ]
  },
  {
   "cell_type": "markdown",
   "id": "fb0514b0-fbfa-4703-a518-9cf65cd5bcd5",
   "metadata": {},
   "source": [
    "```js\n",
    "// Añade o elimina elementos en una posición específica\n",
    "arrayName.splice(index, deleteCount, element1, element2, ...);"
   ]
  },
  {
   "cell_type": "markdown",
   "id": "cf8beb54-7257-47c8-affc-a96e2c2c4373",
   "metadata": {},
   "source": [
    "<h4 style=\"color:#0257ba; font-family: 'Nunito'; font-weight: 300;background-color:#f8f8f8; padding: 10px; border-radius: 8px;\">Invierte el orden de un array</h4>\n"
   ]
  },
  {
   "cell_type": "markdown",
   "id": "d8f8e9ac-5884-4b35-b2fc-61da2d0007f7",
   "metadata": {},
   "source": [
    "```js\n",
    "array.reverse()"
   ]
  },
  {
   "cell_type": "markdown",
   "id": "cb15d265-87fb-443c-a14f-cd6d370494c8",
   "metadata": {},
   "source": [
    "<h4 style=\"color:#0257ba; font-family: 'Nunito'; font-weight: 300;background-color:#f8f8f8; padding: 10px; border-radius: 8px;\">Ordena los elementos de un array</h4>\n"
   ]
  },
  {
   "cell_type": "markdown",
   "id": "40a3b61f-34fd-43ef-b0c1-c40a464ba3e7",
   "metadata": {},
   "source": [
    "```js\n",
    "array.sort(compareFunction) // compareFunction → Función opcional para definir el orden."
   ]
  },
  {
   "cell_type": "markdown",
   "id": "945450e9-763a-439c-a272-1255e5953123",
   "metadata": {},
   "source": [
    "<h4 style=\"color:#0257ba; font-family: 'Nunito'; font-weight: 300;background-color:#f8f8f8; padding: 10px; border-radius: 8px;\">Extraer una parte de un array</h4>\n"
   ]
  },
  {
   "cell_type": "markdown",
   "id": "db026cb1-350b-4bc2-81e9-6eb79f87f037",
   "metadata": {},
   "source": [
    "```js\n",
    "// Devuelve una porción de un array sin modificar el original\n",
    "let newArray = arrayName.slice(startIndex, endIndex);"
   ]
  },
  {
   "cell_type": "markdown",
   "id": "05093192-da4e-45ed-a613-ac81857541fe",
   "metadata": {},
   "source": [
    "<h4 style=\"color:#0257ba; font-family: 'Nunito'; font-weight: 300;background-color:#f8f8f8; padding: 10px; border-radius: 8px;\">Combinar Arrays</h4>\n"
   ]
  },
  {
   "cell_type": "markdown",
   "id": "df0df458-d715-4f1c-9aa0-341759af0211",
   "metadata": {},
   "source": [
    "```js\n",
    "// Une dos o más arrays en uno nuevo\n",
    "let combinedArray = arrayName.concat(array2, array3, ...);"
   ]
  },
  {
   "cell_type": "markdown",
   "id": "2fdce31b-7e8f-4a9f-bdf7-8e5818b69c86",
   "metadata": {},
   "source": [
    "<h5 style=\"color:#012c5e; font-family: 'Nunito'; font-weight: 400;\">Ejemplo</h5>\n"
   ]
  },
  {
   "cell_type": "markdown",
   "id": "fa9bd679-3b6f-4e3e-8ac4-d8baace5f896",
   "metadata": {},
   "source": [
    "```js\n",
    "// Crear un array con valores iniciales\n",
    "let train = ['wheat', 'coal', 'iron', 'wood'];\n",
    "\n",
    "// Acceder a elementos del array\n",
    "console.log(train[0]); // 'wheat'\n",
    "\n",
    "\n",
    "// Modificar un valor del array\n",
    "train[1] = 'gold';\n",
    "console.log(train); // ['wheat', 'gold', 'iron', 'wood']\n",
    "\n",
    "\n",
    "// Añadir un valor al final del array\n",
    "train.push('silver');\n",
    "console.log(train); // ['wheat', 'gold', 'iron', 'wood', 'silver']\n",
    "\n",
    "\n",
    "// Eliminar el último valor del array\n",
    "train.pop();\n",
    "console.log(train); // ['wheat', 'gold', 'iron', 'wood']\n",
    "\n",
    "\n",
    "// Añadir un valor al principio del array\n",
    "train.unshift('coal');\n",
    "console.log(train); // ['coal', 'wheat', 'gold', 'iron', 'wood']\n",
    "\n",
    "\n",
    "// Eliminar el primer valor del array\n",
    "train.shift();\n",
    "console.log(train); // ['wheat', 'gold', 'iron', 'wood']\n",
    "\n",
    "\n",
    "// Obtener el número de elementos del array\n",
    "console.log(train.length); // 4\n",
    "\n",
    "\n",
    "// Buscar el índice de un valor\n",
    "console.log(train.indexOf('iron')); // 2\n",
    "\n",
    "\n",
    "// Comprobar si un valor existe en el array\n",
    "console.log(train.includes('gold')); // true\n",
    "\n",
    "\n",
    "// Crear un nuevo array aplicando una transformación\n",
    "let upperTrain = train.map(item => item.toUpperCase());\n",
    "console.log(upperTrain); // ['WHEAT', 'GOLD', 'IRON', 'WOOD']\n",
    "\n",
    "\n",
    "// Filtrar valores específicos\n",
    "let filteredTrain = train.filter(item => item !== 'iron');\n",
    "console.log(filteredTrain); // ['wheat', 'gold', 'wood']\n",
    "\n",
    "\n",
    "// Reducir a un solo valor (concatenación)\n",
    "let allCargo = train.reduce((acc, item) => acc + ', ' + item);\n",
    "console.log(allCargo); // 'wheat, gold, iron, wood'\n",
    "\n",
    "\n",
    "// Ordenar los elementos (orden alfabético)\n",
    "train.sort();\n",
    "console.log(train); // ['gold', 'iron', 'wheat', 'wood']\n",
    "\n",
    "\n",
    "// Invertir el orden de los elementos\n",
    "train.reverse();\n",
    "console.log(train); // ['wood', 'wheat', 'iron', 'gold']\n",
    "\n",
    "\n",
    "// Retorna el índice de la primera aparición de un elemento\n",
    "let index = train.indexOf('iron');\n",
    "console.log(index); // 2\n",
    "\n",
    "\n",
    "// Crear una copia superficial de una parte de un array sin modificar el original\n",
    "let slicedTrain = train.slice(1, 3);\n",
    "console.log(slicedTrain); // ['wheat', 'iron']\n",
    "\n",
    "\n",
    "// Combinar dos arrays en uno nuevo\n",
    "let moreTrain = ['coal', 'silver'];\n",
    "let combinedTrain = train.concat(moreTrain);\n",
    "console.log(combinedTrain); // ['wood', 'wheat', 'iron', 'gold', 'coal', 'silver']\n",
    "\n",
    "\n",
    "// Modificar elementos específicos de un array (reemplazar y eliminar)\n",
    "train.splice(1, 2, 'diamond', 'emerald');\n",
    "console.log(train); // ['wood', 'diamond', 'emerald', 'gold']"
   ]
  },
  {
   "cell_type": "markdown",
   "id": "0ac5f64d-35ca-47d1-b981-3624f2dfc43e",
   "metadata": {},
   "source": [
    "<h3 style=\"color:#013e85; font-family: 'Monserrat'; font-weight: 500;text-align: center;\">Iteración de Arrays</h3>\n"
   ]
  },
  {
   "cell_type": "markdown",
   "id": "a5ec5b62-469d-444e-a073-b8fe02c32d5c",
   "metadata": {},
   "source": [
    "```js\n",
    "// Iterar usando for loop\n",
    "for (let i = 0; i < array.length; i++) {\n",
    "    // Acceder a las propiedades de cada objeto\n",
    "    array[i].property;\n",
    "}"
   ]
  },
  {
   "cell_type": "markdown",
   "id": "94ab0790-5732-40e0-bdbf-c5de31000834",
   "metadata": {},
   "source": [
    "<h3 style=\"color:#013e85; font-family: 'Monserrat'; font-weight: 500;text-align: center;\">Arrays Multidimensionales</h3>\n"
   ]
  },
  {
   "cell_type": "markdown",
   "id": "ea217ba9-1d2a-4694-ad76-426d04c9f5d6",
   "metadata": {},
   "source": [
    "```js\n",
    "// Declaración de un array multidimensional\n",
    "let matrix = [\n",
    "    [element1, element2],\n",
    "    [element3, element4],\n",
    "    [element5, element6]\n",
    "];\n",
    "\n",
    "// Acceso a un elemento en un array multidimensional\n",
    "let value = matrix[rowIndex][columnIndex];"
   ]
  },
  {
   "cell_type": "markdown",
   "id": "994de4d2-303d-45e3-a2e1-7cdd6fe8f8b6",
   "metadata": {},
   "source": [
    "<h3 style=\"color:#013e85; font-family: 'Monserrat'; font-weight: 500;text-align: center;\">Métodos de los arrays</h3>\n"
   ]
  },
  {
   "cell_type": "markdown",
   "id": "0267debd-9765-4452-b263-3815adc35989",
   "metadata": {},
   "source": [
    "<h4 style=\"color:#0257ba; font-family: 'Nunito'; font-weight: 400;background-color:#f8f8f8; padding: 10px; border-radius: 8px;\">forEach()</h4>\n"
   ]
  },
  {
   "cell_type": "markdown",
   "id": "e6eb485c-248f-4bed-af69-5f0f067bdbce",
   "metadata": {},
   "source": [
    "*Función:*\n",
    "\n",
    "**Ejecuta una función proporcionada una vez por cada elemento del array en orden. No devuelve un valor, simplemente realiza una operación en cada elemento del array.**\n",
    "   \n",
    "    1)  Se usa para iterar sobre los elementos de un array.\n",
    "    2)  Se emplea cuando deseas realizar una acción específica sobre cada elemento del array, pero sin devolver un nuevo array.\n",
    "    3)  No crea un nuevo array; simplemente ejecuta una función sobre cada elemento."
   ]
  },
  {
   "cell_type": "markdown",
   "id": "f290b1c7-bb29-4adb-b782-8a222c3f6b38",
   "metadata": {},
   "source": [
    "```js\n",
    "array.forEach(function(currentValue, index, array) {\n",
    "    // code to execute on each element\n",
    "});"
   ]
  },
  {
   "cell_type": "markdown",
   "id": "23c66c84-8594-4c35-89cf-e02ed25586a9",
   "metadata": {},
   "source": [
    "<h5 style=\"color:#012c5e; font-family: 'Nunito'; font-weight: 400;\">Ejemplo</h5>\n"
   ]
  },
  {
   "cell_type": "markdown",
   "id": "e14635de-9739-4c11-8d42-7e0b150c6422",
   "metadata": {},
   "source": [
    "```js\n",
    "const numbers = [1, 2, 3, 4];\n",
    "numbers.forEach(function(number) {\n",
    "    console.log(number * 2);\n",
    "});\n",
    "// Output: 2, 4, 6, 8"
   ]
  },
  {
   "cell_type": "markdown",
   "id": "e39e4268-0c8a-45bd-8469-736cfcf7a000",
   "metadata": {},
   "source": [
    "<h4 style=\"color:#0257ba; font-family: 'Nunito'; font-weight: 400;background-color:#f8f8f8; padding: 10px; border-radius: 8px;\">filter()</h4>\n"
   ]
  },
  {
   "cell_type": "markdown",
   "id": "eb562a0e-1c41-4d2b-a9dd-603861c2161c",
   "metadata": {},
   "source": [
    "```js\n",
    "const newArray = array.filter(function(currentValue, index, array) {\n",
    "    // return true or false\n",
    "});"
   ]
  },
  {
   "cell_type": "markdown",
   "id": "159b719e-02ec-456c-a501-0262dc8a4d38",
   "metadata": {},
   "source": [
    "*Función:*\n",
    "\n",
    "**El método filter() crea un nuevo array con todos los elementos que cumplen una condición especificada.**\n",
    "    \n",
    "    1)  Se usa para filtrar los elementos de un array que cumplen con una condición.\n",
    "    2)  Devuelve un nuevo array con los elementos que cumplen la condición especificada.\n",
    "    3)  Si ningún elemento cumple la condición, devuelve un array vacío.\n"
   ]
  },
  {
   "cell_type": "markdown",
   "id": "d35eceeb-d9e9-4ba1-8365-39981a710924",
   "metadata": {},
   "source": [
    "<h5 style=\"color:#012c5e; font-family: 'Nunito'; font-weight: 400;\">Ejemplo</h5>\n"
   ]
  },
  {
   "cell_type": "markdown",
   "id": "078b314f-ef2d-45fe-b109-c8ce5acaadff",
   "metadata": {},
   "source": [
    "```js\n",
    "const numbers = [1, 2, 3, 4, 5];\n",
    "const evenNumbers = numbers.filter(function(number) {\n",
    "    return number % 2 === 0;\n",
    "});\n",
    "console.log(evenNumbers);\n",
    "// Output: [2, 4]"
   ]
  },
  {
   "cell_type": "markdown",
   "id": "17892ff2-f602-406b-9b14-8d3434aa5eb0",
   "metadata": {},
   "source": [
    "<h4 style=\"color:#0257ba; font-family: 'Nunito'; font-weight: 400;background-color:#f8f8f8; padding: 10px; border-radius: 8px;\">reduce()</h4>\n"
   ]
  },
  {
   "cell_type": "markdown",
   "id": "6c17688a-9e97-45e5-b130-ae6af3df2f0e",
   "metadata": {},
   "source": [
    "*Función:*\n",
    "\n",
    "**El método reduce() reduce los elementos de un array a un único valor mediante la aplicación de una función.**\n",
    "\n",
    "    1)  Se usa para reducir todos los elementos de un array a un solo valor.\n",
    "    2)  El valor inicial (initialValue) es opcional.\n",
    "    3)  Si no se proporciona un valor inicial, el primer elemento del array se usa como valor inicial."
   ]
  },
  {
   "cell_type": "markdown",
   "id": "396f8141-9157-4f24-9c6c-307df6c4efc1",
   "metadata": {},
   "source": [
    "```js\n",
    "const result = array.reduce(function(accumulator, currentValue, index, array) {\n",
    "    // return accumulator value\n",
    "}, initialValue);"
   ]
  },
  {
   "cell_type": "markdown",
   "id": "b3eac203-39bf-4d84-8282-1bc8b015caf3",
   "metadata": {},
   "source": [
    "<h5 style=\"color:#012c5e; font-family: 'Nunito'; font-weight: 400;\">Ejemplo</h5>\n"
   ]
  },
  {
   "cell_type": "markdown",
   "id": "7090256b-b34d-4f2c-b93c-c943aed1377f",
   "metadata": {},
   "source": [
    "```js\n",
    "const numbers = [1, 2, 3, 4];\n",
    "const sum = numbers.reduce(function(total, number) {\n",
    "    return total + number;\n",
    "}, 0);\n",
    "console.log(sum);\n",
    "// Output: 10"
   ]
  },
  {
   "cell_type": "markdown",
   "id": "069c376e-7719-426b-b215-a7f019d9d9a2",
   "metadata": {},
   "source": [
    "<h4 style=\"color:#0257ba; font-family: 'Nunito'; font-weight: 400;background-color:#f8f8f8; padding: 10px; border-radius: 8px;\">find()</h4>\n"
   ]
  },
  {
   "cell_type": "markdown",
   "id": "d4228212-59f8-42a8-b55b-f59a19a653e4",
   "metadata": {},
   "source": [
    "*Función:*\n",
    "\n",
    "**El método find() devuelve el primer elemento de un array que cumple una condición específica.**\n",
    "    \n",
    "    1)  Se usa para encontrar el primer elemento de un array que cumpla una condición.\n",
    "    2)  Si ningún elemento cumple la condición, devuelve undefined."
   ]
  },
  {
   "cell_type": "markdown",
   "id": "d1db307b-157c-4098-9c81-e9034d212bc4",
   "metadata": {},
   "source": [
    "```js\n",
    "const element = array.find(function(currentValue, index, array) {\n",
    "    // return true or false\n",
    "});"
   ]
  },
  {
   "cell_type": "markdown",
   "id": "b95b80cb-9598-4860-9f26-27e7253a9d2b",
   "metadata": {},
   "source": [
    "<h5 style=\"color:#012c5e; font-family: 'Nunito'; font-weight: 400;\">Ejemplo</h5>\n"
   ]
  },
  {
   "cell_type": "markdown",
   "id": "4c0a01ab-2224-40a2-99e5-61e38285873b",
   "metadata": {},
   "source": [
    "```js\n",
    "const numbers = [1, 2, 3, 4];\n",
    "const result = numbers.find(function(number) {\n",
    "    return number > 2;\n",
    "});\n",
    "console.log(result);\n",
    "// Output: 3"
   ]
  },
  {
   "cell_type": "markdown",
   "id": "0e03b1e6-26f5-4aed-b6cf-45884ab3368c",
   "metadata": {},
   "source": [
    "<h2 style=\"color: #012c5e; font-family: 'Monserrat', serif; font-weight: 700; background-color: #f5f5f5; padding: 10px; border-radius: 8px;\">Objects</h2>\n"
   ]
  },
  {
   "cell_type": "markdown",
   "id": "4e7dcaff-a4d5-4784-b80a-3dccc3acbda5",
   "metadata": {},
   "source": [
    "<h3 style=\"color:#013e85; font-family: 'Monserrat'; font-weight: 600;text-align: center;\">propiedades de los objects</h3>\n"
   ]
  },
  {
   "cell_type": "markdown",
   "id": "89a4971e-3ba1-46e2-8bd5-3e277e54d77c",
   "metadata": {},
   "source": [
    "\n",
    "| Propiedad                          | Función o Uso                                              | Sintaxis General                                    | Ejemplo                                                       |\n",
    "|-------------------------------------|------------------------------------------------------------|-----------------------------------------------------|---------------------------------------------------------------|\n",
    "| **1. Declaración de Objetos**       |                                                            |                                                     |                                                               |\n",
    "| 1.1. const                          | Declara una constante para almacenar el objeto             | `const objectName = { key: value };`               | `const storeManager = { name: 'John' };`                      |\n",
    "| 1.2. `{}`                           | Define un objeto literal vacío o con propiedades          | `const objectName = {};`                           | `const user = {};`                                            |\n",
    "| **2. Notaciones de Acceso**         |                                                            |                                                     |                                                               |\n",
    "| 2.1. Notación de Punto (`.`)        | Acceder o modificar propiedades usando punto              | `objectName.propertyName`                          | `storeManager.name`                                           |\n",
    "| 2.2. Notación de Corchetes (`[]`)   | Acceder o modificar propiedades con nombres dinámicos     | `objectName[\"propertyName\"]`                        | `storeManager[\"age\"]`                                         |\n",
    "| 2.3. Asignación de Propiedades (`=`) | Agregar o modificar una propiedad de un objeto           | `objectName.propertyName = value;`                 | `storeManager.age = 30;`                                      |\n",
    "| 2.4. Asignación con Corchetes (`[] =`) | Agregar o modificar una propiedad con nombre dinámico  | `objectName[\"propertyName\"] = value;`              | `storeManager[\"role\"] = \"admin\";`                             |\n",
    "| **3. Métodos de Manipulación**      |                                                            |                                                     |                                                               |\n",
    "| 3.1. `delete`                       | Eliminar una propiedad de un objeto                      | `delete objectName.propertyName;`                  | `delete storeManager.age;`                                    |\n",
    "| 3.2. `Object.freeze()`              | Bloquear completamente la modificación de un objeto      | `Object.freeze(objectName);`                       | `Object.freeze(storeManager);`                               |\n",
    "| 3.3. `Object.seal()`                | Permitir modificar valores pero no añadir/eliminar propiedades | `Object.seal(objectName);`                  | `Object.seal(storeManager);`                                 |\n",
    "| **4. Verificación de Propiedades**  |                                                            |                                                     |                                                               |\n",
    "| 4.1. Operador `in`                  | Verificar si una propiedad existe en un objeto          | `\"propertyName\" in objectName`                     | `\"name\" in storeManager`                                     |\n",
    "| 4.2. `hasOwnProperty()`             | Comprobar si una propiedad es parte directa del objeto  | `objectName.hasOwnProperty(\"propertyName\")`        | `storeManager.hasOwnProperty(\"name\")`                        |\n",
    "| **5. Obtención de Información**     |                                                            |                                                     |                                                               |\n",
    "| 5.1. `Object.keys()`                | Obtener un array con las claves del objeto              | `Object.keys(objectName)`                          | `Object.keys(storeManager)`                                  |\n",
    "| 5.2. `Object.values()`              | Obtener un array con los valores del objeto             | `Object.values(objectName)`                        | `Object.values(storeManager)`                                |\n",
    "| 5.3. `Object.entries()`             | Obtener un array de pares clave-valor                   | `Object.entries(objectName)`                       | `Object.entries(storeManager)`                               |\n",
    "| **6. Recorrido de Objetos**         |                                                            |                                                     |                                                               |\n",
    "| 6.1. `for...in`                     | Recorrer las claves de un objeto                        | `for (let key in objectName) { ... }`              | `for (let key in storeManager) { console.log(key, storeManager[key]); }` |\n",
    "| 6.2. `Object.entries().forEach()`   | Recorrer pares clave-valor                              | `Object.entries(objectName).forEach(([key, value]) => { ... })` | `Object.entries(storeManager).forEach(([key, value]) => { console.log(key, value); })` |\n"
   ]
  },
  {
   "cell_type": "markdown",
   "id": "2c5ad8f2-f43b-4a34-b334-94c1c69062d0",
   "metadata": {},
   "source": [
    "```js"
   ]
  },
  {
   "cell_type": "markdown",
   "id": "ce59ffc9-4712-427e-9e48-130a288ea17d",
   "metadata": {},
   "source": [
    "<h4 style=\"color:#0257ba; font-family: 'Nunito'; font-weight: 400;background-color:#f8f8f8; padding: 10px; border-radius: 8px;\">Crear un objeto mediante new Object()</h4>\n"
   ]
  },
  {
   "cell_type": "markdown",
   "id": "4841c060-54b7-42e7-8c09-fd168b0e5613",
   "metadata": {},
   "source": [
    "```js\n",
    "const objectName = new Object();\n",
    "objectName.key1 = value1;\n",
    "objectName.key2 = value2;\n",
    "objectName.key3 = value3;"
   ]
  },
  {
   "cell_type": "markdown",
   "id": "eafff91f-dfd1-4c33-8d1d-e2b3ef13fde5",
   "metadata": {},
   "source": [
    "**Componentes y atributos**\n",
    "\n",
    "* *`new Object()`*: Constructor que crea un nuevo objeto vacío.\n",
    "* *`objectName.key1`* = value1: Se asignan propiedades usando notación de punto (.)."
   ]
  },
  {
   "cell_type": "markdown",
   "id": "d2a28dcd-e849-4b26-a87e-ff5195afcd55",
   "metadata": {},
   "source": [
    "<h4 style=\"color:#0257ba; font-family: 'Nunito'; font-weight: 400;background-color:#f8f8f8; padding: 10px; border-radius: 8px;\">Crear un objeto mediante literal de objeto</h4>\n"
   ]
  },
  {
   "cell_type": "markdown",
   "id": "f5333da9-1791-4bda-84f1-0ec2088aacb2",
   "metadata": {},
   "source": [
    "```js\n",
    "const objectName = {\n",
    "    key1: value1,\n",
    "    key2: value2,\n",
    "    key3: value3,\n",
    "    // Más pares clave-valor\n",
    "};"
   ]
  },
  {
   "cell_type": "markdown",
   "id": "bef03b33-ae51-4c28-bcc7-35110f681af7",
   "metadata": {},
   "source": [
    "**Componentes y atributos**\n",
    "\n",
    "* *`objectName`*: Nombre del objeto."
   ]
  },
  {
   "cell_type": "markdown",
   "id": "d5f19812-c4f8-4289-aea8-ac2b7514ba97",
   "metadata": {},
   "source": [
    "<h4 style=\"color:#0257ba; font-family: 'Nunito'; font-weight: 400;background-color:#f8f8f8; padding: 10px; border-radius: 8px;\">Definir un array de objetos</h4>\n"
   ]
  },
  {
   "cell_type": "markdown",
   "id": "f611b453-efb4-4f4b-89b8-2b170b84533b",
   "metadata": {},
   "source": [
    "```js\n",
    "// Sintaxis general\n",
    "const array = [\n",
    "    { property1: value1, property2: value2 },\n",
    "    { property1: value1, property2: value2 }\n",
    "];"
   ]
  },
  {
   "cell_type": "markdown",
   "id": "b42daed0-e6d1-4f89-95df-9a447c1f5925",
   "metadata": {},
   "source": [
    "<h4 style=\"color:#0257ba; font-family: 'Nunito'; font-weight: 400;background-color:#f8f8f8; padding: 10px; border-radius: 8px;\">Acceder a propiedades en un array de objetos</h4>\n"
   ]
  },
  {
   "cell_type": "markdown",
   "id": "5df213cc-e244-423f-af35-b2bc77a95a8b",
   "metadata": {},
   "source": [
    "```js\n",
    "// Sintaxis general\n",
    "array[index].property\n",
    "array[index][\"property\"]"
   ]
  },
  {
   "cell_type": "markdown",
   "id": "4545050a-b212-4b99-8493-050b1bc58b57",
   "metadata": {},
   "source": [
    "<h2 style=\"color: #012c5e; font-family: 'Monserrat', serif; font-weight: 700; background-color: #f5f5f5; padding: 10px; border-radius: 8px;\">Métodos Math</h2>\n"
   ]
  },
  {
   "cell_type": "markdown",
   "id": "155be660-9aae-4508-a343-b1ac989946b7",
   "metadata": {},
   "source": [
    "| Categoría                     | Método/Propiedad      | Función o Uso                                         | Sintaxis General                               | Ejemplo                                                     |\n",
    "|-------------------------------|-----------------------|-------------------------------------------------------|------------------------------------------------|-------------------------------------------------------------|\n",
    "| **1. Constantes Numéricas**    |                       |                                                       |                                                |                                                             |\n",
    "| 1.1. Math.PI                   | Valor de π (pi)       | Proporciona el valor matemático de pi                  | `Math.PI`                                      | `console.log(Math.PI); // 3.141592653589793`                |\n",
    "| 1.2. Math.E                    | Número de Euler       | Proporciona el valor del número de Euler               | `Math.E`                                       | `console.log(Math.E); // 2.718281828459045`                 |\n",
    "| 1.3. Math.LN2                  | Logaritmo natural de 2| Proporciona el logaritmo natural de 2                  | `Math.LN2`                                     | `console.log(Math.LN2); // 0.6931471805599453`             |\n",
    "| **2. Métodos de Redondeo**     |                       |                                                       |                                                |                                                             |\n",
    "| 2.1. Math.ceil()               | Redondeo hacia arriba | Redondea al entero más próximo por arriba             | `Math.ceil(number)`                            | `Math.ceil(4.1); // 5`                                      |\n",
    "| 2.2. Math.floor()              | Redondeo hacia abajo  | Redondea al entero más próximo por abajo              | `Math.floor(number)`                           | `Math.floor(4.9); // 4`                                     |\n",
    "| 2.3. Math.round()              | Redondeo estándar     | Redondea al entero más cercano                        | `Math.round(number)`                           | `Math.round(4.5); // 5`                                     |\n",
    "| 2.4. Math.trunc()              | Truncamiento          | Elimina la parte decimal, dejando solo el entero      | `Math.trunc(number)`                           | `Math.trunc(4.9); // 4`                                     |\n",
    "| **3. Métodos Aritméticos**     |                       |                                                       |                                                |                                                             |\n",
    "| 3.1. Math.pow()                | Potencia              | Calcula la potencia de un número                      | `Math.pow(base, exponente)`                    | `Math.pow(2, 3); // 8`                                      |\n",
    "| 3.2. Math.sqrt()               | Raíz cuadrada         | Calcula la raíz cuadrada de un número                 | `Math.sqrt(number)`                            | `Math.sqrt(16); // 4`                                      |\n",
    "| 3.3. Math.cbrt()               | Raíz cúbica           | Calcula la raíz cúbica de un número                   | `Math.cbrt(number)`                            | `Math.cbrt(8); // 2`                                       |\n",
    "| 3.4. Math.abs()                | Valor absoluto        | Devuelve el valor absoluto de un número                | `Math.abs(number)`                             | `Math.abs(-10); // 10`                                     |\n",
    "| 3.5. Math.min()                | Valor mínimo          | Devuelve el número más pequeño de una serie           | `Math.min(n1, n2, n3, ...)`                    | `Math.min(9, 8, 7); // 7`                                  |\n",
    "| 3.6. Math.max()                | Valor máximo          | Devuelve el número más grande de una serie            | `Math.max(n1, n2, n3, ...)`                    | `Math.max(9, 8, 7); // 9`                                  |\n",
    "| **4. Métodos Logarítmicos**    |                       |                                                       |                                                |                                                             |\n",
    "| 4.1. Math.log()                | Logaritmo natural     | Calcula el logaritmo natural (base e)                 | `Math.log(x)`                                   | `Math.log(10); // 2.302585092994046`                        |\n",
    "| 4.2. Math.log2()               | Logaritmo base 2      | Calcula el logaritmo en base 2                        | `Math.log2(x)`                                  | `Math.log2(8); // 3`                                        |\n",
    "| 4.3. Math.log10()              | Logaritmo base 10     | Calcula el logaritmo en base 10                       | `Math.log10(x)`                                 | `Math.log10(100); // 2`                                     |\n",
    "| **5. Métodos Trigonométricos** |                       |                                                       |                                                |                                                             |\n",
    "| 5.1. Math.sin()                | Seno                  | Calcula el seno de un ángulo en radianes              | `Math.sin(angle)`                               | `Math.sin(Math.PI/2); // 1`                                 |\n",
    "| 5.2. Math.cos()                | Coseno                | Calcula el coseno de un ángulo en radianes            | `Math.cos(angle)`                               | `Math.cos(0); // 1`                                        |\n",
    "| 5.3. Math.tan()                | Tangente              | Calcula la tangente de un ángulo en radianes          | `Math.tan(angle)`                               | `Math.tan(Math.PI/4); // 1`                                 |\n"
   ]
  },
  {
   "cell_type": "markdown",
   "id": "09b56be7-678b-40b4-be2d-4ac615eed0ae",
   "metadata": {},
   "source": [
    "<h3 style=\"color:#013e85; font-family: 'Monserrat'; font-weight: 500;text-align: center;\">Random</h3>\n"
   ]
  },
  {
   "cell_type": "markdown",
   "id": "759e9c84-f4f4-4842-8159-2c2f74540803",
   "metadata": {},
   "source": [
    "**Componentes y atributos**\n",
    "\n",
    "* *`random()`*: Método del objeto Math que devuelve un número decimal aleatorio entre 0 (incluido) y 1 (excluido)."
   ]
  },
  {
   "cell_type": "markdown",
   "id": "5372d9c7-9ac8-419e-b32e-b10ee7632031",
   "metadata": {},
   "source": [
    "```js\n",
    "let variable = Math.random();"
   ]
  },
  {
   "cell_type": "markdown",
   "id": "56e1f823-5d24-4774-8406-31f4809733cb",
   "metadata": {},
   "source": [
    "<h5 style=\"color:#012c5e; font-family: 'Nunito'; font-weight: 400;\">Ejemplo</h5>\n"
   ]
  },
  {
   "cell_type": "markdown",
   "id": "b733d6c5-3bf0-4f38-9b23-0c4aa9d2fd9e",
   "metadata": {},
   "source": [
    "```js\n",
    "// Generar un número aleatorio decimal entre 0 y 1\n",
    "let decimal = Math.random();  \n",
    "console.log(decimal);  // Ejemplo de salida: 0.73573251145  \n",
    "\n",
    "\n",
    "// Multiplicar el valor decimal por 10\n",
    "let multiplied = decimal * 10;  \n",
    "console.log(multiplied);  // Ejemplo de salida: 7.3573251145  "
   ]
  },
  {
   "cell_type": "markdown",
   "id": "04a5c6f2-b139-43a8-87c7-148aeeb8ead3",
   "metadata": {},
   "source": [
    "<h3 style=\"color:#013e85; font-family: 'Monserrat'; font-weight: 500;text-align: center;\">Math.ceil(x)</h3>\n"
   ]
  },
  {
   "cell_type": "markdown",
   "id": "5b11595c-b9db-461a-9146-c73a7a3e90f7",
   "metadata": {},
   "source": [
    "**Componentes y atributos**\n",
    "\n",
    "* *`ceil(x)`*: Método del objeto Math que redondea hacia arriba el valor de x al entero más cercano."
   ]
  },
  {
   "cell_type": "markdown",
   "id": "20156a70-7a4e-4609-b571-b31f078b4902",
   "metadata": {},
   "source": [
    "```js\n",
    "let variable = Math.ceil(x);"
   ]
  },
  {
   "cell_type": "markdown",
   "id": "86e773c0-6746-4c6c-b389-16a32e23ff00",
   "metadata": {},
   "source": [
    "<h5 style=\"color:#012c5e; font-family: 'Nunito'; font-weight: 400;\">Ejemplo</h5>\n"
   ]
  },
  {
   "cell_type": "markdown",
   "id": "7435aa6c-b6cb-4778-9205-4a6856de0e4c",
   "metadata": {},
   "source": [
    "```js\n",
    "// Redondear hacia arriba al entero más cercano\n",
    "let rounded = Math.ceil(multiplied);  \n",
    "console.log(rounded);  // Ejemplo de salida: 8  \n"
   ]
  },
  {
   "cell_type": "markdown",
   "id": "ea55e6a1-0f86-4234-8e1f-c9646c77eafd",
   "metadata": {},
   "source": [
    "```js"
   ]
  },
  {
   "cell_type": "markdown",
   "id": "fb8cd1ea-45e7-4bd8-bccd-75e0664e3405",
   "metadata": {},
   "source": [
    "<h2 style=\"color: #012c5e; font-family: 'Monserrat', serif; font-weight: 700; background-color: #f5f5f5; padding: 10px; border-radius: 8px;\">Manejo de errores (try, catch y throw)</h2>\n"
   ]
  },
  {
   "cell_type": "markdown",
   "id": "d83dcea2-5f18-4a3f-ae89-398189bbd3b0",
   "metadata": {},
   "source": [
    "<h3 style=\"color:#013e85; font-family: 'Monserrat'; font-weight: 500;text-align: center;\">Console.log()</h3>\n"
   ]
  },
  {
   "cell_type": "markdown",
   "id": "2898c0b1-f80c-4846-a39b-16c2f26f3e83",
   "metadata": {},
   "source": [
    "*Función:*\n",
    "\n",
    "**`console.log()` se usa para imprimir información en la consola del navegador. Es útil para depurar valores de variables, flujos de control y comportamiento del código.***"
   ]
  },
  {
   "cell_type": "markdown",
   "id": "8f5f346a-617c-467e-9738-b06d5b85a8d9",
   "metadata": {},
   "source": [
    "```js\n",
    "console.log(value1, value2, ..., valueN);"
   ]
  },
  {
   "cell_type": "markdown",
   "id": "0997c75e-a120-4a53-86cb-edf8a6ab3a16",
   "metadata": {},
   "source": [
    "<h3 style=\"color:#013e85; font-family: 'Monserrat'; font-weight: 500;text-align: center;\">debugger</h3>\n"
   ]
  },
  {
   "cell_type": "markdown",
   "id": "8cb6ba54-de03-402f-b22d-177b3c352480",
   "metadata": {},
   "source": [
    "*Función:*\n",
    "\n",
    "**`debugger` se usa para detener la ejecución del código en un punto específico y abrir las herramientas de desarrollo para inspeccionar el estado del programa, las variables y el flujo de ejecución.**"
   ]
  },
  {
   "cell_type": "markdown",
   "id": "bd091f1e-77da-4923-b51a-00f8db3a0957",
   "metadata": {},
   "source": [
    "```js\n",
    "debugger;"
   ]
  },
  {
   "cell_type": "markdown",
   "id": "c95d8983-4113-4b50-a104-20a087aab614",
   "metadata": {},
   "source": [
    "<h3 style=\"color:#013e85; font-family: 'Monserrat'; font-weight: 500;text-align: center;\">throw</h3>\n"
   ]
  },
  {
   "cell_type": "markdown",
   "id": "bb4908d3-a058-4069-9c75-da6b508b682c",
   "metadata": {},
   "source": [
    "*Función:*\n",
    "\n",
    "**` throw` permite lanzar un error personalizado y detener la ejecución del código. También permite proporcionar un mensaje de error significativo para mejorar la depuración y el manejo de errores.**"
   ]
  },
  {
   "cell_type": "markdown",
   "id": "bdd99323-214d-4d5c-b976-b6bea885ac72",
   "metadata": {},
   "source": [
    "```js\n",
    "throw new Error(\"Custom error message\");"
   ]
  },
  {
   "cell_type": "markdown",
   "id": "c09f20bd-de08-413f-a52c-b4268fec260c",
   "metadata": {},
   "source": [
    "<h3 style=\"color:#013e85; font-family: 'Monserrat'; font-weight: 500;text-align: center;\">try-catch</h3>\n"
   ]
  },
  {
   "cell_type": "markdown",
   "id": "95a4f1a1-bb3b-4ebc-b3e0-35cda5971199",
   "metadata": {},
   "source": [
    "*Función:*\n",
    "\n",
    "**`  try-catch `se usa para manejar errores de ejecución (runtime errors).**"
   ]
  },
  {
   "cell_type": "markdown",
   "id": "51a46e90-8ad0-42e2-8562-206e10ee9dfb",
   "metadata": {},
   "source": [
    "```js\n",
    "try {\n",
    "    // Código que puede lanzar un error\n",
    "} catch (error) {\n",
    "    // Código para manejar el error\n",
    "} finally {\n",
    "    // Código que siempre se ejecuta (opcional)\n",
    "}"
   ]
  },
  {
   "cell_type": "markdown",
   "id": "2aa5b6fc-1c1b-4229-9036-800ed39d7805",
   "metadata": {},
   "source": [
    "**Componentes y atributos**\n",
    "\n",
    "* *`try`*: Si se produce un error en este bloque, el control pasa automáticamente al bloque catch.\n",
    "* *`catch (error)`*: El parámetro error es un objeto que contiene información sobre el error capturado (nombre del error, mensaje, etc.). El nombre error es arbitrario puede ser cualquier identificador válido.\n",
    "* *`throw`*: Permite lanzar un error manualmente desde el código. throw se usa para generar una excepción personalizada y transferir el control al bloque catch."
   ]
  },
  {
   "cell_type": "markdown",
   "id": "dce61b45-8c6d-495a-bab9-d6ba41f78f10",
   "metadata": {},
   "source": [
    "<h5 style=\"color:#012c5e; font-family: 'Nunito'; font-weight: 400;\">Ejemplo</h5>\n"
   ]
  },
  {
   "cell_type": "markdown",
   "id": "c2d17122-690c-4a93-8785-8c246a77a4aa",
   "metadata": {},
   "source": [
    "```js\n",
    "function divide(a, b) {\n",
    "    try {\n",
    "        debugger; // Detiene la ejecución para inspección\n",
    "        if (b === 0) {\n",
    "            throw new Error(\"Cannot divide by zero\");\n",
    "        }\n",
    "        console.log(\"Result:\", a / b);\n",
    "    } catch (error) {\n",
    "        console.error(\"Error:\", error.message);\n",
    "    } finally {\n",
    "        console.log(\"Operation complete\");\n",
    "    }\n",
    "}\n",
    "\n",
    "divide(10, 2);  // Resultado: 5\n",
    "divide(10, 0);  // Error: Cannot divide by zero"
   ]
  },
  {
   "cell_type": "markdown",
   "id": "283aaadf-6824-4f06-aedc-107638465435",
   "metadata": {},
   "source": [
    "<h2 style=\"color: #012c5e; font-family: 'Monserrat', serif; font-weight: 700; background-color: #f5f5f5; padding: 10px; border-radius: 8px;\">Programación orientada a objetos POO</h2>\n"
   ]
  },
  {
   "cell_type": "markdown",
   "id": "ffc604c0-ff32-45f7-ac91-74073f8a099c",
   "metadata": {},
   "source": [
    "<h3 style=\"color:#013e85; font-family: 'Monserrat'; font-weight: 600;text-align: center;background-color:#fafafa; padding: 10px; border-radius: 8px;\">Creación de objeto usando objeto literal</h3>\n"
   ]
  },
  {
   "cell_type": "markdown",
   "id": "76d758d7-8dfb-43f9-b568-20fb080cc052",
   "metadata": {},
   "source": [
    "```js\n",
    "// Creación de objeto usando objeto literal\n",
    "const objectName = {\n",
    "    property1: value1,\n",
    "    property2: value2,\n",
    "    property3: methodName() {\n",
    "        // Operación sobre las propiedades del objeto\n",
    "        return objectName.property1 * objectName.property2;\n",
    "    }\n",
    "};\n",
    "\n",
    "// Llamar método usando notación de punto\n",
    "const result = objectName.methodName();"
   ]
  },
  {
   "cell_type": "markdown",
   "id": "42bd42ba-f65a-4491-98fb-c3672a6a6307",
   "metadata": {},
   "source": [
    "<h5 style=\"color:#012c5e; font-family: 'Nunito'; font-weight: 400;\">Ejemplo</h5>\n"
   ]
  },
  {
   "cell_type": "markdown",
   "id": "95d34ab4-a6c6-4672-91a0-3e3fad192711",
   "metadata": {},
   "source": [
    "```js\n",
    "var purchase1 = {\n",
    "    shoes : 100,\n",
    "    stateTax : 1.2,\n",
    "    totalPrice : function() {\n",
    "        var calculation = purchase1.shoes * purchase1.stateTax;\n",
    "        console.log(calculation);\n",
    "    }\n",
    "}\n",
    "\n",
    "purchase1.totalPrice(); //120"
   ]
  },
  {
   "cell_type": "markdown",
   "id": "bb82e820-e0a9-4b82-96e3-0615689079bc",
   "metadata": {},
   "source": [
    "\n",
    "<h3 style=\"color:#013e85; font-family: 'Monserrat'; font-weight: 600;text-align: center;background-color:#fafafa; padding: 10px; border-radius: 8px;\">Clases</h3>\n"
   ]
  },
  {
   "cell_type": "markdown",
   "id": "593fb26b-94b1-4973-89d8-5c722b33ce0f",
   "metadata": {},
   "source": [
    "```js\n",
    "// Definición de la clase\n",
    "class ClassName {\n",
    "    // Constructor para inicializar propiedades\n",
    "    constructor(parameter1, parameter2, ...) {\n",
    "        this.property1 = parameter1;\n",
    "        this.property2 = parameter2;\n",
    "        // Más propiedades según sea necesario\n",
    "    }\n",
    "\n",
    "    // Método de la clase\n",
    "    methodName(parameter1, parameter2, ...) {\n",
    "        // Lógica del método\n",
    "    }\n",
    "\n",
    "\n",
    "    // Otro método de la clase\n",
    "    anotherMethod(parameter) {\n",
    "        // Lógica del método\n",
    "    }\n",
    "}\n",
    "\n",
    "\n",
    "// Instanciación de un objeto de la clase\n",
    "const objectName = new ClassName(argument1, argument2, ...);\n",
    "\n",
    "\n",
    "// Llamar a un método del objeto\n",
    "objectName.methodName(argument1, argument2, ...);"
   ]
  },
  {
   "cell_type": "markdown",
   "id": "22f111a2-38f0-47f1-9cf3-b2e00122d615",
   "metadata": {},
   "source": [
    "<h5 style=\"color:#012c5e; font-family: 'Nunito'; font-weight: 400;\">Ejemplo</h5>\n"
   ]
  },
  {
   "cell_type": "markdown",
   "id": "03f55fa6-7a3f-404d-887b-120a6cc6c0a2",
   "metadata": {},
   "source": [
    "---\n",
    "```js\n",
    "class Car {\n",
    "    constructor(model, year) {\n",
    "        this.model = model;\n",
    "        this.year = year;\n",
    "    }\n",
    "\n",
    "    startEngine() {\n",
    "        console.log(`${this.model} engine started`);\n",
    "    }\n",
    "\n",
    "    stopEngine() {\n",
    "        console.log(`${this.model} engine stopped`);\n",
    "    }\n",
    "}\n",
    "\n",
    "const carOne = new Car('Toyota', 2022);\n",
    "carOne.startEngine(); // Output: Toyota engine started\n",
    "carOne.stopEngine();  // Output: Toyota engine stopped"
   ]
  },
  {
   "cell_type": "markdown",
   "id": "0945472a-4a48-41ee-b7ec-f6009a03c4eb",
   "metadata": {},
   "source": [
    "\n",
    "<h3 style=\"color:#013e85; font-family: 'Monserrat'; font-weight: 600;text-align: center;background-color:#fafafa; padding: 10px; border-radius: 8px;\">Principios de la programacion orientada a objetos</h3>\n"
   ]
  },
  {
   "cell_type": "markdown",
   "id": "5bd76928-fd11-4f27-a79d-3556d7e2d575",
   "metadata": {},
   "source": [
    "<h4 style=\"color:#021bd4; font-family: 'Nunito'; font-weight: 400;background-color:#f8f8f8; padding: 10px; border-radius: 8px;\">Herencia</h4>\n"
   ]
  },
  {
   "cell_type": "markdown",
   "id": "9e51afe5-258e-4532-9cfc-c1c33657f28b",
   "metadata": {},
   "source": [
    "*Función:*\n",
    "\n",
    "**La herencia permite que una clase hija herede propiedades y métodos de una clase padre, permitiendo reutilización de código y extensión de funcionalidades.**"
   ]
  },
  {
   "cell_type": "markdown",
   "id": "749b7d2e-0c2c-412a-8d86-2ce7baf38d39",
   "metadata": {},
   "source": [
    "```js\n",
    "lass ParentClass {\n",
    "    constructor(param1, param2) {\n",
    "        this.param1 = param1;\n",
    "        this.param2 = param2;\n",
    "    }\n",
    "    methodName() {\n",
    "        // method code\n",
    "    }\n",
    "}\n",
    "\n",
    "class ChildClass extends ParentClass {\n",
    "    constructor(param1, param2, param3) {\n",
    "        super(param1, param2);\n",
    "        this.param3 = param3;\n",
    "    }\n",
    "    childMethod() {\n",
    "        // method code\n",
    "    }\n",
    "}"
   ]
  },
  {
   "cell_type": "markdown",
   "id": "d5ce29c5-08b1-46ae-9f5b-74375519c430",
   "metadata": {},
   "source": [
    "<h5 style=\"color:#012c5e; font-family: 'Nunito'; font-weight: 400;\">Ejemplo</h5>"
   ]
  },
  {
   "cell_type": "markdown",
   "id": "d6b307d4-dc8f-4978-8eed-8bd10d90d4b8",
   "metadata": {},
   "source": [
    "----\n",
    "```js\n",
    "// Clase Padre\n",
    "class Animal {\n",
    "    constructor(name) {\n",
    "        this.name = name;\n",
    "    }\n",
    "\n",
    "    speak() {\n",
    "        console.log(`${this.name} makes a noise.`);\n",
    "    }\n",
    "}\n",
    "\n",
    "// Clase Hija\n",
    "class Dog extends Animal {\n",
    "    constructor(name, breed) {\n",
    "        super(name);  // Llamada al constructor de la clase padre\n",
    "        this.breed = breed;\n",
    "    }\n",
    "\n",
    "    speak() {\n",
    "        console.log(`${this.name} barks.`);\n",
    "    }\n",
    "\n",
    "    getBreed() {\n",
    "        console.log(`${this.name} is a ${this.breed}.`);\n",
    "    }\n",
    "}\n",
    "\n",
    "const dog = new Dog('Buddy', 'Golden Retriever');\n",
    "dog.speak(); // Buddy barks.\n",
    "dog.getBreed(); // Buddy is a Golden Retriever.\n",
    "\n"
   ]
  },
  {
   "cell_type": "markdown",
   "id": "560d73dd-b597-4f86-8c96-e4897a92d399",
   "metadata": {},
   "source": [
    "<h2 style=\"color: #012c5e; font-family: 'Monserrat', serif; font-weight: 700; background-color: #f5f5f5; padding: 10px; border-radius: 8px;\">Recorrer el DOM de JavaScript</h2>\n"
   ]
  },
  {
   "cell_type": "markdown",
   "id": "f739df79-6dde-4581-8046-59f8403bed0a",
   "metadata": {},
   "source": [
    "```plaintext\n",
    "Document\n",
    "│\n",
    "└── Root element: <html>\n",
    "    ├── Element\n",
    "    │       ├── <div>\n",
    "    │       │    ├── Attribute: id=\"container\"\n",
    "    │       │   \n",
    "    │       │   \n",
    "    │       │   \n",
    "    │       └── <p>\n",
    "    │       │    └── Text node: \"Este es un párrafo\"\n",
    "    │       │      ├── Attribute: class=\"main\" \n",
    "    │       │   \n",
    "    │       │   \n",
    "    │       └── <a>\n",
    "    │  \n",
    "    │\n",
    "    │\n",
    "    ├── Attribute\n",
    "    │   ├── id=\"en\"\n",
    "    │   └── class=\"main-content\"\n",
    "    │   └── scr=\n",
    "    │\n",
    "    └── Text node\n",
    "        └── \"Texto fuera de una etiqueta\"\n",
    "```"
   ]
  },
  {
   "cell_type": "markdown",
   "id": "049f6409-9ff3-46e1-bb81-b771c0ef4027",
   "metadata": {},
   "source": [
    "*Función:*\n",
    "\n",
    "**Traversing the DOM o \"recorrer el DOM\" implica navegar y manipular la estructura y el contenido de un documento HTML usando JavaScript.**\n",
    "\n",
    "    1)  El DOM representa una página web como un árbol jerárquico de objetos, donde cada elemento HTML es un nodo en el árbol."
   ]
  },
  {
   "cell_type": "markdown",
   "id": "953107b2-aace-486e-b385-9328fb91bbd5",
   "metadata": {},
   "source": [
    "\n",
    "<h3 style=\"color:#013e85; font-family: 'Monserrat'; font-weight: 600;text-align: center;background-color:#fafafa; padding: 10px; border-radius: 8px;\">Buscar elementos dentro de un contenedor</h3>\n"
   ]
  },
  {
   "cell_type": "markdown",
   "id": "a071b42e-0e22-4136-a784-f51f32941c97",
   "metadata": {},
   "source": [
    "*Función:*\n",
    "\n",
    "**Buscar elementos dentro de un contenedor implica seleccionar elementos específicos mediante selectores CSS o identificadores dentro de un nodo padre.**"
   ]
  },
  {
   "cell_type": "markdown",
   "id": "1c7ac903-b13c-4bfa-bfb6-3a430980fe85",
   "metadata": {},
   "source": [
    "```js\n",
    "// Buscar el primer elemento que coincida con un selector\n",
    "container.querySelector('selector')\n",
    "\n",
    "// Buscar todos los elementos que coincidan con un selector\n",
    "container.querySelectorAll('selector')"
   ]
  },
  {
   "cell_type": "markdown",
   "id": "a9bd09ba-071e-4739-96f4-80dbfc64889e",
   "metadata": {},
   "source": [
    "\n",
    "<h3 style=\"color:#013e85; font-family: 'Monserrat'; font-weight: 600;text-align: center;background-color:#fafafa; padding: 10px; border-radius: 8px;\">Navegar elementos padre e hijo</h3>\n"
   ]
  },
  {
   "cell_type": "markdown",
   "id": "b68e7c5f-d2f6-4ae6-b65f-800edce7db2a",
   "metadata": {},
   "source": [
    "*Función:*\n",
    "\n",
    "**Navegar entre elementos padre e hijo implica moverse hacia arriba y hacia abajo en la estructura jerárquica de un documento HTML para acceder y manipular las relaciones entre elementos.**"
   ]
  },
  {
   "cell_type": "markdown",
   "id": "760f1393-b760-4dad-8aa3-82408bb32458",
   "metadata": {},
   "source": [
    "```js\n",
    "// Acceder al elemento padre\n",
    "element.parentNode\n",
    "\n",
    "// Acceder a todos los elementos hijos\n",
    "element.childNodes\n",
    "\n",
    "\n",
    "// Acceder al primer hijo\n",
    "element.firstChild\n",
    "\n",
    "\n",
    "// Acceder al último hijo\n",
    "element.lastChild"
   ]
  },
  {
   "cell_type": "markdown",
   "id": "4f6cbaf4-3614-4204-9d7a-0f30cc2b7ef2",
   "metadata": {},
   "source": [
    "<h5 style=\"color:#012c5e; font-family: 'Nunito'; font-weight: 400;\">Ejemplo</h5>"
   ]
  },
  {
   "cell_type": "markdown",
   "id": "1c22eecf-858f-4397-b785-7c38e57954ef",
   "metadata": {},
   "source": [
    "---\n",
    "\n",
    "```html\n",
    "<div id=\"parent\">\n",
    "  <p class=\"child\">First child</p>\n",
    "  <p class=\"child\">Second child</p>\n",
    "</div>"
   ]
  },
  {
   "cell_type": "markdown",
   "id": "6e585d23-ea0e-4728-b995-ce66f5bc959a",
   "metadata": {},
   "source": [
    "```js\n",
    "// Acceder al nodo padre\n",
    "const parent = document.getElementById('parent');\n",
    "\n",
    "// Acceder al primer y último hijo\n",
    "const firstChild = parent.firstChild;\n",
    "const lastChild = parent.lastChild;"
   ]
  },
  {
   "cell_type": "markdown",
   "id": "abf2f578-4d51-46f0-99d4-369412709a96",
   "metadata": {},
   "source": [
    "\n",
    "<h3 style=\"color:#013e85; font-family: 'Monserrat'; font-weight: 600;text-align: center;background-color:#fafafa; padding: 10px; border-radius: 8px;\">Subir y bajar en el árbol del DOM</h3>\n"
   ]
  },
  {
   "cell_type": "markdown",
   "id": "2016e688-82f2-463a-bb98-6b9fce12ea6f",
   "metadata": {},
   "source": [
    "\n",
    "*Función:*\n",
    "\n",
    "**Recorrer hacia arriba y hacia abajo en el árbol del DOM implica navegar entre nodos padres e hijos mediante propiedades específicas.**"
   ]
  },
  {
   "cell_type": "markdown",
   "id": "b79a9476-7960-49aa-ad0b-745026de5d75",
   "metadata": {},
   "source": [
    "```js\n",
    "// Subir al nodo padre\n",
    "element.parentNode\n",
    "\n",
    "// Bajar al primer hijo\n",
    "element.firstChild\n",
    "\n",
    "\n",
    "// Bajar al último hijo\n",
    "element.lastChild\n",
    "\n",
    "\n",
    "// Subir al siguiente hermano\n",
    "element.nextSibling\n",
    "\n",
    "\n",
    "// Subir al hermano anterior\n",
    "element.previousSibling"
   ]
  },
  {
   "cell_type": "markdown",
   "id": "032fc6c3-3b03-4a5f-a7bd-0b7528ffb92e",
   "metadata": {},
   "source": [
    "<h5 style=\"color:#012c5e; font-family: 'Nunito'; font-weight: 400;\">Ejemplo</h5>"
   ]
  },
  {
   "cell_type": "markdown",
   "id": "73e3d7e0-13b4-4f71-b9c8-c9dd276fb30f",
   "metadata": {},
   "source": [
    "---\n",
    "```js"
   ]
  },
  {
   "cell_type": "markdown",
   "id": "35203a36-357f-43b7-b915-5781eb05f9e5",
   "metadata": {},
   "source": [
    "```html\n",
    "<div id=\"parent\">\n",
    "  <p class=\"child\">First child</p>\n",
    "  <p class=\"child\">Second child</p>\n",
    "</div>\n"
   ]
  },
  {
   "cell_type": "markdown",
   "id": "69262388-d760-47cd-b50a-efc33d6ab285",
   "metadata": {},
   "source": [
    "```js\n",
    "// Acceder al nodo padre\n",
    "const parent = document.getElementById('parent');\n",
    "\n",
    "// Acceder al primer y último hijo\n",
    "const firstChild = parent.firstChild;\n",
    "const lastChild = parent.lastChild;\n",
    "\n",
    "\n",
    "// Acceder al siguiente y anterior hermano\n",
    "const firstParagraph = parent.querySelector('.child');\n",
    "const nextSibling = firstParagraph.nextSibling;\n",
    "const previousSibling = firstParagraph.previousSibling;"
   ]
  },
  {
   "cell_type": "markdown",
   "id": "3f44b64c-67c2-47d1-906c-2531c23bf8d6",
   "metadata": {},
   "source": [
    "<h2 style=\"color: #012c5e; font-family: 'Monserrat', serif; font-weight: 700; background-color: #f5f5f5; padding: 10px; border-radius: 8px;\">Acceso a elementos del DOM</h2>\n"
   ]
  },
  {
   "cell_type": "markdown",
   "id": "e45b7400-cf3f-4063-aaba-45e86ee1b489",
   "metadata": {},
   "source": [
    "```js\n",
    "document.getElementById(\"id\")\n",
    "document.getElementsByClassName(\"class\")\n",
    "document.getElementsByTagName(\"tag\")\n",
    "document.querySelector(\"selector\")\n",
    "document.querySelectorAll(\"selector\")"
   ]
  },
  {
   "cell_type": "markdown",
   "id": "b821a190-1449-4110-96b9-13ce28d1c39b",
   "metadata": {},
   "source": [
    "\n",
    "<h3 style=\"color:#013e85; font-family: 'Monserrat'; font-weight: 600;text-align: center;background-color:#fafafa; padding: 10px; border-radius: 8px;\">getElementById</h3>\n"
   ]
  },
  {
   "cell_type": "markdown",
   "id": "23576a06-d1db-4a69-9815-7223186eeaff",
   "metadata": {},
   "source": [
    "*Función:*\n",
    "\n",
    "**Selecciona un único elemento HTML por su atributo id.**\n",
    "\n",
    "    1) Si el id no existe, devuelve null."
   ]
  },
  {
   "cell_type": "markdown",
   "id": "04dc3e4f-0145-47ce-b44f-9543848ad590",
   "metadata": {},
   "source": [
    "```html\n",
    "document.getElementById(id)"
   ]
  },
  {
   "cell_type": "markdown",
   "id": "544b4079-b422-4c96-9a1f-c068370de27c",
   "metadata": {},
   "source": [
    "<h5 style=\"color:#012c5e; font-family: 'Nunito'; font-weight: 400;\">Ejemplo</h5>\n",
    "\n",
    "---"
   ]
  },
  {
   "cell_type": "markdown",
   "id": "8990158a-3119-4b2d-a783-8228cd692ec7",
   "metadata": {},
   "source": [
    "```js\n",
    "// Selecciona un único elemento HTML por su atributo id\n",
    "const headingElement = document.getElementById('main-heading');\n",
    "console.log(headingElement);"
   ]
  },
  {
   "cell_type": "markdown",
   "id": "c2c7efea-ab1c-41b7-bd05-ef38442dc75d",
   "metadata": {},
   "source": [
    "\n",
    "<h3 style=\"color:#013e85; font-family: 'Monserrat'; font-weight: 600;text-align: center;background-color:#fafafa; padding: 10px; border-radius: 8px;\">getElementsByClassName</h3>\n"
   ]
  },
  {
   "cell_type": "markdown",
   "id": "805010d7-7bfe-437e-be2a-ce956301ef98",
   "metadata": {},
   "source": [
    "*Función:*\n",
    "\n",
    "**Selecciona múltiples elementos que comparten la misma clase.**\n",
    "\n",
    "    1) Tiene ámbito de función, lo que significa que es accesible en toda la función donde ha sido declarada.\n",
    "    2) Devuelve una HTMLCollection (similar a un array).\n",
    "    3) Si no hay coincidencias, devuelve una colección vacía []."
   ]
  },
  {
   "cell_type": "markdown",
   "id": "fd2dda34-4981-4ae5-a1d1-416d878fba31",
   "metadata": {},
   "source": [
    "```html\n",
    "document.getElementsByClassName(className)"
   ]
  },
  {
   "cell_type": "markdown",
   "id": "c4d99042-5c0b-4653-bee6-4d9444eb8f2d",
   "metadata": {},
   "source": [
    "<h5 style=\"color:#012c5e; font-family: 'Nunito'; font-weight: 400;\">Ejemplo</h5>\n",
    "\n",
    "---"
   ]
  },
  {
   "cell_type": "markdown",
   "id": "64aca1f4-decc-4c7f-b2cf-dd4a0fbe7551",
   "metadata": {},
   "source": [
    "```html\n",
    "    <!-- getElementsByClassName -->\n",
    "    <p class=\"highlighted\">This is the first highlighted paragraph.</p>\n",
    "    <p class=\"highlighted\">This is the second highlighted paragraph.</p>\n",
    "    <p>This is a regular paragraph.</p>\n"
   ]
  },
  {
   "cell_type": "markdown",
   "id": "22b2680f-568b-4f71-9b87-87d2154f08f7",
   "metadata": {},
   "source": [
    "```js\n",
    "const highlightedElements = document.getElementsByClassName('highlighted');\n",
    "for (let element of highlightedElements) {\n",
    "    element.textContent = 'This paragraph is highlighted';\n",
    "}"
   ]
  },
  {
   "cell_type": "markdown",
   "id": "f93ed941-6474-459b-83a0-0c8c0a170cac",
   "metadata": {},
   "source": [
    "**Componentes y atributos**\n",
    "\n",
    "* *`textContent`*: cambia el texto de cada elemento coincidente."
   ]
  },
  {
   "cell_type": "markdown",
   "id": "8deefc29-ae53-44a1-8f0c-eccb5c6220dc",
   "metadata": {},
   "source": [
    "\n",
    "<h3 style=\"color:#013e85; font-family: 'Monserrat'; font-weight: 600;text-align: center;background-color:#fafafa; padding: 10px; border-radius: 8px;\">getElementsByTagName</h3>\n"
   ]
  },
  {
   "cell_type": "markdown",
   "id": "7ae14aa3-f26b-474f-ac51-b07d9d6a363d",
   "metadata": {},
   "source": [
    "*Función:*\n",
    "\n",
    "**Selecciona múltiples elementos HTML que comparten el mismo nombre de etiqueta.**\n",
    "    \n",
    "    1) Retorna una colección (HTMLCollection) que se puede recorrer con un bucle.\n",
    "    2) Si no hay coincidencias, devuelve una colección vacía []."
   ]
  },
  {
   "cell_type": "markdown",
   "id": "9a3a4df3-d0f4-4a57-b2a6-481fe0dae1bf",
   "metadata": {},
   "source": [
    "```html\n",
    "document.getElementsByTagName(tagName)"
   ]
  },
  {
   "cell_type": "markdown",
   "id": "9ca163eb-8e47-468d-92ed-77cb3e819b99",
   "metadata": {},
   "source": [
    "<h5 style=\"color:#012c5e; font-family: 'Nunito'; font-weight: 400;\">Ejemplo</h5>\n",
    "\n",
    "---"
   ]
  },
  {
   "cell_type": "markdown",
   "id": "cdbe48b4-493e-4a7e-80ce-e1e5256f190c",
   "metadata": {},
   "source": [
    "```html\n",
    "    <!-- getElementsByTagName -->\n",
    "    <h2>This is an H2 heading</h2>\n",
    "    <p>This is a paragraph element 1.</p>\n",
    "    <p>This is a paragraph element 2.</p>"
   ]
  },
  {
   "cell_type": "markdown",
   "id": "2a6d0e8c-44ce-408a-b0be-1e7c35b6b510",
   "metadata": {},
   "source": [
    "```js\n",
    "const paragraphs = document.getElementsByTagName('p');\n",
    "const firstParagraph = paragraphs[0]; // Accede al primer elemento de la colección\n",
    "console.log(firstParagraph);"
   ]
  },
  {
   "cell_type": "markdown",
   "id": "2d61fde1-42f4-43de-b633-c2e5ad024eac",
   "metadata": {},
   "source": [
    "\n",
    "<h3 style=\"color:#013e85; font-family: 'Monserrat'; font-weight: 600;text-align: center;background-color:#fafafa; padding: 10px; border-radius: 8px;\">querySelector</h3>\n"
   ]
  },
  {
   "cell_type": "markdown",
   "id": "ba443472-68e1-447d-bb63-a5774be8e01e",
   "metadata": {},
   "source": [
    "*Función:*\n",
    "\n",
    "**Selecciona el primer elemento que coincide con el selector CSS especificado.**\n",
    "\n",
    "    1) Se usa para localizar elementos de manera precisa usando selectores complejos (como clases, atributos, etc.)."
   ]
  },
  {
   "cell_type": "markdown",
   "id": "59145bf7-d071-4a5a-be36-4ab7002f90b8",
   "metadata": {},
   "source": [
    "```html\n",
    "document.querySelector(selector)\n"
   ]
  },
  {
   "cell_type": "markdown",
   "id": "706063b8-b550-43c3-bcc4-26c3199290b8",
   "metadata": {},
   "source": [
    "**Componentes y atributos**\n",
    "\n",
    "* *`selector`* : Cadena (string) que representa un selector CSS válido (por ejemplo, .class, #id, tag).\n",
    "* *`querySelector`* : Método para seleccionar el primer elemento que coincida con el selector."
   ]
  },
  {
   "cell_type": "markdown",
   "id": "cd92fed5-d6fe-4376-9271-a5db17a9a29a",
   "metadata": {},
   "source": [
    "```html\n",
    "    <!-- querySelector -->\n",
    "    <div>\n",
    "        <p class=\"highlighted\">Another highlighted paragraph.</p>\n",
    "        <p id=\"my-paragraph\">This is some text.</p>\n",
    "    </div>"
   ]
  },
  {
   "cell_type": "markdown",
   "id": "879a16f9-e79f-4567-a2f6-594a75de3d2b",
   "metadata": {},
   "source": [
    "```js\n",
    "const firstHighlighted = document.querySelector('.highlighted');\n",
    "console.log(firstHighlighted);"
   ]
  },
  {
   "cell_type": "markdown",
   "id": "3309f75d-1298-47c0-89f2-06b07f5e483c",
   "metadata": {},
   "source": [
    "\n",
    "<h3 style=\"color:#013e85; font-family: 'Monserrat'; font-weight: 600;text-align: center;background-color:#fafafa; padding: 10px; border-radius: 8px;\">querySelectorAll()</h3>\n"
   ]
  },
  {
   "cell_type": "markdown",
   "id": "66298cee-1930-468e-91de-167dafa26c4d",
   "metadata": {},
   "source": [
    "*Función:*\n",
    "\n",
    "**Selecciona todos los elementos que coincidan con el selector CSS especificado.**\n",
    "\n",
    "    1) Devuelve una NodeList (una colección de nodos).\n",
    "    2) Permite manipular múltiples elementos al mismo tiempo."
   ]
  },
  {
   "cell_type": "markdown",
   "id": "8b7a04d8-c66b-442e-a46f-690031b11a54",
   "metadata": {},
   "source": [
    "```js\n",
    "document.querySelectorAll(selector);"
   ]
  },
  {
   "cell_type": "markdown",
   "id": "9ee976c6-3368-47f6-a3ff-e6b3d2bf65c1",
   "metadata": {},
   "source": [
    "```js\n"
   ]
  },
  {
   "cell_type": "markdown",
   "id": "d9e180ff-4524-4ae6-992a-0be78eb79927",
   "metadata": {},
   "source": [
    "<h2 style=\"color: #012c5e; font-family: 'Monserrat', serif; font-weight: 700; background-color: #f5f5f5; padding: 10px; border-radius: 8px;\">Creación de elementos en el DOM</h2>\n"
   ]
  },
  {
   "cell_type": "markdown",
   "id": "ae2acc56-f683-426c-b59f-5f559d7fcf41",
   "metadata": {},
   "source": [
    "```js\n",
    "document.createElement(\"tagName\")"
   ]
  },
  {
   "cell_type": "markdown",
   "id": "4b7fe3a5-820a-4d9b-8896-780a9aee163f",
   "metadata": {},
   "source": [
    "**Componentes y atributos**\n",
    "\n",
    "* *`createElement()`* : Crea un nuevo elemento HTML (aún no se añade al DOM)."
   ]
  },
  {
   "cell_type": "markdown",
   "id": "2ffa93e5-87e0-4ef3-8136-43cf85c7e03c",
   "metadata": {},
   "source": [
    "```js\n",
    "// Crear un elemento <h2>\n",
    "const h2Element = document.createElement(\"h2\");"
   ]
  },
  {
   "cell_type": "markdown",
   "id": "eaa965f7-a092-42e4-a874-54470b21235d",
   "metadata": {},
   "source": [
    "<h2 style=\"color: #012c5e; font-family: 'Monserrat', serif; font-weight: 700; background-color: #f5f5f5; padding: 10px; border-radius: 8px;\">Modificar contenido en el DOM</h2>\n"
   ]
  },
  {
   "cell_type": "markdown",
   "id": "6eac64ee-f450-42da-92d2-c26d7190e97b",
   "metadata": {},
   "source": [
    "\n",
    "<h3 style=\"color:#013e85; font-family: 'Monserrat'; font-weight: 600;text-align: center;background-color:#fafafa; padding: 10px; border-radius: 8px;\">Modificar contenido</h3>\n"
   ]
  },
  {
   "cell_type": "markdown",
   "id": "902c0fcd-f4e7-4d19-ad53-4f027b6d2665",
   "metadata": {},
   "source": [
    "```js\n",
    "element.innerText = \"text content\"\n",
    "element.innerHTML = \"<tag>content</tag>\""
   ]
  },
  {
   "cell_type": "markdown",
   "id": "49eefd7d-06ee-4194-8512-ea2adcb06909",
   "metadata": {},
   "source": [
    "**Componentes y atributos**\n",
    "\n",
    "* *`textContent`* : Cambia el texto visible en el elemento.\n",
    "* *`innerHTML`* : Cambia el contenido HTML del elemento, permitiendo insertar etiquetas HTML."
   ]
  },
  {
   "cell_type": "markdown",
   "id": "2727d674-6890-4541-9339-297f8b0acf40",
   "metadata": {},
   "source": [
    "<h5 style=\"color:#012c5e; font-family: 'Nunito'; font-weight: 400;\">Ejemplo 1</h5>\n",
    "\n",
    "---"
   ]
  },
  {
   "cell_type": "markdown",
   "id": "6e396759-1208-45c9-95a5-4d38271b8c8e",
   "metadata": {},
   "source": [
    "```js\n",
    "const paragraph = document.getElementById('my-paragraph');\n",
    "paragraph.textContent = 'This is updated text';"
   ]
  },
  {
   "cell_type": "markdown",
   "id": "2adc67d5-6526-43e8-a9c9-07f6686963a2",
   "metadata": {},
   "source": [
    "<h5 style=\"color:#012c5e; font-family: 'Nunito'; font-weight: 400;\">Ejemplo 2</h5>\n",
    "\n",
    "---"
   ]
  },
  {
   "cell_type": "markdown",
   "id": "9ac9008f-eac9-4450-b193-4e7851305997",
   "metadata": {},
   "source": [
    "```js\n",
    "// Crear un nuevo elemento h2\n",
    "const h2 = document.createElement('h2');\n",
    "\n",
    "// Añadir texto al elemento h2\n",
    "h2.innerText = 'This is a new H2 element';"
   ]
  },
  {
   "cell_type": "markdown",
   "id": "705d8f78-9f3e-4782-a1e5-4087969fcd81",
   "metadata": {},
   "source": [
    "\n",
    "<h3 style=\"color:#013e85; font-family: 'Monserrat'; font-weight: 600;text-align: center;background-color:#fafafa; padding: 10px; border-radius: 8px;\">Modificar atributos</h3>\n"
   ]
  },
  {
   "cell_type": "markdown",
   "id": "dfd0daae-75e4-442d-8ad8-dfddab0d58bb",
   "metadata": {},
   "source": [
    "```js\n",
    "element.setAttribute(\"attributeName\", \"value\")\n",
    "element.getAttribute(\"attributeName\")\n",
    "element.removeAttribute(\"attributeName\")"
   ]
  },
  {
   "cell_type": "markdown",
   "id": "39c4f343-9813-413e-bdcc-59dfbce4542f",
   "metadata": {},
   "source": [
    "**Componentes y atributos**\n",
    "\n",
    "* *`setAttribute()`* : Método para establecer un valor para un atributo específico / Cambia o agrega un atributo en el elemento HTML.\n",
    "* *`getAttribute()`* : Método para obtener el valor de un atributo específico\n",
    "* *`removeAttribute()`*  : Elimina un atributo del elemento.\n",
    "* *`value`* : Valor del atributo."
   ]
  },
  {
   "cell_type": "markdown",
   "id": "77b2598e-9f56-4a01-8faf-61ef87f26189",
   "metadata": {},
   "source": [
    "```html\n",
    "    <!-- html -->\n",
    "< img id=\"my-image\" src=\"old-image.jpg\">\n"
   ]
  },
  {
   "cell_type": "markdown",
   "id": "39225a99-3232-4906-be01-1fc2f3ce4922",
   "metadata": {},
   "source": [
    "```js\n",
    "//javascript\n",
    "const image = document.getElementById('my-image');\n",
    "image.setAttribute('src', 'new-image.jpg');\n"
   ]
  },
  {
   "cell_type": "markdown",
   "id": "2a597ea0-edc0-402d-8944-c95a6d1e11a3",
   "metadata": {},
   "source": [
    "\n",
    "<h3 style=\"color:#013e85; font-family: 'Monserrat'; font-weight: 600;text-align: center;background-color:#fafafa; padding: 10px; border-radius: 8px;\">Insertar elementos</h3>\n"
   ]
  },
  {
   "cell_type": "markdown",
   "id": "8d1a882e-5a25-4c7d-8016-1a332b77c6c3",
   "metadata": {},
   "source": [
    "*Función:*\n",
    "\n",
    "**Permite añadir o eliminar dinámicamente elementos HTML en tiempo de ejecución.**"
   ]
  },
  {
   "cell_type": "markdown",
   "id": "58f92ec4-b869-40b5-9774-8ea8838201ca",
   "metadata": {},
   "source": [
    "```js\n",
    "const newElement = document.createElement('tagName');\n",
    "parentElement.appendChild(newElement);\n",
    "parentElement.removeChild(existingElement);"
   ]
  },
  {
   "cell_type": "markdown",
   "id": "d4feee34-3219-47be-b8e7-e350839a40d4",
   "metadata": {},
   "source": [
    "**Componentes y atributos**\n",
    "\n",
    "* *`document.createElement()`* : Crea un nuevo elemento HTML.\n",
    "* *`appendChild() `*  : Añade un nuevo elemento como hijo de un elemento existente.\n",
    "* *`removeChild() `* : Elimina un elemento hijo de un elemento existente."
   ]
  },
  {
   "cell_type": "markdown",
   "id": "5434b598-fb60-4f6e-9f5a-071ed63f6bdf",
   "metadata": {},
   "source": [
    "```html\n",
    "    <!-- html -->\n",
    "<ul id=\"my-list\">\n",
    "    <li>Item 1</li>\n",
    "    <li>Item 2</li>\n",
    "    <li>Item 3</li>\n",
    "</ul>\n"
   ]
  },
  {
   "cell_type": "markdown",
   "id": "3ce9ce78-26d8-4870-80fb-3d84442b231a",
   "metadata": {},
   "source": [
    "```js\n",
    "const list = document.getElementById('my-list');\n",
    "const newItem = document.createElement('li');\n",
    "newItem.textContent ='Item 3';\n",
    "list.appendChild(newItem); // añade otro Item -> newItem"
   ]
  },
  {
   "cell_type": "markdown",
   "id": "c54a442b-f0ed-4f25-bab5-ff65c7ab8492",
   "metadata": {},
   "source": [
    "<h2 style=\"color: #012c5e; font-family: 'Monserrat', serif; font-weight: 700; background-color: #f5f5f5; padding: 10px; border-radius: 8px;\">Styling DOM de JavaScript</h2>\n"
   ]
  },
  {
   "cell_type": "markdown",
   "id": "03750166-1796-4b0b-b23c-fa11348960df",
   "metadata": {},
   "source": [
    "*Función:*\n",
    "\n",
    "**Styling en el contexto de desarrollo web se refiere al proceso de modificar la presentación visual de los elementos HTML en una página web utilizando propiedades y estilos de CSS mediante JavaScript**\n",
    "\n",
    "    1) Esto permite realizar cambios dinámicos en los elementos HTML, como:\n",
    "\n",
    "    Color\n",
    "    Tamaño\n",
    "    Posición\n",
    "    Visibilidad"
   ]
  },
  {
   "cell_type": "markdown",
   "id": "8aeda500-f320-4a67-9191-26bbfd6d6339",
   "metadata": {},
   "source": [
    "\n",
    "<h3 style=\"color:#013e85; font-family: 'Monserrat'; font-weight: 600;text-align: center;background-color:#fafafa; padding: 10px; border-radius: 8px;\">Modificar estilos en linea</h3>\n"
   ]
  },
  {
   "cell_type": "markdown",
   "id": "1f999354-4dae-4985-a964-725985857aa8",
   "metadata": {},
   "source": [
    "*Función:*\n",
    "\n",
    "**Permite modificar directamente los estilos inline de un elemento HTML mediante la asignación de valores a propiedades CSS específicas.**"
   ]
  },
  {
   "cell_type": "markdown",
   "id": "f161ffbe-928b-49e8-823c-f1113e029d35",
   "metadata": {},
   "source": [
    "```js\n",
    "element.style.property = value;"
   ]
  },
  {
   "cell_type": "markdown",
   "id": "97c0092c-9161-407b-848e-e7d3b23da95f",
   "metadata": {},
   "source": [
    "**Componentes y atributos**\n",
    "\n",
    "* *`element `*: Elemento HTML seleccionado.\n",
    "* *`style `*: Propiedad que accede a los estilos inline del elemento.\n",
    "* *`property`*: Nombre de la propiedad CSS a modificar.\n",
    "* *`value `*: Valor asignado a la propiedad CSS (en formato de cadena)."
   ]
  },
  {
   "cell_type": "markdown",
   "id": "17da8151-a37b-46ba-942b-02710ce9ee6c",
   "metadata": {},
   "source": [
    "<h5 style=\"color:#012c5e; font-family: 'Nunito'; font-weight: 400;\">Ejemplo 1</h5>\n",
    "\n",
    "---"
   ]
  },
  {
   "cell_type": "markdown",
   "id": "a9a62d43-a0f5-4e01-9117-1e73ecb7836b",
   "metadata": {},
   "source": [
    "```js\n",
    "<button id=\"myButton\">Click me</button>\n",
    "\n",
    "<script>\n",
    "  const button = document.getElementById(\"myButton\");\n",
    "  button.style.backgroundColor = \"blue\"; // Fondo azul\n",
    "  button.style.color = \"white\"; // Texto blanco\n",
    "  button.style.fontSize = \"16px\"; // Tamaño de fuente 16px\n",
    "</script>"
   ]
  },
  {
   "cell_type": "markdown",
   "id": "0bf01cb1-9d05-41b4-ac37-761f54d0e3e1",
   "metadata": {},
   "source": [
    "\n",
    "<h3 style=\"color:#013e85; font-family: 'Monserrat'; font-weight: 600;text-align: center;background-color:#fafafa; padding: 10px; border-radius: 8px;\">Manipular clases CSS</h3>\n"
   ]
  },
  {
   "cell_type": "markdown",
   "id": "7e864c71-6c7e-45b2-bdf4-06c3da4e6ac8",
   "metadata": {},
   "source": [
    "*Función:*\n",
    "\n",
    "**La propiedad classList facilita la manipulación de clases CSS en un elemento HTML.**\n",
    "    \n",
    "    1) Permite agregar, eliminar y alternar (toggle) clases predefinidas desde CSS.\n",
    "    2) Útil para aplicar estilos dinámicos mediante clases definidas en un archivo CSS externo."
   ]
  },
  {
   "cell_type": "markdown",
   "id": "ab8b9a03-45a2-4ae8-868e-d5442a672f44",
   "metadata": {},
   "source": [
    "```js\n",
    "element.classList.add(className);     // Agrega una clase\n",
    "element.classList.remove(className);  // Elimina una clase\n",
    "element.classList.toggle(className);  // Alterna una clase\n",
    "element.classList.contains(className); // Verifica si una clase existe"
   ]
  },
  {
   "cell_type": "markdown",
   "id": "4a0368bb-9389-452b-a1ce-8a2c69750207",
   "metadata": {},
   "source": [
    "<h5 style=\"color:#012c5e; font-family: 'Nunito'; font-weight: 400;\">Ejemplo 1</h5>\n",
    "\n",
    "---"
   ]
  },
  {
   "cell_type": "markdown",
   "id": "f58b6812-2466-473f-8e5f-a61203aad468",
   "metadata": {},
   "source": [
    "```js\n",
    "<div id=\"myDiv\" class=\"active\">This is a div</div>\n",
    "<button id=\"myButton\">Toggle Class</button>\n",
    "\n",
    "<script>\n",
    "  const div = document.getElementById(\"myDiv\");\n",
    "  const button = document.getElementById(\"myButton\");\n",
    "\n",
    "\n",
    "  button.addEventListener(\"click\", () => {\n",
    "    div.classList.toggle(\"active\");\n",
    "\n",
    "\n",
    "    if (div.classList.contains(\"active\")) {\n",
    "      div.style.backgroundColor = \"green\";\n",
    "    } else {\n",
    "      div.style.backgroundColor = \"yellow\";\n",
    "    }\n",
    "  });\n",
    "</script>\n",
    "\n",
    "\n",
    "<style>\n",
    "  .active {\n",
    "    border: 2px solid black;\n",
    "  }\n",
    "</style>"
   ]
  },
  {
   "cell_type": "markdown",
   "id": "0a229b08-0420-412e-8486-984386a95efa",
   "metadata": {},
   "source": [
    "**Componentes y atributos**\n",
    "\n",
    "* *`classList.toggle() `*: alterna entre agregar y eliminar la clase active.\n",
    "* *`classList.contains()  `*: verifica si la clase active está presente en el elemento."
   ]
  },
  {
   "cell_type": "markdown",
   "id": "80e4dc52-8a7b-4275-b4ba-d5a97a6a8f18",
   "metadata": {},
   "source": [
    "\n",
    "<h3 style=\"color:#013e85; font-family: 'Monserrat'; font-weight: 600;text-align: center;background-color:#fafafa; padding: 10px; border-radius: 8px;\">Modificar el atributo style</h3>\n"
   ]
  },
  {
   "cell_type": "markdown",
   "id": "f83ac3e2-6a8f-441f-b650-c6b45a897d64",
   "metadata": {},
   "source": [
    "*Función:*\n",
    "\n",
    "**El método setAttribute() permite establecer o modificar el atributo style de un elemento HTML usando una cadena de texto con propiedades CSS en línea.**\n",
    "\n",
    "    1) Reemplaza el valor completo del atributo style.\n",
    "    2) No es ideal cuando se desea mantener estilos existentes."
   ]
  },
  {
   "cell_type": "markdown",
   "id": "26a38466-8cd5-45b2-b167-985186232051",
   "metadata": {},
   "source": [
    "```js\n",
    "element.setAttribute('style', 'property: value; property: value;');"
   ]
  },
  {
   "cell_type": "markdown",
   "id": "6ff383ef-093c-4a9c-a5ab-0793b95a381d",
   "metadata": {},
   "source": [
    "<h5 style=\"color:#012c5e; font-family: 'Nunito'; font-weight: 400;\">Ejemplo 1</h5>\n",
    "\n",
    "---"
   ]
  },
  {
   "cell_type": "markdown",
   "id": "77f98f45-f97a-4b34-b1e8-0917bad41758",
   "metadata": {},
   "source": [
    "```js\n",
    "<p id=\"myParagraph\" style=\"color: red;\">This is a paragraph</p>\n",
    "\n",
    "<script>\n",
    "  const paragraph = document.getElementById(\"myParagraph\");\n",
    "  paragraph.setAttribute(\"style\", \"color: blue; font-size: 18px;\");\n",
    "</script>"
   ]
  },
  {
   "cell_type": "markdown",
   "id": "99be5a8e-49e4-4ba6-9adf-376382624b6d",
   "metadata": {},
   "source": [
    "\n",
    "<h3 style=\"color:#013e85; font-family: 'Monserrat'; font-weight: 600;text-align: center;background-color:#fafafa; padding: 10px; border-radius: 8px;\">Establece todos los estilos en línea </h3>\n"
   ]
  },
  {
   "cell_type": "markdown",
   "id": "73151939-eb63-443e-abae-df5065a2fac8",
   "metadata": {},
   "source": [
    "*Función:*\n",
    "\n",
    "**La propiedad cssText permite establecer todos los estilos en línea mediante una única cadena de texto CSS.**\n",
    "    \n",
    "    1) Similar a setAttribute() pero más directa para trabajar con estilos en línea.\n",
    "    2) Reemplaza todos los estilos en línea previamente definidos.\n",
    "    3) cssText sobrescribe todos los estilos en línea del elemento."
   ]
  },
  {
   "cell_type": "markdown",
   "id": "f3fd4234-7ad3-46f7-8123-d0bf33cbb561",
   "metadata": {},
   "source": [
    "```js\n",
    "element.style.cssText = 'property: value; property: value;';"
   ]
  },
  {
   "cell_type": "markdown",
   "id": "227f48b2-8fcb-4f23-8750-16f8fde81005",
   "metadata": {},
   "source": [
    "<h5 style=\"color:#012c5e; font-family: 'Nunito'; font-weight: 400;\">Ejemplo 1</h5>\n",
    "\n",
    "---"
   ]
  },
  {
   "cell_type": "markdown",
   "id": "26f95803-85e8-4f97-b02e-f680d677aa59",
   "metadata": {},
   "source": [
    "```js\n",
    "<p id=\"myText\">This is a text</p>\n",
    "\n",
    "<script>\n",
    "  const text = document.getElementById(\"myText\");\n",
    "  text.style.cssText = \"color: green; font-weight: bold;\";\n",
    "</script>"
   ]
  },
  {
   "cell_type": "markdown",
   "id": "e1101866-373b-448b-bf16-83ccf03931e7",
   "metadata": {},
   "source": [
    "\n",
    "<h3 style=\"color:#013e85; font-family: 'Monserrat'; font-weight: 600;text-align: center;background-color:#fafafa; padding: 10px; border-radius: 8px;\">Establece una propiedad CSS a style </h3>\n"
   ]
  },
  {
   "cell_type": "markdown",
   "id": "7b884eae-0094-45e8-890b-9522d289f9d6",
   "metadata": {},
   "source": [
    "*Función:*\n",
    "\n",
    "**El método setProperty() Permite establecer una propiedad CSS específica con una prioridad opcional (important), asegurando que el estilo se aplique incluso si existen otras reglas de estilo.**"
   ]
  },
  {
   "cell_type": "markdown",
   "id": "94c45447-3cb9-43c7-8b26-c1c9511d91ae",
   "metadata": {},
   "source": [
    "```js\n",
    "element.style.setProperty('property', 'value', 'priority');"
   ]
  },
  {
   "cell_type": "markdown",
   "id": "c8dc5dfe-34e2-4917-91a2-ec85b4540255",
   "metadata": {},
   "source": [
    "<h5 style=\"color:#012c5e; font-family: 'Nunito'; font-weight: 400;\">Ejemplo 1</h5>\n",
    "\n",
    "---"
   ]
  },
  {
   "cell_type": "markdown",
   "id": "fa428781-60ba-41a6-a652-533020654bba",
   "metadata": {},
   "source": [
    "```js\n",
    "<p id=\"myParagraph\">This is a paragraph</p>\n",
    "\n",
    "<script>\n",
    "  const paragraph = document.getElementById(\"myParagraph\");\n",
    "  paragraph.style.setProperty(\"color\", \"purple\", \"important\");\n",
    "</script>"
   ]
  },
  {
   "cell_type": "markdown",
   "id": "959f74c2-f0c0-4be8-8b30-63e1cd5b9576",
   "metadata": {},
   "source": [
    "**Componentes y atributos**\n",
    "\n",
    "* *`priority`* : (Opcional) asegura que esta regla tenga prioridad sobre otras reglas CSS.\n",
    "* *`setProperty()`* : define la propiedad CSS especificada."
   ]
  },
  {
   "cell_type": "markdown",
   "id": "d4af61a6-5b42-45a1-a4a1-6ba9f3cafb1b",
   "metadata": {},
   "source": [
    "\n",
    "<h3 style=\"color:#013e85; font-family: 'Monserrat'; font-weight: 600;text-align: center;background-color:#fafafa; padding: 10px; border-radius: 8px;\">Elimina una propiedad CSS específica  </h3>\n"
   ]
  },
  {
   "cell_type": "markdown",
   "id": "03d0938b-987d-47bc-a7bb-4686ff01162c",
   "metadata": {},
   "source": [
    "*Función:*\n",
    "\n",
    "**El método removeProperty() Permite eliminar una propiedad CSS específica del atributo style de un elemento, restaurando el valor predeterminado o heredado.**"
   ]
  },
  {
   "cell_type": "markdown",
   "id": "a7eb8f81-13d0-49d9-bd93-7369b25c6979",
   "metadata": {},
   "source": [
    "```js\n",
    "element.style.removeProperty('property');"
   ]
  },
  {
   "cell_type": "markdown",
   "id": "983550bc-a3f4-4625-a82d-1c2734c249e6",
   "metadata": {},
   "source": [
    "<h5 style=\"color:#012c5e; font-family: 'Nunito'; font-weight: 400;\">Ejemplo 1</h5>\n",
    "\n",
    "---"
   ]
  },
  {
   "cell_type": "markdown",
   "id": "f7bc7843-58e2-4b95-a9a8-29d8d420b2ff",
   "metadata": {},
   "source": [
    "```js\n",
    "<p id=\"myParagraph\" style=\"color: blue; font-size: 18px;\">This is a paragraph</p>\n",
    "\n",
    "<script>\n",
    "  const paragraph = document.getElementById(\"myParagraph\");\n",
    "  paragraph.style.removeProperty(\"font-size\");\n",
    "</script>"
   ]
  },
  {
   "cell_type": "markdown",
   "id": "66fde60f-9c37-4a9e-acc0-906c46d43eb0",
   "metadata": {},
   "source": [
    "**Componentes y atributos**\n",
    "\n",
    "* *`removeProperty()`*: elimina la propiedad font-size de los estilos en línea.\n",
    "Si hay un estilo heredado desde CSS externo, este podría aplicarse después de la eliminación."
   ]
  },
  {
   "cell_type": "markdown",
   "id": "597d744e-5188-4fe8-824d-be3bc1668ad0",
   "metadata": {},
   "source": [
    "<h2 style=\"color: #012c5e; font-family: 'Monserrat', serif; font-weight: 700; background-color: #f5f5f5; padding: 10px; border-radius: 8px;\">Eventos en el DOM</h2>\n"
   ]
  },
  {
   "cell_type": "markdown",
   "id": "b17f7d6d-18f7-4132-883f-2890df2b0f57",
   "metadata": {},
   "source": [
    "\n",
    "*Función:*\n",
    "\n",
    "**Permite asociar eventos a elementos HTML para responder a interacciones del usuario.**"
   ]
  },
  {
   "cell_type": "markdown",
   "id": "13bc0b72-abf0-40ca-867d-52f96babae30",
   "metadata": {},
   "source": [
    "```js\n",
    "// Añadir evento a un elemento\n",
    "element.addEventListener('eventName', callbackFunction);\n",
    "\n",
    "// Eliminar evento de un elemento\n",
    "element.removeEventListener('eventName', callbackFunction);"
   ]
  },
  {
   "cell_type": "markdown",
   "id": "749d3193-d1c5-4d83-a869-7c73af5c5b21",
   "metadata": {},
   "source": [
    "```js\n",
    "target.addEventListener(event, function);"
   ]
  },
  {
   "cell_type": "markdown",
   "id": "d2f8a4a7-e14e-4ffb-a18e-9b20fea6f1be",
   "metadata": {},
   "source": [
    "**Componentes y atributos**\n",
    "\n",
    "* *`addEventListener() `* : Método para registrar un evento en un elemento HTML.\n",
    "* *`event  `*: Nombre del evento (por ejemplo, click, mouseover).\n",
    "* *`function `* : Función que se ejecutará cuando ocurra el evento.\n",
    "* *`target `*: Elemento HTML que recibe el evento (como document, window, button, etc.)."
   ]
  },
  {
   "cell_type": "markdown",
   "id": "c2b0b3f4-c96c-47f6-9783-7c471730bb15",
   "metadata": {},
   "source": [
    "<h5 style=\"color:#012c5e; font-family: 'Nunito'; font-weight: 400;\">Ejemplo 1</h5>\n",
    "\n",
    "---"
   ]
  },
  {
   "cell_type": "markdown",
   "id": "d882621f-0ee7-4a98-a72c-d107beccf639",
   "metadata": {},
   "source": [
    "```html\n",
    "<!-- añadir el evento al html  -->\n",
    "<button id=\"my-button\">Click Me!</button>"
   ]
  },
  {
   "cell_type": "markdown",
   "id": "7ce65026-4ff3-45c3-938d-b5505251c714",
   "metadata": {},
   "source": [
    "```js\n",
    "// Seleccionar el elemento objetivo\n",
    "const target = document.getElementById('my-button');\n",
    "\n",
    "// Definir la función para manejar el evento\n",
    "function handleClick() {\n",
    "    console.log('Clicked the body');\n",
    "}\n",
    "\n",
    "\n",
    "// Registrar el evento usando addEventListener\n",
    "target.addEventListener('click', handleClick);\n"
   ]
  },
  {
   "cell_type": "markdown",
   "id": "bfa859ed-72e5-4dfc-a66c-6456a8f9110e",
   "metadata": {},
   "source": [
    "<h2 style=\"color: #012c5e; font-family: 'Monserrat', serif; font-weight: 700; background-color: #f5f5f5; padding: 10px; border-radius: 8px;\">JSON a Objeto JavaScript y viceversa</h2>\n"
   ]
  },
  {
   "cell_type": "markdown",
   "id": "3b5f7e60-c995-47f7-9504-920e5c22da4c",
   "metadata": {},
   "source": [
    "*Función:*\n",
    "\n",
    "**JSON se utiliza principalmente para intercambiar datos entre un cliente y un servidor o entre diferentes partes de un sistema.**\n",
    "\n",
    "    1) Se usa para serializar datos (convertir estructuras de datos en texto JSON) y deserializar datos (convertir texto JSON en estructuras de datos).\n",
    "    2) JSON también se utiliza para almacenar datos en archivos de configuración, caché, o bases de datos.\n",
    "    3) JSON facilita la comunicación entre sistemas heterogéneos ya que es un formato independiente de lenguaje.\n",
    "    4) JSON se puede analizar y generar fácilmente mediante bibliotecas en todos los lenguajes de programación modernos.\n",
    "\n",
    "- **Las claves deben estar entre comillas dobles (\"\").**\n",
    "- **Solo datos, sin métodos ni funciones.**"
   ]
  },
  {
   "cell_type": "markdown",
   "id": "d30569d0-03a6-4bd0-b578-e23964a9902f",
   "metadata": {},
   "source": [
    "\n",
    "<h3 style=\"color:#013e85; font-family: 'Monserrat'; font-weight: 600;text-align: center;background-color:#fafafa; padding: 10px; border-radius: 8px;\">Convertir un JSON string a un objeto JavaScript   </h3>\n"
   ]
  },
  {
   "cell_type": "markdown",
   "id": "206f3301-50c1-4b61-b2a8-24855df3034d",
   "metadata": {},
   "source": [
    "```js\n",
    "const objectName = JSON.parse(jsonString);"
   ]
  },
  {
   "cell_type": "markdown",
   "id": "69cd5bb1-30e4-42fc-ac5a-d798ecfbbb9b",
   "metadata": {},
   "source": [
    "**Componentes y atributos**\n",
    "\n",
    "* *`jsonString`* : String en formato JSON que se va a convertir a un objeto.\n",
    "* *`objectName`*: Nombre de la variable que almacenará el objeto resultante."
   ]
  },
  {
   "cell_type": "markdown",
   "id": "6dc3b499-448c-4636-9002-8656662c4496",
   "metadata": {},
   "source": [
    "```js\n",
    "const jsonString = '{\"greeting\": \"hello\"}'; // JSON válido\n",
    "const object = JSON.parse(jsonString);\n",
    "console.log(object.greeting); // Output: hello"
   ]
  },
  {
   "cell_type": "markdown",
   "id": "141efeef-e7b6-423f-8255-765a0c7b60f7",
   "metadata": {},
   "source": [
    "\n",
    "<h3 style=\"color:#013e85; font-family: 'Monserrat'; font-weight: 600;text-align: center;background-color:#fafafa; padding: 10px; border-radius: 8px;\">Convertir un objeto JavaScript a una cadena JSON</h3>\n"
   ]
  },
  {
   "cell_type": "markdown",
   "id": "05ecded3-5f12-40d0-a636-8582d565a587",
   "metadata": {},
   "source": [
    "```js\n",
    "const jsonString = JSON.stringify(objectName);"
   ]
  },
  {
   "cell_type": "markdown",
   "id": "3d34b439-d8ae-4ce4-a413-0f97b03d7994",
   "metadata": {},
   "source": [
    "*Componentes y atributos*\n",
    "\n",
    "* *`stringify()`* : Método que convierte un objeto JavaScript en una cadena JSON válida.\n",
    "* *`jsonString`*: Nombre de la variable que almacenará el string JSON resultante."
   ]
  },
  {
   "cell_type": "markdown",
   "id": "05df20a7-d08e-4432-8c4e-0b8de4156009",
   "metadata": {},
   "source": [
    "```js\n",
    "const data = { greeting: \"hello\" };\n",
    "const jsonString = JSON.stringify(data);\n",
    "console.log(jsonString); // Output: {\"greeting\":\"hello\"}"
   ]
  },
  {
   "cell_type": "markdown",
   "id": "e6d92f10-46ad-40c6-8b2c-78d65c09fccf",
   "metadata": {},
   "source": [
    "\n",
    "<h2 style=\"color: #012c5e; font-family: 'Monserrat', serif; font-weight: 700; background-color: #f5f5f5; padding: 10px; border-radius: 8px;\">Test con Jest</h2>\n",
    "\n",
    "<h3 style=\"color:#013e85; font-family: 'Monserrat'; font-weight: 600;text-align: center;background-color:#fafafa; padding: 10px; border-radius: 8px;\">Verificar la instalación de Node.js</h3>  \n",
    "\n",
    "**Para verificar si Node.js está instalado, ejecuta el siguiente comando en la terminal:**\n",
    "\n",
    "```bash\n",
    "node --version\n",
    "```\n",
    "\n",
    "* *Este comando mostrará la versión de Node.js instalada.*\n",
    "* *Si Node.js no está instalado, descárgalo desde [https://nodejs.org](https://nodejs.org).*\n",
    "\n",
    "---\n",
    "\n",
    "<h3 style=\"color:#013e85; font-family: 'Monserrat'; font-weight: 600;text-align: center;background-color:#fafafa; padding: 10px; border-radius: 8px;\">Verificar la instalación de NPM</h3>  \n",
    "Para verificar si NPM está instalado, ejecuta el siguiente comando en la terminal:\n",
    "\n",
    "```bash\n",
    "npm --version\n",
    "```\n",
    "\n",
    "* **Este comando mostrará la versión de NPM instalada.**\n",
    "* **Si NPM no está instalado, se instala automáticamente con Node.js.**\n",
    "\n",
    "---\n",
    "\n",
    "<h3 style=\"color:#013e85; font-family: 'Monserrat'; font-weight: 600;text-align: center;background-color:#fafafa; padding: 10px; border-radius: 8px;\">Verificar si Jest está instalado</h3>  \n",
    "Para verificar si Jest está instalado, ejecuta el siguiente comando en la terminal:\n",
    "\n",
    "```bash\n",
    "jest --version\n",
    "```\n",
    "\n",
    "➡️ Si Jest no está instalado, mostrará un mensaje de error.\n",
    "\n",
    "---\n",
    "\n",
    "<h3 style=\"color:#013e85; font-family: 'Monserrat'; font-weight: 600;text-align: center;background-color:#fafafa; padding: 10px; border-radius: 8px;\">Inicializar el proyecto con NPM</h3>  \n",
    "Inicializa un nuevo proyecto de Node.js ejecutando:\n",
    "\n",
    "```bash\n",
    "npm init -y\n",
    "```\n",
    "\n",
    "**Componentes y atributos**  \n",
    "- **`init`** → Crea un nuevo archivo `package.json` para registrar las dependencias y configuración del proyecto.  \n",
    "- **`-y`** → Responde automáticamente \"sí\" a todas las preguntas del asistente de configuración.  \n",
    "\n",
    "* *Este comando crea un archivo `package.json` en el directorio actual.*\n",
    "\n",
    "---\n",
    "\n",
    "<h3 style=\"color:#013e85; font-family: 'Monserrat'; font-weight: 600;text-align: center;background-color:#fafafa; padding: 10px; border-radius: 8px;\">Instalar Jest localmente</h3>  \n",
    "Para instalar Jest como una dependencia de desarrollo, ejecuta:\n",
    "\n",
    "```bash\n",
    "npm install --save-dev jest\n",
    "```\n",
    "\n",
    "**Componentes y atributos**  \n",
    "- **`npm install`** → Instala un paquete.  \n",
    "- **`--save-dev`** → Guarda la dependencia solo para desarrollo.  \n",
    "\n",
    "➡️ Esto agregará Jest a la sección `devDependencies` en `package.json`.\n",
    "\n",
    "---\n",
    "\n",
    "<h3 style=\"color:#013e85; font-family: 'Monserrat'; font-weight: 600;text-align: center;background-color:#fafafa; padding: 10px; border-radius: 8px;\">Configurar el comando de prueba en package.json</h3>  \n",
    "Abre el archivo `package.json` y agrega el siguiente script en la sección `\"scripts\"`:\n",
    "\n",
    "```json\n",
    "\"scripts\": {\n",
    "  \"test\": \"jest\"\n",
    "}\n",
    "```\n",
    "\n",
    "**Componentes y atributos**  \n",
    "- `\"test\"` → Nombre del script que se ejecutará con `npm run test`.  \n",
    "- `\"jest\"` → Comando que ejecutará Jest para correr las pruebas.  \n",
    "\n",
    "* **Esto permitirá ejecutar las pruebas con el comando `npm run test`.**\n",
    "\n",
    "---\n",
    "\n",
    "<h3 style=\"color:#013e85; font-family: 'Monserrat'; font-weight: 600;text-align: center;background-color:#fafafa; padding: 10px; border-radius: 8px;\">Mostrar paquetes obsoletos</h3>  \n",
    "Para mostrar paquetes obsoletos en el proyecto, ejecuta:\n",
    "\n",
    "```bash\n",
    "npm update\n",
    "```\n",
    "\n",
    "* **Esto actualizará los paquetes a sus versiones más recientes dentro de los rangos permitidos en `package.json`**\n",
    "\n",
    "---\n",
    "\n",
    "<h3 style=\"color:#013e85; font-family: 'Monserrat'; font-weight: 600;text-align: center;background-color:#fafafa; padding: 10px; border-radius: 8px;\">Actualizar todas las dependencias a la última versión</h3>  \n",
    "Para actualizar todas las dependencias a la última versión, ejecuta:\n",
    "\n",
    "```bash\n",
    "npx npm-check-updates -u\n",
    "```\n",
    "\n",
    "* **Esto actualizará automáticamente las versiones en `package.json`.**\n",
    "\n",
    "---\n",
    "\n",
    "<h3 style=\"color:#013e85; font-family: 'Monserrat'; font-weight: 600;text-align: center;background-color:#fafafa; padding: 10px; border-radius: 8px;\">Reinstalar dependencias</h3>  \n",
    "Para instalar todas las dependencias después de actualizarlas, ejecuta:\n",
    "\n",
    "```bash\n",
    "npm install\n",
    "```\n",
    "\n",
    "* **Esto instalará las versiones actualizadas de todas las dependencias.**\n",
    "\n",
    "---\n",
    "\n",
    "<h3 style=\"color:#013e85; font-family: 'Monserrat'; font-weight: 600;text-align: center;background-color:#fafafa; padding: 10px; border-radius: 8px;\">Crear un archivo en JavaScript</h3>  \n",
    "\n",
    "    1. Crea un archivo llamado `functionName.js`.  \n",
    "    2. Escribe la función que deseas probar:  \n",
    "\n",
    "```javascript\n",
    "// functionName.js\n",
    "function functionName(parameter) {\n",
    "    // cuerpo de la función\n",
    "    return value;\n",
    "}\n",
    "\n",
    "// Exportar la función\n",
    "module.exports = functionName;\n",
    "```\n",
    "\n",
    "**Ejemplo:**  \n",
    "Archivo `addFive.js`:\n",
    "\n",
    "```javascript\n",
    "// addFive.js\n",
    "function addFive(val) {\n",
    "  return val + 5;\n",
    "}\n",
    "\n",
    "module.exports = addFive;\n",
    "```\n",
    "\n",
    "---\n",
    "\n",
    "<h3 style=\"color:#013e85; font-family: 'Monserrat'; font-weight: 600;text-align: center;background-color:#fafafa; padding: 10px; border-radius: 8px;\">Crear un archivo de prueba para Jest</h3>  \n",
    "\n",
    "    1. Crea un archivo llamado `functionName.test.js` en el mismo directorio.  \n",
    "    2. Escribe una prueba para Jest:  \n",
    "\n",
    "```javascript\n",
    "// functionName.test.js\n",
    "const functionName = require('./functionName');\n",
    "\n",
    "test('description of the test', () => {\n",
    "    expect(functionName(input)).toBe(expectedOutput);\n",
    "});\n",
    "```\n",
    "\n",
    "**Componentes y atributos**  \n",
    "- **`require`** → Importa la función desde otro archivo.  \n",
    "- **`'description of the test'`** → Descripción de la prueba.  \n",
    "- **`expect`** → Método que define el valor esperado.  \n",
    "- **`toBe`** → Método que compara el valor esperado con el valor real.  \n",
    "\n",
    "**Ejemplo:**  \n",
    "Archivo `addFive.test.js`:\n",
    "\n",
    "```javascript\n",
    "// addFive.test.js\n",
    "const addFive = require('./addFive');\n",
    "\n",
    "test('returns the input value plus five', () => {\n",
    "    expect(addFive(3)).toBe(8);\n",
    "});\n",
    "```\n",
    "\n",
    "---\n",
    "\n",
    "<h3 style=\"color:#013e85; font-family: 'Monserrat'; font-weight: 600;text-align: center;background-color:#fafafa; padding: 10px; border-radius: 8px;\">Ejecución de la prueba</h3>  \n",
    "Para ejecutar las pruebas, usa el siguiente comando:\n",
    "\n",
    "```bash\n",
    "npm run test\n",
    "```\n",
    "\n",
    "➡️ **Resultado esperado:**\n",
    "\n",
    "```bash\n",
    "PASS  ./addFive.test.js\n",
    "✓ returns the input value plus five (5 ms)\n",
    "```\n",
    "\n",
    "✅ Si la prueba pasa, mostrará el resultado con un mensaje **\"PASS\"**.  \n",
    "❌ Si la prueba falla, mostrará el mensaje **\"FAIL\"** con detalles del error.  \n",
    "\n",
    "---\n",
    "\n",
    "```"
   ]
  },
  {
   "cell_type": "code",
   "execution_count": null,
   "id": "0db30112-f10c-4508-9957-e89090b8dbd0",
   "metadata": {},
   "outputs": [],
   "source": []
  }
 ],
 "metadata": {
  "kernelspec": {
   "display_name": "Python (venv)",
   "language": "python",
   "name": "venv"
  },
  "language_info": {
   "codemirror_mode": {
    "name": "ipython",
    "version": 3
   },
   "file_extension": ".py",
   "mimetype": "text/x-python",
   "name": "python",
   "nbconvert_exporter": "python",
   "pygments_lexer": "ipython3",
   "version": "3.13.2"
  }
 },
 "nbformat": 4,
 "nbformat_minor": 5
}
