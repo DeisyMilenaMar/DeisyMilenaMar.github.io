{
 "cells": [
  {
   "cell_type": "markdown",
   "id": "c247f9fe-0c7a-4bef-aa08-f59dcb2a50ac",
   "metadata": {},
   "source": [
    "<h1 style=\"color: #002147; font-family: 'Garamond', serif; font-weight: 600; text-align: center;\">Introducción a JavaScript</h1>"
   ]
  },
  {
   "cell_type": "markdown",
   "id": "73b87692-8996-44e1-9ae7-00790cb8d631",
   "metadata": {},
   "source": [
    "<h2 style=\"color: #012c5e; font-family: 'Monserrat', serif; font-weight: 700; background-color: #f5f5f5; padding: 10px; border-radius: 8px;\">variables var, let y const</h2>\n"
   ]
  },
  {
   "cell_type": "markdown",
   "id": "6ac5d565-9286-4fee-a146-69814c74b485",
   "metadata": {},
   "source": [
    "<h3 style=\"color:#013e85; font-family: 'Monserrat'; font-weight: 500; text-align: center;\"> var</h3>\n"
   ]
  },
  {
   "cell_type": "markdown",
   "id": "ff2a550f-6b24-479e-b03c-af2303cb82be",
   "metadata": {},
   "source": [
    "*Función*:\n",
    "\n",
    "`var` permite declarar una variable que puede ser re-declarada y reasignada.\n",
    "\n",
    "        1) Tiene ámbito de función, lo que significa que es accesible en toda la función donde ha sido declarada.\n",
    "        2) Si se intenta acceder a una variable var antes de que haya sido declarada, devolverá undefined debido a la elevación (hoisting).\n",
    "        3) La variable var se declara en el contexto de ejecución global o de función."
   ]
  },
  {
   "cell_type": "markdown",
   "id": "cafdc45d-9504-40b0-9458-deaf12eeb637",
   "metadata": {},
   "source": [
    "```js\n",
    "// var\n",
    "var user = \"Mary\"; \n",
    "console.log(user); // Output: Mary\n",
    "var user = \"Joanna\"; \n",
    "console.log(user); // Output: Joanna\n",
    "user = \"Mark\"; \n",
    "console.log(user); // Output: Mark"
   ]
  },
  {
   "cell_type": "markdown",
   "id": "8eb613f3-f343-4e88-ad71-a8e79d0ca0a9",
   "metadata": {},
   "source": [
    "<h3 style=\"color:#013e85; font-family: 'Monserrat'; font-weight: 300;text-align: center;\">let</h3>\n"
   ]
  },
  {
   "cell_type": "markdown",
   "id": "71d991eb-bb1c-41ce-bf11-13b80ccaf3e9",
   "metadata": {},
   "source": [
    "*Función*:\n",
    "\n",
    "`let` permite declarar una variable que no puede ser re-declarada en el mismo ámbito.\n",
    "\n",
    "    1) Tiene ámbito de bloque, por lo que solo está disponible dentro del bloque donde fue declarada.\n",
    "    2) Si se intenta acceder a una variable let antes de su declaración, lanzará un ReferenceError.\n",
    "    3) Puede ser reasignada después de la declaración."
   ]
  },
  {
   "cell_type": "markdown",
   "id": "1b9546d1-6d70-487f-8f92-8662f1a85c78",
   "metadata": {},
   "source": [
    "```js\n",
    "// let\n",
    "let name = \"Anna\";\n",
    "console.log(name); // Output: Anna\n",
    "name = \"Sara\"; \n",
    "console.log(name); // Output: Sara\n",
    "// let name = \"John\"; // Error: Identifier 'name' has already been declared"
   ]
  },
  {
   "cell_type": "markdown",
   "id": "3ae4434b-446d-4184-ab3a-57c7b554ba5d",
   "metadata": {},
   "source": [
    "<h3 style=\"color:#013e85; font-family: 'Monserrat'; font-weight: 300;text-align: center;\">const</h3>\n"
   ]
  },
  {
   "cell_type": "markdown",
   "id": "97dba04e-6e1c-42c5-b114-69814490e00e",
   "metadata": {},
   "source": [
    "*Función*:\n",
    "\n",
    "Las variables declaradas con const tienen ámbito de bloque (block scope).\n",
    "\n",
    "    1) No pueden ser re-declaradas ni reasignadas.\n",
    "    2) El valor debe ser inicializado en el momento de la declaración.\n",
    "    3) No se puede reasignar un nuevo valor, pero si es un objeto o arreglo, sus propiedades o elementos sí pueden ser modificados.\n"
   ]
  },
  {
   "cell_type": "markdown",
   "id": "ef406445-17c2-4e41-aefc-25a7727e46c9",
   "metadata": {},
   "source": [
    "```js\n",
    "// const\n",
    "const age = 30;\n",
    "console.log(age); // Output: 30\n",
    "// age = 35; // Error: Assignment to constant variable.\n",
    "const userInfo = { name: \"Anna\" };\n",
    "userInfo.name = \"Sara\"; // Esto es permitido porque solo se modifica la propiedad\n",
    "console.log(userInfo.name); // Output: Sara"
   ]
  },
  {
   "cell_type": "markdown",
   "id": "864438eb-3ef2-4063-b9a1-7483b3131a33",
   "metadata": {},
   "source": [
    "<h2 style=\"color: #012c5e; font-family: 'Monserrat', serif; font-weight: 700; background-color: #f5f5f5; padding: 10px; border-radius: 8px;\">variables var, let y const</h2>\n"
   ]
  },
  {
   "cell_type": "code",
   "execution_count": null,
   "id": "07687309-b634-46b6-81ba-8d2e27cf4c5f",
   "metadata": {},
   "outputs": [],
   "source": []
  }
 ],
 "metadata": {
  "kernelspec": {
   "display_name": "Python (venv)",
   "language": "python",
   "name": "venv"
  },
  "language_info": {
   "codemirror_mode": {
    "name": "ipython",
    "version": 3
   },
   "file_extension": ".py",
   "mimetype": "text/x-python",
   "name": "python",
   "nbconvert_exporter": "python",
   "pygments_lexer": "ipython3",
   "version": "3.13.2"
  }
 },
 "nbformat": 4,
 "nbformat_minor": 5
}
