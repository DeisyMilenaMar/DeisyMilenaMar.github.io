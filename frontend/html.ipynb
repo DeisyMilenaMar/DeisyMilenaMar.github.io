{
 "cells": [
  {
   "cell_type": "markdown",
   "id": "cdd23061-7845-49c6-985a-2882ae6ddd98",
   "metadata": {},
   "source": [
    "<h1 style=\"color: #002147; font-family: 'Garamond', serif; font-weight: 600; text-align: center;\">HTML</h1>"
   ]
  },
  {
   "cell_type": "markdown",
   "id": "651383b4-91bf-460e-a8f6-f9e30a752e4b",
   "metadata": {},
   "source": [
    "<h2 style=\"color: #012c5e; font-family: 'Monserrat', serif; font-weight: 700; background-color: #f5f5f5; padding: 10px; border-radius: 8px;\">HTML - Etiquetas de contenido y organización</h2>\n"
   ]
  },
  {
   "cell_type": "markdown",
   "id": "db865c6f-3d84-490b-b744-93f059d8bd20",
   "metadata": {},
   "source": [
    "<h3 style=\"color:#013e85; font-family: 'Monserrat'; font-weight: 600;text-align: center;background-color:#fafafa; padding: 10px; border-radius: 8px;\">Etiquetas de metadatos</h3>\n"
   ]
  },
  {
   "cell_type": "markdown",
   "id": "f63c96a6-c2c6-4e73-a476-33d4cb5bae41",
   "metadata": {},
   "source": [
    "* *Función*:\n",
    "\n",
    "**Las etiquetas de metadatos se colocan dentro de la etiqueta `<head>` y proporcionan información sobre el documento HTML.**"
   ]
  },
  {
   "cell_type": "markdown",
   "id": "cc7c9ba0-75fa-4a71-850d-30c5cb78f00c",
   "metadata": {},
   "source": [
    "```html\n",
    "<head>\n",
    "    <title>Título de la página</title>\n",
    "    <meta charset=\"UTF-8\">\n",
    "    <meta name=\"description\" content=\"Descripción de la página\">\n",
    "    <meta name=\"viewport\" content=\"width=device-width, initial-scale=1.0\">\n",
    "</head>\n"
   ]
  },
  {
   "cell_type": "markdown",
   "id": "8d83c669-ed58-47e3-8579-c0ffa4854004",
   "metadata": {},
   "source": [
    "---\n",
    "<h5 style=\"color:#012c5e; font-family: 'Nunito'; font-weight: 400;\">Ejemplo</h5>\n"
   ]
  },
  {
   "cell_type": "markdown",
   "id": "75d0a337-34c4-4b1b-9a7d-a3b02a645ead",
   "metadata": {},
   "source": [
    "```html\n",
    "<head>\n",
    "    <title>My Website</title>\n",
    "    <meta charset=\"UTF-8\">\n",
    "    <meta name=\"description\" content=\"A simple website example\">\n",
    "</head>\n"
   ]
  },
  {
   "cell_type": "markdown",
   "id": "6d4ae513-fd01-4114-99a8-c059f3268918",
   "metadata": {
    "jp-MarkdownHeadingCollapsed": true
   },
   "source": [
    "<h3 style=\"color:#013e85; font-family: 'Monserrat'; font-weight: 600;text-align: center;background-color:#fafafa; padding: 10px; border-radius: 8px;\">Etiquetas de estructura de la página</h3>\n"
   ]
  },
  {
   "cell_type": "markdown",
   "id": "b3f12718-e048-424e-9118-6a5b660aab1f",
   "metadata": {},
   "source": [
    "* *Función*:\n",
    "\n",
    "**Organizar el contenido de la página para facilitar la navegación y comprensión del usuario.**"
   ]
  },
  {
   "cell_type": "markdown",
   "id": "e9a7f7b2-f24f-468b-b3f0-32dfb7385989",
   "metadata": {},
   "source": [
    "```html\n",
    "<body>\n",
    "    <header>Encabezado</header>\n",
    "    <section>Sección de contenido</section>\n",
    "    <footer>Pie de página</footer>\n",
    "</body>\n"
   ]
  },
  {
   "cell_type": "markdown",
   "id": "c8dbd69e-c298-4338-b3e1-630625d39d33",
   "metadata": {},
   "source": [
    "**Componentes y atributos**\n",
    "\n",
    "* `<body> ` : Contiene el contenido visible de la página.\n",
    "* `<header>` : Define el encabezado de la página o sección.\n",
    "* `<section> ` :  Define una sección de contenido.\n",
    "* `<footer>` :  Define el pie de página o información adicional."
   ]
  },
  {
   "cell_type": "markdown",
   "id": "f5d750ed-e6b2-4ae8-8d5b-02ed039f59cd",
   "metadata": {
    "jp-MarkdownHeadingCollapsed": true
   },
   "source": [
    "---\n",
    "<h5 style=\"color:#012c5e; font-family: 'Nunito'; font-weight: 400;\">Ejemplo</h5>\n"
   ]
  },
  {
   "cell_type": "markdown",
   "id": "e55c2a73-1831-4d1a-bf86-374218ae7867",
   "metadata": {},
   "source": [
    "```html\n",
    "<body>\n",
    "    <header>Welcome to My Website</header>\n",
    "    <section>Here is some content</section>\n",
    "    <footer>Contact us at example@example.com</footer>\n",
    "</body>\n"
   ]
  },
  {
   "cell_type": "markdown",
   "id": "4379d0c6-35af-4216-8e7a-2d98769b0be0",
   "metadata": {
    "jp-MarkdownHeadingCollapsed": true
   },
   "source": [
    "<h3 style=\"color:#013e85; font-family: 'Monserrat'; font-weight: 600;text-align: center;background-color:#fafafa; padding: 10px; border-radius: 8px;\">Etiquetas de texto</h3>\n"
   ]
  },
  {
   "cell_type": "markdown",
   "id": "91f7aa57-841d-4920-8913-282bba9ba9db",
   "metadata": {},
   "source": [
    "* *Función*:\n",
    "\n",
    "**Las etiquetas de texto permiten dar formato y estructura al contenido textual de la página.**"
   ]
  },
  {
   "cell_type": "markdown",
   "id": "ff62fcef-34d5-430a-9eb3-1f3c7a38a8d1",
   "metadata": {},
   "source": [
    "```html\n",
    "<h1>Título principal</h1>\n",
    "<h2>Subtítulo</h2>\n",
    "<p>Texto de párrafo</p>\n",
    "<strong>Texto en negrita</strong>\n",
    "<em>Texto en cursiva</em>\n",
    "<b>Text to be bold</b>\n",
    "<em>Text to be emphasized</em>\n",
    "\n"
   ]
  },
  {
   "cell_type": "markdown",
   "id": "3a993b2e-d9cd-4cc3-b0f6-44c73f2c9e12",
   "metadata": {},
   "source": [
    "**Componentes y atributos**\n",
    "\n",
    "* `<h1> a <h6> ` : Definen encabezados de nivel\n",
    "* `<p>` : Define un párrafo de texto.\n",
    "* `<strong> ` :   Texto en negrita (semántico).\n",
    "* `<em>` :  Texto en cursiva (semántico).\n",
    "* `<b>` :  texto aparezca en negrita (bold)."
   ]
  },
  {
   "cell_type": "markdown",
   "id": "771f1e80-ec62-4a46-a13f-d5f282fab2b6",
   "metadata": {},
   "source": [
    "```html\n",
    "<body>\n",
    "    <h1>Heading 1</h1>\n",
    "    <h2>Heading 2</h2>\n",
    "    <h3>Heading 3</h3>\n",
    "    <h4>Heading 4</h4>\n",
    "    <h5>Heading 5</h5>\n",
    "    <h6>Heading 6</h6>\n",
    "</body>"
   ]
  },
  {
   "cell_type": "markdown",
   "id": "2afecc9b-c17a-4b99-b7d9-51dd89d95215",
   "metadata": {
    "jp-MarkdownHeadingCollapsed": true
   },
   "source": [
    "---\n",
    "<h5 style=\"color:#012c5e; font-family: 'Nunito'; font-weight: 400;\">Ejemplo</h5>\n"
   ]
  },
  {
   "cell_type": "markdown",
   "id": "4d6959f2-6d8b-4889-86c5-a96d0d009377",
   "metadata": {},
   "source": [
    "```html\n",
    "<h1>Main Title</h1>\n",
    "<h2>Subtitle</h2>\n",
    "<p>This is a paragraph with <strong>bold</strong> and <em>italic</em> text.</p>\n"
   ]
  },
  {
   "cell_type": "markdown",
   "id": "d5cdff34-9f39-4413-8e73-6760cb49d4fa",
   "metadata": {
    "jp-MarkdownHeadingCollapsed": true
   },
   "source": [
    "<h3 style=\"color:#013e85; font-family: 'Monserrat'; font-weight: 600;text-align: center;background-color:#fafafa; padding: 10px; border-radius: 8px;\">Listas no ordenadas : ul</h3>\n"
   ]
  },
  {
   "cell_type": "markdown",
   "id": "71ad1ec0-c6c9-4fe5-a312-a5f678365e97",
   "metadata": {},
   "source": [
    "* *Función*:\n",
    "\n",
    "**Las listas no ordenadas presentan información en forma de una lista con viñetas (sin orden específico).**"
   ]
  },
  {
   "cell_type": "markdown",
   "id": "f2e7254e-0567-4ec9-b7c7-92c9b32f3c89",
   "metadata": {},
   "source": [
    "```html\n",
    "<ul>\n",
    "    <li>Elemento 1</li>\n",
    "    <li>Elemento 2</li>\n",
    "    <li>Elemento 3</li>\n",
    "</ul>\n"
   ]
  },
  {
   "cell_type": "markdown",
   "id": "0e9be926-303f-4935-8b42-49e7bf6ee6b7",
   "metadata": {},
   "source": [
    "**Componentes y atributos**\n",
    "\n",
    "* `<ul> ` :Define una lista no ordenada.\n",
    "* `<li>` : Define un elemento dentro de la lista.\n"
   ]
  },
  {
   "cell_type": "markdown",
   "id": "2dd539ac-2179-47e8-9566-ee011096ed4f",
   "metadata": {
    "jp-MarkdownHeadingCollapsed": true
   },
   "source": [
    "---\n",
    "<h5 style=\"color:#012c5e; font-family: 'Nunito'; font-weight: 400;\">Ejemplo</h5>\n"
   ]
  },
  {
   "cell_type": "markdown",
   "id": "3fa927a3-56e2-4682-af5d-a69148b83654",
   "metadata": {},
   "source": [
    "```html\n",
    "<ul>\n",
    "    <li>Apple</li>\n",
    "    <li>Banana</li>\n",
    "    <li>Orange</li>\n",
    "</ul>\n"
   ]
  },
  {
   "cell_type": "markdown",
   "id": "d43e8bb0-c624-4ed8-9ee2-943fc3d0e473",
   "metadata": {
    "jp-MarkdownHeadingCollapsed": true
   },
   "source": [
    "<h3 style=\"color:#013e85; font-family: 'Monserrat'; font-weight: 600;text-align: center;background-color:#fafafa; padding: 10px; border-radius: 8px;\">Listas ordenadas (ol)</h3>\n"
   ]
  },
  {
   "cell_type": "markdown",
   "id": "5de3c78b-1027-4558-b903-781bceae10c0",
   "metadata": {},
   "source": [
    "* *Función*:\n",
    "\n",
    "**Las listas ordenadas presentan información en orden secuencial mediante números o letras.**"
   ]
  },
  {
   "cell_type": "markdown",
   "id": "052d009e-229e-459f-a4d5-2bba8847e437",
   "metadata": {},
   "source": [
    "```html\n",
    "<ol>\n",
    "    <li>Primer elemento</li>\n",
    "    <li>Segundo elemento</li>\n",
    "    <li>Tercer elemento</li>\n",
    "</ol>\n"
   ]
  },
  {
   "cell_type": "markdown",
   "id": "a8173981-bd3e-400e-a60f-99157a377279",
   "metadata": {},
   "source": [
    "**Componentes y atributos**\n",
    "\n",
    "* `<ol>` :Define una lista ordenada.\n",
    "* `<li>` : Define un elemento dentro de la lista.\n"
   ]
  },
  {
   "cell_type": "markdown",
   "id": "a9d1b7ca-2abf-4f10-97f2-a67f6f3e953c",
   "metadata": {
    "jp-MarkdownHeadingCollapsed": true
   },
   "source": [
    "---\n",
    "<h5 style=\"color:#012c5e; font-family: 'Nunito'; font-weight: 400;\">Ejemplo</h5>\n"
   ]
  },
  {
   "cell_type": "markdown",
   "id": "b28647ed-fb5c-4f43-aa1a-9c85d8afe9b9",
   "metadata": {},
   "source": [
    "```html\n",
    "<ol>\n",
    "    <li>Step 1</li>\n",
    "    <li>Step 2</li>\n",
    "    <li>Step 3</li>\n",
    "</ol>\n"
   ]
  },
  {
   "cell_type": "markdown",
   "id": "ea3da2b2-ca51-4e4b-8108-415fdb952ea9",
   "metadata": {
    "jp-MarkdownHeadingCollapsed": true
   },
   "source": [
    "<h3 style=\"color:#013e85; font-family: 'Monserrat'; font-weight: 600;text-align: center;background-color:#fafafa; padding: 10px; border-radius: 8px;\">Tablas</h3>\n"
   ]
  },
  {
   "cell_type": "markdown",
   "id": "47557e03-5639-4284-ab55-44e7f979744c",
   "metadata": {},
   "source": [
    "* *Función*:\n",
    "\n",
    "**Las tablas permiten organizar información en filas y columnas.**"
   ]
  },
  {
   "cell_type": "markdown",
   "id": "6fe06bea-19b7-4e0d-b093-5f820d5607c2",
   "metadata": {},
   "source": [
    "```html\n",
    "<table>\n",
    "    <tr>\n",
    "        <th>Encabezado 1</th>\n",
    "        <th>Encabezado 2</th>\n",
    "    </tr>\n",
    "    <tr>\n",
    "        <td>Dato 1</td>\n",
    "        <td>Dato 2</td>\n",
    "    </tr>\n",
    "</table>\n"
   ]
  },
  {
   "cell_type": "markdown",
   "id": "c025055c-9ea9-4fd7-a9d8-dea6e0512622",
   "metadata": {},
   "source": [
    "**Componentes y atributos**\n",
    "\n",
    "* `<tr>` :  Define una fila.\n",
    "* `<th>` :  Define una celda de encabezado.\n",
    "* `<td>` :  Define una celda de datos."
   ]
  },
  {
   "cell_type": "markdown",
   "id": "1b01138d-524a-49df-881b-8f47ccd6d7ea",
   "metadata": {
    "jp-MarkdownHeadingCollapsed": true
   },
   "source": [
    "---\n",
    "<h5 style=\"color:#012c5e; font-family: 'Nunito'; font-weight: 400;\">Ejemplo</h5>\n"
   ]
  },
  {
   "cell_type": "markdown",
   "id": "b71465a9-0b11-4ca8-8365-0e2a8edbab7f",
   "metadata": {},
   "source": [
    "```html\n",
    "<table>\n",
    "    <tr>\n",
    "        <th>Fruit</th>\n",
    "        <th>Color</th>\n",
    "    </tr>\n",
    "    <tr>\n",
    "        <td>Apple</td>\n",
    "        <td>Red</td>\n",
    "    </tr>\n",
    "</table>\n"
   ]
  },
  {
   "cell_type": "markdown",
   "id": "aab77211-2d4b-4399-8ffd-575925753ade",
   "metadata": {},
   "source": [
    "<h2 style=\"color: #012c5e; font-family: 'Monserrat', serif; font-weight: 700; background-color: #f5f5f5; padding: 10px; border-radius: 8px;\">Etiquetas semánticas principales</h2>\n"
   ]
  },
  {
   "cell_type": "markdown",
   "id": "e61cdd31-0d0c-4482-a055-94068e513dec",
   "metadata": {},
   "source": [
    "| **Concepto** | **Función** | **Sintaxis general o básica** |\n",
    "|------------|------------|--------------------------------|\n",
    "| **`<!DOCTYPE html>`** | Declara el tipo de documento para que el navegador interprete el código como HTML5. | `<!DOCTYPE html>` |\n",
    "| **`<html>`** | Elemento raíz que encierra todo el contenido de la página. | `<html lang=\"en\">` |\n",
    "| **`<head>`** | Contiene metadatos y enlaces a recursos externos (CSS, JS, etc.). | `<head> <!-- metadata --> </head>` |\n",
    "| **`<meta charset=\"UTF-8\">`** | Define la codificación de caracteres del documento. | `<meta charset=\"UTF-8\">` |\n",
    "| **`<title>`** | Define el título que aparece en la pestaña del navegador. | `<title>Title of the page</title>` |\n",
    "| **`<body>`** | Contiene todo el contenido visible de la página. | `<body> <!-- Page content --> </body>` |\n",
    "| **`<header>`** | Define el encabezado de la página o de una sección. | `<header> <!-- Header content --> </header>` |\n",
    "| **`<main>`** | Define el contenido principal de la página (solo debe usarse una vez). | `<main> <!-- Main content --> </main>` |\n",
    "| **`<footer>`** | Define el pie de página de la página o sección. | `<footer> <!-- Footer content --> </footer>` |\n",
    "| **`<nav>`** | Define una sección de navegación con enlaces. | `<nav> <!-- Navigation content --> </nav>` |\n",
    "| **`<section>`** | Define una sección temática dentro de la página. | `<section> <!-- Section content --> </section>` |\n",
    "| **`<article>`** | Define un contenido independiente y reutilizable (como una publicación de blog). | `<article> <!-- Article content --> </article>` |\n",
    "| **`<aside>`** | Define contenido complementario o relacionado con el contenido principal. | `<aside> <!-- Aside content --> </aside>` |"
   ]
  },
  {
   "cell_type": "markdown",
   "id": "121063fc-d583-4891-8f5c-1de64f70bc3a",
   "metadata": {},
   "source": [
    "<h4 style=\"color:#021bd4; font-family: 'Nunito'; font-weight: 400;background-color:#f8f8f8; padding: 10px; border-radius: 8px;\">Etiquetas semáticas en pág HTML</h4>\n"
   ]
  },
  {
   "cell_type": "markdown",
   "id": "c7e14de4-2f4b-43ff-ac4a-57c96298f837",
   "metadata": {},
   "source": [
    "```html\n",
    "<!DOCTYPE html>\n",
    "<html lang=\"en\">\n",
    "  <head>\n",
    "    <meta charset=\"UTF-8\">\n",
    "    <title>My Web Page</title>\n",
    "  </head>\n",
    "  <body>\n",
    "    <header>\n",
    "      <h1>Welcome to My Website</h1>\n",
    "      <nav>\n",
    "        <ul>\n",
    "          <li><a href=\"#\">Home</a></li>\n",
    "          <li><a href=\"#\">About</a></li>\n",
    "        </ul>\n",
    "      </nav>\n",
    "    </header>\n",
    "\n",
    "    <main>\n",
    "      <section>\n",
    "        <h2>About Us</h2>\n",
    "        <p>We are a great company.</p>\n",
    "      </section>\n",
    "\n",
    "      <article>\n",
    "        <h2>Blog Post</h2>\n",
    "        <p>Content of the blog post...</p>\n",
    "      </article>\n",
    "    </main>\n",
    "\n",
    "    <footer>\n",
    "      <p>&copy; 2025 My Company</p>\n",
    "    </footer>\n",
    "  </body>\n",
    "</html>\n"
   ]
  },
  {
   "cell_type": "markdown",
   "id": "5c9586cb-0da9-4afd-adcd-fa2ae4187cb7",
   "metadata": {
    "jp-MarkdownHeadingCollapsed": true
   },
   "source": [
    "<h3 style=\"color:#013e85; font-family: 'Monserrat'; font-weight: 600;text-align: center;background-color:#fafafa; padding: 10px; border-radius: 8px;\">header</h3>\n"
   ]
  },
  {
   "cell_type": "markdown",
   "id": "0b000cba-665b-46b5-962b-b1d4b484d9c7",
   "metadata": {},
   "source": [
    "* *Función*:\n",
    "\n",
    "**Define el encabezado de una página o sección.**\n",
    "\n",
    "    1) Contiene elementos como logotipos, navegación y encabezados."
   ]
  },
  {
   "cell_type": "markdown",
   "id": "6e7c7731-ae31-48c0-b115-a38d768f2215",
   "metadata": {},
   "source": [
    "```html\n",
    "<header>\n",
    "  <!-- Header content -->\n",
    "</header>\n"
   ]
  },
  {
   "cell_type": "markdown",
   "id": "737a1d29-a83d-430b-a512-01f6545e2f1d",
   "metadata": {},
   "source": [
    "---\n",
    "<h5 style=\"color:#012c5e; font-family: 'Nunito'; font-weight: 400;\">Ejemplo</h5>\n"
   ]
  },
  {
   "cell_type": "markdown",
   "id": "5d4f9b9a-8e01-46cd-af9e-860283b74961",
   "metadata": {},
   "source": [
    "```html\n",
    "<header>\n",
    "  <h1>My Website</h1>\n",
    "</header>\n"
   ]
  },
  {
   "cell_type": "markdown",
   "id": "05c513d9-0af3-4a55-b6de-6299708b8a24",
   "metadata": {
    "jp-MarkdownHeadingCollapsed": true
   },
   "source": [
    "<h3 style=\"color:#013e85; font-family: 'Monserrat'; font-weight: 600;text-align: center;background-color:#fafafa; padding: 10px; border-radius: 8px;\">main</h3>\n"
   ]
  },
  {
   "cell_type": "markdown",
   "id": "4196ac7f-48d9-4449-83f8-e92983ba3e7a",
   "metadata": {},
   "source": [
    "* *Función*:\n",
    "\n",
    "**Define el contenido principal de la página.**\n",
    "\n",
    "    1) Solo debe aparecer una vez por página."
   ]
  },
  {
   "cell_type": "markdown",
   "id": "7e59b0b9-84f7-4430-b22a-99648c668c4f",
   "metadata": {},
   "source": [
    "```html\n",
    "<main>\n",
    "  <!-- Main content -->\n",
    "</main>\n"
   ]
  },
  {
   "cell_type": "markdown",
   "id": "9dc306d9-f838-44a1-bc52-36dc06667105",
   "metadata": {},
   "source": [
    "---\n",
    "<h5 style=\"color:#012c5e; font-family: 'Nunito'; font-weight: 400;\">Ejemplo</h5>\n"
   ]
  },
  {
   "cell_type": "markdown",
   "id": "6b6042d2-dfbf-47ac-90da-938d51048244",
   "metadata": {},
   "source": [
    "```html\n",
    "<main>\n",
    "  <h2>Main Content Here</h2>\n",
    "</main>\n"
   ]
  },
  {
   "cell_type": "markdown",
   "id": "54b75436-0dab-4de5-a28d-2c3fe504bb30",
   "metadata": {
    "jp-MarkdownHeadingCollapsed": true
   },
   "source": [
    "<h3 style=\"color:#013e85; font-family: 'Monserrat'; font-weight: 600;text-align: center;background-color:#fafafa; padding: 10px; border-radius: 8px;\">footer</h3>\n"
   ]
  },
  {
   "cell_type": "markdown",
   "id": "f6088675-df82-4365-b1ec-88601ec05336",
   "metadata": {},
   "source": [
    "* *Función*:\n",
    "\n",
    "**Define el pie de página de la página o sección.**\n",
    "\n",
    "    1) Contiene enlaces, información de contacto y otros datos finales."
   ]
  },
  {
   "cell_type": "markdown",
   "id": "8c76270a-73f2-4856-b73e-373a4c3507c8",
   "metadata": {},
   "source": [
    "```html\n",
    "<footer>\n",
    "  <!-- Footer content -->\n",
    "</footer>\n"
   ]
  },
  {
   "cell_type": "markdown",
   "id": "5527cfaf-76a9-492f-8aef-bdcfdb2d7372",
   "metadata": {},
   "source": [
    "---\n",
    "<h5 style=\"color:#012c5e; font-family: 'Nunito'; font-weight: 400;\">Ejemplo</h5>\n"
   ]
  },
  {
   "cell_type": "markdown",
   "id": "9358260c-cd22-4798-b5dc-ab469f1b856e",
   "metadata": {},
   "source": [
    "```html\n",
    "<footer>\n",
    "  <p>&copy; 2025 My Website</p>\n",
    "</footer>\n"
   ]
  },
  {
   "cell_type": "markdown",
   "id": "7c70dc62-1aea-4504-812b-1b8da45cfdd7",
   "metadata": {
    "jp-MarkdownHeadingCollapsed": true
   },
   "source": [
    "<h3 style=\"color:#013e85; font-family: 'Monserrat'; font-weight: 600;text-align: center;background-color:#fafafa; padding: 10px; border-radius: 8px;\">nav</h3>\n"
   ]
  },
  {
   "cell_type": "markdown",
   "id": "7de8d8bd-a31a-40ca-8fe0-915f310ef032",
   "metadata": {},
   "source": [
    "* *Función*:\n",
    "\n",
    "**Define la navegación principal de la página.**\n",
    "\n",
    "    1) Encierra un grupo de enlaces de navegación."
   ]
  },
  {
   "cell_type": "markdown",
   "id": "40639722-c52f-4962-bfc6-6e4e2c62b343",
   "metadata": {},
   "source": [
    "```html\n"
   ]
  },
  {
   "cell_type": "markdown",
   "id": "8ea8ce4e-c777-4c31-a767-e561a72cdd62",
   "metadata": {},
   "source": [
    "```html\n",
    "<nav>\n",
    "  <ul>\n",
    "    <li><a href=\"#\">Link 1</a></li>\n",
    "    <li><a href=\"#\">Link 2</a></li>\n",
    "  </ul>\n",
    "</nav>\n"
   ]
  },
  {
   "cell_type": "markdown",
   "id": "3d73966c-67bb-4383-acfb-d11d65331683",
   "metadata": {
    "jp-MarkdownHeadingCollapsed": true
   },
   "source": [
    "---\n",
    "<h5 style=\"color:#012c5e; font-family: 'Nunito'; font-weight: 400;\">Ejemplo</h5>\n"
   ]
  },
  {
   "cell_type": "markdown",
   "id": "092d663f-4de6-4e98-bd95-446c78fc4679",
   "metadata": {},
   "source": [
    "```html\n",
    "<nav>\n",
    "  <ul>\n",
    "    <li><a href=\"#\">Home</a></li>\n",
    "    <li><a href=\"#\">About</a></li>\n",
    "  </ul>\n",
    "</nav>\n"
   ]
  },
  {
   "cell_type": "markdown",
   "id": "fab902f7-9b7e-4aaa-ba26-3f9d818f1075",
   "metadata": {
    "jp-MarkdownHeadingCollapsed": true
   },
   "source": [
    "<h3 style=\"color:#013e85; font-family: 'Monserrat'; font-weight: 600;text-align: center;background-color:#fafafa; padding: 10px; border-radius: 8px;\"> section</h3>\n"
   ]
  },
  {
   "cell_type": "markdown",
   "id": "188d9f5a-7a10-4e54-a1cb-b0860559c5a8",
   "metadata": {},
   "source": [
    "* *Función*:\n",
    "\n",
    "**Define una sección temática dentro de la página.**\n",
    "\n",
    "    1) Contiene contenido relacionado temáticamente."
   ]
  },
  {
   "cell_type": "markdown",
   "id": "a29551c2-cf8f-4878-8510-17b7dcb6c640",
   "metadata": {},
   "source": [
    "```html\n",
    "<section>\n",
    "  <!-- Section content -->\n",
    "</section>\n"
   ]
  },
  {
   "cell_type": "markdown",
   "id": "58224f7d-6f72-44dd-98e8-1fabb3910ae5",
   "metadata": {},
   "source": [
    "---\n",
    "<h5 style=\"color:#012c5e; font-family: 'Nunito'; font-weight: 400;\">Ejemplo</h5>\n"
   ]
  },
  {
   "cell_type": "markdown",
   "id": "1a050c83-f40e-4e41-8537-9ed40e42365b",
   "metadata": {},
   "source": [
    "```html\n",
    "<section>\n",
    "  <h2>About Us</h2>\n",
    "  <p>We provide the best services.</p>\n",
    "</section>\n"
   ]
  },
  {
   "cell_type": "markdown",
   "id": "28d12b44-fbef-4186-945e-18f50ad13b08",
   "metadata": {
    "jp-MarkdownHeadingCollapsed": true
   },
   "source": [
    "<h3 style=\"color:#013e85; font-family: 'Monserrat'; font-weight: 600;text-align: center;background-color:#fafafa; padding: 10px; border-radius: 8px;\">article</h3>\n"
   ]
  },
  {
   "cell_type": "markdown",
   "id": "09da3fe8-a071-4a4d-b6ff-722382654930",
   "metadata": {},
   "source": [
    "* *Función*:\n",
    "\n",
    "**Define un contenido autocontenido como una publicación de blog o artículo de noticias.**\n",
    "\n",
    "    1) Debe contener contenido independiente y reutilizable."
   ]
  },
  {
   "cell_type": "markdown",
   "id": "43ee2ef7-a926-4e8f-81ec-0d80273ea6ab",
   "metadata": {},
   "source": [
    "```html\n",
    "<article>\n",
    "  <h2>Article Title</h2>\n",
    "  <p>Article content here.</p>\n",
    "</article>\n"
   ]
  },
  {
   "cell_type": "markdown",
   "id": "f3f91566-c8ed-40c2-aa88-36aba1f991f0",
   "metadata": {},
   "source": [
    "---\n",
    "<h5 style=\"color:#012c5e; font-family: 'Nunito'; font-weight: 400;\">Ejemplo</h5>\n"
   ]
  },
  {
   "cell_type": "markdown",
   "id": "7ca64305-51d8-4af7-80f9-12fd8142099e",
   "metadata": {},
   "source": [
    "```html\n",
    "<article>\n",
    "  <h2>Article Title</h2>\n",
    "  <p>Article content here.</p>\n",
    "</article>\n"
   ]
  },
  {
   "cell_type": "markdown",
   "id": "ba35936e-114d-473e-b1b3-8e415b9ffcf9",
   "metadata": {},
   "source": [
    "<h3 style=\"color:#013e85; font-family: 'Monserrat'; font-weight: 600;text-align: center;background-color:#fafafa; padding: 10px; border-radius: 8px;\">aside</h3>\n"
   ]
  },
  {
   "cell_type": "markdown",
   "id": "62f7f3a4-97a6-4216-93f6-73c979f77482",
   "metadata": {},
   "source": [
    "* *Función*:\n",
    "\n",
    "**Define contenido relacionado con el contenido principal (como una barra lateral).**\n",
    "\n",
    "    1) Contiene contenido complementario o secundario"
   ]
  },
  {
   "cell_type": "markdown",
   "id": "412fec2c-1dc0-4954-8029-2f1fbc886f00",
   "metadata": {},
   "source": [
    "```html\n",
    "<aside>\n",
    "  <!-- Aside content -->\n",
    "</aside>\n"
   ]
  },
  {
   "cell_type": "markdown",
   "id": "ff49a991-bafa-4e66-8a11-5e34d64ae693",
   "metadata": {},
   "source": [
    "---\n",
    "<h5 style=\"color:#012c5e; font-family: 'Nunito'; font-weight: 400;\">Ejemplo</h5>\n"
   ]
  },
  {
   "cell_type": "markdown",
   "id": "35c51516-ce32-4d39-a664-9d96b70e59ca",
   "metadata": {},
   "source": [
    "```html\n",
    "<aside>\n",
    "  <p>Related article link</p>\n",
    "</aside>\n"
   ]
  },
  {
   "cell_type": "markdown",
   "id": "23cd7eff-f858-4aa2-bf9f-4b951a6626ba",
   "metadata": {},
   "source": [
    "<h2 style=\"color: #012c5e; font-family: 'Monserrat', serif; font-weight: 700; background-color: #f5f5f5; padding: 10px; border-radius: 8px;\">Metaetiquetas (Meta Tags)</h2>\n"
   ]
  },
  {
   "cell_type": "markdown",
   "id": "9b3f679b-3087-49ad-8442-29ea76d0464a",
   "metadata": {},
   "source": [
    "| **Concepto** | **Función** | **Sintaxis general o básica** |\n",
    "|-------------|------------|--------------------------------|\n",
    "| **Metaetiquetas** | Definir metadatos sobre una página web. | `<meta name=\"nombre\" content=\"valor\">` |\n",
    "| **Metadatos de autor** | Especificar el autor de la página web. | `<meta name=\"author\" content=\"Nombre del autor\">` |\n",
    "| **Metadatos de descripción** | Describir el contenido de la página web para los motores de búsqueda. | `<meta name=\"description\" content=\"Descripción de la página\">` |\n",
    "| **Metadatos de palabras clave** | Proporcionar palabras clave para la búsqueda (obsoletos). | `<meta name=\"keywords\" content=\"palabra1, palabra2\">` |\n",
    "| **Metadatos de robots** | Indicar a los motores de búsqueda cómo analizar la página web. | `<meta name=\"robots\" content=\"index, follow\">` |\n",
    "| **Metadatos de ventana gráfica** | Controlar cómo se renderiza la página en dispositivos móviles. | `<meta name=\"viewport\" content=\"width=device-width, initial-scale=1.0\">` |\n"
   ]
  },
  {
   "cell_type": "markdown",
   "id": "3bbb4b6a-9aa1-4a4f-9d2c-e196ac7033ad",
   "metadata": {},
   "source": [
    "* *Función*:\n",
    "\n",
    "**Las metaetiquetas proporcionan metadatos sobre una página web a los motores de búsqueda y navegadores.**\n",
    "\n",
    "    1) Ayudan a los motores de búsqueda a entender el contenido de la página y a mejorar la experiencia del usuario.\n",
    "    2) No se muestran en el navegador, solo en el código fuente de la página."
   ]
  },
  {
   "cell_type": "markdown",
   "id": "a932ae8a-1afe-4e1e-86da-9b0cdaf4f24f",
   "metadata": {},
   "source": [
    "```html\n",
    "<meta name=\"nombre_del_metadato\" content=\"contenido_del_metadato\">\n"
   ]
  },
  {
   "cell_type": "markdown",
   "id": "f2dbd58a-d56e-45e7-9693-8c12f5d3e4a5",
   "metadata": {},
   "source": [
    "---\n",
    "<h5 style=\"color:#012c5e; font-family: 'Nunito'; font-weight: 400;\">Ejemplo</h5>\n"
   ]
  },
  {
   "cell_type": "markdown",
   "id": "ea7d4366-2a7c-4c0a-8c83-ec31b9df7604",
   "metadata": {},
   "source": [
    "```html\n",
    "<meta name=\"description\" content=\"Zapatos para correr de alta calidad para profesionales y principiantes.\">\n"
   ]
  },
  {
   "cell_type": "markdown",
   "id": "fa4e12ef-d4e7-4a55-a91d-3d003619dd12",
   "metadata": {
    "jp-MarkdownHeadingCollapsed": true
   },
   "source": [
    "<h3 style=\"color:#013e85; font-family: 'Monserrat'; font-weight: 600;text-align: center;background-color:#fafafa; padding: 10px; border-radius: 8px;\">Metadatos de Autor</h3>\n"
   ]
  },
  {
   "cell_type": "markdown",
   "id": "d67b0f5c-05c0-4301-9aee-eb3436464f06",
   "metadata": {},
   "source": [
    "* *Función*:\n",
    "\n",
    "**Define el nombre del autor o la empresa responsable de crear el contenido de la página.**\n",
    "\n",
    "    1) Ayuda a identificar la fuente del contenido."
   ]
  },
  {
   "cell_type": "markdown",
   "id": "fbfd2ec7-a82c-4089-b029-2d8af94ae634",
   "metadata": {},
   "source": [
    "```html\n",
    "<meta name=\"author\" content=\"nombre del autor o empresa\">\n"
   ]
  },
  {
   "cell_type": "markdown",
   "id": "9a14fb01-0935-4830-ad21-f824eec51a30",
   "metadata": {},
   "source": [
    "---\n",
    "<h5 style=\"color:#012c5e; font-family: 'Nunito'; font-weight: 400;\">Ejemplo</h5>\n"
   ]
  },
  {
   "cell_type": "markdown",
   "id": "1ca0fedc-c53d-4756-b7f0-99128bfb814d",
   "metadata": {},
   "source": [
    "```html\n",
    "<meta name=\"author\" content=\"Juan Pérez\">\n"
   ]
  },
  {
   "cell_type": "markdown",
   "id": "a17fc2fb-9ad2-46f5-8f29-21fca7cea4c9",
   "metadata": {
    "jp-MarkdownHeadingCollapsed": true
   },
   "source": [
    "<h3 style=\"color:#013e85; font-family: 'Monserrat'; font-weight: 600;text-align: center;background-color:#fafafa; padding: 10px; border-radius: 8px;\">Metadatos de Descripción</h3>\n"
   ]
  },
  {
   "cell_type": "markdown",
   "id": "9f2d3498-8c2b-491c-8273-d3d41e493033",
   "metadata": {},
   "source": [
    "* *Función*:\n",
    "\n",
    "**Proporciona una descripción breve y clara del contenido de la página.**\n",
    "\n",
    "    1) Se utiliza en los resultados de búsqueda como el texto que aparece bajo el enlace de la página."
   ]
  },
  {
   "cell_type": "markdown",
   "id": "c3a9527c-17f7-4f91-970b-745dce9d3030",
   "metadata": {},
   "source": [
    "```html\n",
    "<meta name=\"description\" content=\"descripción del contenido de la página\">\n"
   ]
  },
  {
   "cell_type": "markdown",
   "id": "f32f8108-7b5b-465e-b23f-3c38ca3a4535",
   "metadata": {},
   "source": [
    "---\n",
    "<h5 style=\"color:#012c5e; font-family: 'Nunito'; font-weight: 400;\">Ejemplo</h5>\n"
   ]
  },
  {
   "cell_type": "markdown",
   "id": "0122a5e8-4e1a-4747-95c3-3e25b31dc32e",
   "metadata": {},
   "source": [
    "```html\n",
    "<meta name=\"description\" content=\"Encuentra los mejores zapatos para correr con envío gratuito.\">\n"
   ]
  },
  {
   "cell_type": "markdown",
   "id": "96593bba-f55b-4836-841e-125c9c56a248",
   "metadata": {
    "jp-MarkdownHeadingCollapsed": true
   },
   "source": [
    "<h3 style=\"color:#013e85; font-family: 'Monserrat'; font-weight: 600;text-align: center;background-color:#fafafa; padding: 10px; border-radius: 8px;\">Indica a los motores de búsqueda cómo indexar y seguir enlaces en una página.</h3>\n"
   ]
  },
  {
   "cell_type": "markdown",
   "id": "686b50fa-c6d8-41f6-a5a7-263682a601fd",
   "metadata": {},
   "source": [
    "* *Función*:\n",
    "\n",
    "**Indica a los motores de búsqueda cómo escanear y seguir enlaces en una página.**\n",
    "\n",
    "    1) Lo siguiente le dice al motor de búsqueda que no indexe la página ni siga sus enlaces."
   ]
  },
  {
   "cell_type": "markdown",
   "id": "004015c7-b4bd-4422-a232-18908a927ec9",
   "metadata": {},
   "source": [
    "```html\n",
    "<meta name=\"robots\" content=\"noindex, nofollow\">\n"
   ]
  },
  {
   "cell_type": "markdown",
   "id": "bf9bf3ba-b159-4337-a104-2900d395269d",
   "metadata": {},
   "source": [
    "<h3 style=\"color:#013e85; font-family: 'Monserrat'; font-weight: 600;text-align: center;background-color:#fafafa; padding: 10px; border-radius: 8px;\">Metadatos de Ventana Gráfica (Viewport)</h3>\n"
   ]
  },
  {
   "cell_type": "markdown",
   "id": "5435a8dd-d4af-4fbf-9afa-673694876378",
   "metadata": {},
   "source": [
    "* *Función*:\n",
    "\n",
    "**Asegura que el diseño de la página sea adaptable a diferentes tamaños de pantalla (móviles, tabletas, computadoras).**\n",
    "\n",
    "    1)Mejora la experiencia de navegación en dispositivos móviles."
   ]
  },
  {
   "cell_type": "markdown",
   "id": "cda2d67b-9298-4d4e-a7b5-ce3a3b110482",
   "metadata": {},
   "source": [
    "```html\n",
    "<meta name=\"viewport\" content=\"ancho, escala\">\n"
   ]
  },
  {
   "cell_type": "markdown",
   "id": "ad3a4ca7-dc93-4085-8377-65c9dc2eb81c",
   "metadata": {},
   "source": [
    "**Componentes y atributos**\n",
    "\n",
    "* *`width=device-width`*: Ajusta el ancho al tamaño del dispositivo.\n",
    "* *`initial-scale=1.0 `*: Establece el nivel de zoom inicial al 100%."
   ]
  },
  {
   "cell_type": "markdown",
   "id": "1d2a428c-f228-47dc-96d5-929d654320da",
   "metadata": {},
   "source": [
    "---\n",
    "<h5 style=\"color:#012c5e; font-family: 'Nunito'; font-weight: 400;\">Ejemplo</h5>\n"
   ]
  },
  {
   "cell_type": "markdown",
   "id": "14727b0a-40b6-42ee-89f7-12c173e640a1",
   "metadata": {},
   "source": [
    "```html\n",
    "<meta name=\"viewport\" content=\"width=device-width, initial-scale=1.0\">\n"
   ]
  },
  {
   "cell_type": "markdown",
   "id": "d0d90485-f606-4617-aac0-9dae2e57a8b1",
   "metadata": {},
   "source": [
    "<h2 style=\"color: #012c5e; font-family: 'Monserrat', serif; font-weight: 700; background-color: #f5f5f5; padding: 10px; border-radius: 8px;\">Formularios (Forms)</h2>\n"
   ]
  },
  {
   "cell_type": "markdown",
   "id": "7c8ee341-305a-4d9f-86d4-20605bb2cc93",
   "metadata": {},
   "source": [
    "```html\n",
    "<form action=\"url_del_servidor\" method=\"post o get\">\n",
    "    <label for=\"nombre_del_campo\">Texto de etiqueta:</label>\n",
    "    <input type=\"tipo_de_entrada\" name=\"nombre\" id=\"id\" value=\"valor\" required>\n",
    "\n",
    "  <button type=\"submit\">Texto del botón</button>\n",
    "</form>"
   ]
  },
  {
   "cell_type": "markdown",
   "id": "1a30f412-0013-4b4b-a190-50363c4df118",
   "metadata": {},
   "source": [
    "**Componentes y atributos**\n",
    "\n",
    "* *`<form>`*: define la url a la que se enviarán los datos del formulario.\n",
    "* *`method  `*: define el método http utilizado para enviar los datos (post o get).\n",
    "* *`required `*: Asegura que el campo no esté vacío antes de enviar el formulario."
   ]
  },
  {
   "cell_type": "markdown",
   "id": "b9ddd122-4da0-4894-a3a8-f98a1b103822",
   "metadata": {},
   "source": [
    "---\n",
    "<h5 style=\"color:#012c5e; font-family: 'Nunito'; font-weight: 400;\">Ejemplo 1</h5>\n"
   ]
  },
  {
   "cell_type": "markdown",
   "id": "db3268de-1bf5-41ea-9b62-bfb8aa22709a",
   "metadata": {},
   "source": [
    "```html\n",
    "<form action=\"/login\" method=\"post\">\n",
    "    <label for=\"correo\">Correo electrónico:</label>\n",
    "    <input type=\"email\" id=\"correo\" name=\"correo\" required>\n",
    "    \n",
    "    <label for=\"contrasena\">Contraseña:</label>\n",
    "    <input type=\"password\" id=\"contrasena\" name=\"contrasena\" required>\n",
    "    \n",
    "    <button type=\"submit\">Iniciar sesión</button>\n",
    "    <button type=\"reset\">Reset</button>\n",
    "</form>\n"
   ]
  },
  {
   "cell_type": "markdown",
   "id": "fc071a17-f2fd-4ed5-a3eb-e319530c9332",
   "metadata": {},
   "source": [
    "---\n",
    "<h5 style=\"color:#012c5e; font-family: 'Nunito'; font-weight: 400;\">Ejemplo 2</h5>\n"
   ]
  },
  {
   "cell_type": "markdown",
   "id": "8cd32ad9-d660-4e52-8fda-4ec0b58faed5",
   "metadata": {},
   "source": [
    "```html\n",
    "<form action=\"/submit-form\" method=\"POST\" target=\"_self\" enctype=\"application/x-www-form-urlencoded\" autocomplete=\"on\" novalidate>\n",
    "    <input type=\"text\" name=\"username\" placeholder=\"Enter your username\" required minlength=\"3\" maxlength=\"20\" pattern=\"[a-zA-Z0-9]+\" />\n",
    "    <input type=\"email\" name=\"email\" placeholder=\"Enter your email\" required />\n",
    "    <input type=\"password\" name=\"password\" placeholder=\"Enter your password\" required minlength=\"8\" />\n",
    "    <input type=\"number\" name=\"age\" placeholder=\"Enter your age\" min=\"18\" max=\"100\" step=\"1\" required />\n",
    "    <input type=\"url\" name=\"website\" placeholder=\"Enter your website\" />\n",
    "    <input type=\"color\" name=\"favoriteColor\" />\n",
    "    <button type=\"submit\">Submit</button>\n",
    "    <button type=\"reset\">Reset</button>\n",
    "</form>\n"
   ]
  },
  {
   "cell_type": "markdown",
   "id": "3df6e0b1-4299-4c75-8007-c001eb742962",
   "metadata": {},
   "source": [
    "<h3 style=\"color:#013e85; font-family: 'Monserrat'; font-weight: 600;text-align: center;background-color:#fafafa; padding: 10px; border-radius: 8px;\"> Button</h3>\n"
   ]
  },
  {
   "cell_type": "markdown",
   "id": "1e2dba0a-1713-49bc-aa9c-bb466b9c74b5",
   "metadata": {},
   "source": [
    "* *Función*:\n",
    "\n",
    "**Se utiliza para crear un botón que ejecute un script o una función cuando el usuario hace clic en él.**\n"
   ]
  },
  {
   "cell_type": "markdown",
   "id": "4ca28cf9-198b-412f-8dde-6f0adbb33a4d",
   "metadata": {},
   "source": [
    "```html\n",
    "<input type=\"button\" value=\"Button Text\" onclick=\"functionName()\" />\n"
   ]
  },
  {
   "cell_type": "markdown",
   "id": "05d1c0a6-f86b-41f5-9157-c147a0460c50",
   "metadata": {},
   "source": [
    "**Componentes y atributos**\n",
    "\n",
    "* *`type=\"button\"`*: Define el tipo de entrada como un botón.\n",
    "* *`value=\"Button Text\" `*: Texto que aparece en el botón.\n",
    "* *`onclick=\"functionName()\"`*:     Evento que se ejecuta al hacer clic en el botón.\n"
   ]
  },
  {
   "cell_type": "markdown",
   "id": "2a19b503-53b5-473b-87b4-d641cc04b6a4",
   "metadata": {},
   "source": [
    "---\n",
    "<h5 style=\"color:#012c5e; font-family: 'Nunito'; font-weight: 400;\">Ejemplo 2</h5>\n"
   ]
  },
  {
   "cell_type": "markdown",
   "id": "1e3e7c13-bcec-4402-81d5-4c746f041dac",
   "metadata": {},
   "source": [
    "```html\n",
    "<input type=\"button\" value=\"Enviar\" onclick=\"alert('¡Botón presionado!')\" />\n"
   ]
  },
  {
   "cell_type": "markdown",
   "id": "e6a5cf9c-bb12-4b80-81f0-80f4dd04ada2",
   "metadata": {},
   "source": [
    "<h3 style=\"color:#013e85; font-family: 'Monserrat'; font-weight: 600;text-align: center;background-color:#fafafa; padding: 10px; border-radius: 8px;\"> Checkbox</h3>\n"
   ]
  },
  {
   "cell_type": "markdown",
   "id": "3963eab5-5657-46b8-82ad-0c5f08106216",
   "metadata": {},
   "source": [
    "* *Función*:\n",
    "\n",
    "**Permite seleccionar múltiples valores independientes dentro de un grupo.**\n"
   ]
  },
  {
   "cell_type": "markdown",
   "id": "141cbaf2-c4d4-4405-8be8-7b98355d9e19",
   "metadata": {},
   "source": [
    "```html\n",
    "<input type=\"checkbox\" id=\"uniqueID\" name=\"groupName\" value=\"value\" />\n",
    "<label for=\"uniqueID\">Label Text</label>\n"
   ]
  },
  {
   "cell_type": "markdown",
   "id": "9587a9c7-cd35-420e-bea0-ee3e30a535ee",
   "metadata": {},
   "source": [
    "**Componentes y atributos**\n",
    "\n",
    "* *`type=\"checkbox\"`*: Define el tipo de entrada como un botón.\n",
    "* *`id=\"uniqueID\"`*:  Identificador único para la casilla de verificación.\n",
    "* *`name=\"groupName\"`*:     Nombre del grupo de casillas de verificación.\n",
    "* *`value=\"value\"`*: Valor que se enviará al servidor si la casilla está marcada.\n",
    "* *`<label>`*:   Proporciona una etiqueta accesible para la casilla de verificación."
   ]
  },
  {
   "cell_type": "markdown",
   "id": "cf2e0efe-2851-4b9c-988f-df4339e45b8b",
   "metadata": {},
   "source": [
    "---\n",
    "<h5 style=\"color:#012c5e; font-family: 'Nunito'; font-weight: 400;\">Ejemplo 1</h5>\n"
   ]
  },
  {
   "cell_type": "markdown",
   "id": "c9528291-16cb-40cb-aa5b-605ab47d1d39",
   "metadata": {},
   "source": [
    "```html\n",
    "<input type=\"checkbox\" id=\"terms\" name=\"terms\" value=\"accepted\" />\n",
    "<label for=\"terms\">Acepto los términos y condiciones</label>\n"
   ]
  },
  {
   "cell_type": "markdown",
   "id": "4bfe3c8f-f61b-4b23-8cbd-87bb918974f7",
   "metadata": {},
   "source": [
    "<h3 style=\"color:#013e85; font-family: 'Monserrat'; font-weight: 600;text-align: center;background-color:#fafafa; padding: 10px; border-radius: 8px;\"> Radio</h3>\n"
   ]
  },
  {
   "cell_type": "markdown",
   "id": "2fd16e73-d159-45a6-9968-ff88a5522a5c",
   "metadata": {},
   "source": [
    "* *Función*:\n",
    "\n",
    "**Permite seleccionar solo una opción dentro de un grupo de opciones relacionadas.**\n"
   ]
  },
  {
   "cell_type": "markdown",
   "id": "d4523efe-9a28-4aa7-9b80-b208bbc9b6ee",
   "metadata": {},
   "source": [
    "```html\n",
    "<input type=\"radio\" id=\"uniqueID\" name=\"groupName\" value=\"value\" />\n",
    "<label for=\"uniqueID\">Label Text</label>\n"
   ]
  },
  {
   "cell_type": "markdown",
   "id": "c3ee62c6-07d2-4e29-a7e9-facfb173b1a3",
   "metadata": {},
   "source": [
    "**Componentes y atributos**\n",
    "\n",
    "* *`type=\"radio\"`*: Define el tipo de entrada como botón de opción."
   ]
  },
  {
   "cell_type": "markdown",
   "id": "50d53d62-d03a-4f78-9e2e-7c3a996d549b",
   "metadata": {},
   "source": [
    "---\n",
    "<h5 style=\"color:#012c5e; font-family: 'Nunito'; font-weight: 400;\">Ejemplo 1</h5>\n"
   ]
  },
  {
   "cell_type": "markdown",
   "id": "eaa9febd-24ac-49aa-9853-bbd3e6582ad9",
   "metadata": {},
   "source": [
    "```html\n",
    "<input type=\"radio\" id=\"male\" name=\"gender\" value=\"male\" />\n",
    "<label for=\"male\">Masculino</label>\n",
    "\n",
    "<input type=\"radio\" id=\"female\" name=\"gender\" value=\"female\" />\n",
    "<label for=\"female\">Femenino</label>\n"
   ]
  },
  {
   "cell_type": "markdown",
   "id": "35a4364f-24eb-404c-9b3c-59a866b1b5dd",
   "metadata": {},
   "source": [
    "<h4 style=\"color:#021bd4; font-family: 'Nunito'; font-weight: 400;background-color:#f8f8f8; padding: 10px; border-radius: 8px;\">Radio  Buttons</h4>\n"
   ]
  },
  {
   "cell_type": "markdown",
   "id": "92f31fc0-bd92-4031-ae94-6fc04d0368c1",
   "metadata": {},
   "source": [
    "```html\n",
    "<input type=\"radio\" name=\"nombre\" value=\"valor\"> etiqueta  \n",
    "<input type=\"radio\" name=\"nombre\" value=\"valor\" checked> etiqueta  \n"
   ]
  },
  {
   "cell_type": "markdown",
   "id": "1e796f1e-1966-4302-9e66-cd9ef24c4216",
   "metadata": {},
   "source": [
    "**Componentes y atributos**\n",
    "\n",
    "* *`<input type=\"radio\">`*:  crea un botón de opción que permite seleccionar una sola opción de un grupo.\n",
    "* *`checked`*: define que esta opción estará seleccionada por defecto."
   ]
  },
  {
   "cell_type": "markdown",
   "id": "d0dda85b-840f-4444-a1de-a069361cd2ee",
   "metadata": {},
   "source": [
    "---\n",
    "<h5 style=\"color:#012c5e; font-family: 'Nunito'; font-weight: 400;\">Ejemplo 1</h5>\n"
   ]
  },
  {
   "cell_type": "markdown",
   "id": "e2ffa0ec-adb4-4d0d-b3f5-23631c083609",
   "metadata": {},
   "source": [
    "```html\n",
    "<input type=\"radio\" name=\"size\" value=\"2\"> table for two  \n",
    "<input type=\"radio\" name=\"size\" value=\"4\" checked> table for four  \n",
    "<input type=\"radio\" name=\"size\" value=\"6\"> table for six  \n"
   ]
  },
  {
   "cell_type": "markdown",
   "id": "56b7ef1d-b082-41e9-8739-af5da3cd8467",
   "metadata": {},
   "source": [
    "<h3 style=\"color:#013e85; font-family: 'Monserrat'; font-weight: 600;text-align: center;background-color:#fafafa; padding: 10px; border-radius: 8px;\"> fieldset y legend</h3>\n"
   ]
  },
  {
   "cell_type": "markdown",
   "id": "b33a12f5-086d-4ec0-b6c8-26523ff455d7",
   "metadata": {},
   "source": [
    "**Componentes y atributos**\n",
    "\n",
    "* *`<fieldset>`*:  agrupa elementos relacionados dentro de un formulario para mejorar la organización y la accesibilidad.\n",
    "* *`<legend>`*:  proporciona una descripción para el conjunto de elementos agrupados en un `<fieldset>`"
   ]
  },
  {
   "cell_type": "markdown",
   "id": "40073000-aceb-4fe7-94ce-e716f3344a90",
   "metadata": {},
   "source": [
    "```html\n",
    "<fieldset>\n",
    "    <legend>título del grupo</legend>\n",
    "    <input type=\"radio\" name=\"nombre\" value=\"valor\"> etiqueta  \n",
    "</fieldset>\n"
   ]
  },
  {
   "cell_type": "markdown",
   "id": "7715508d-9a8d-450e-bfe0-4027fb982c60",
   "metadata": {},
   "source": [
    "---\n",
    "<h5 style=\"color:#012c5e; font-family: 'Nunito'; font-weight: 400;\">Ejemplo 1</h5>\n"
   ]
  },
  {
   "cell_type": "markdown",
   "id": "91b9e389-ae5d-4bdb-9bd2-e6c642b25816",
   "metadata": {},
   "source": [
    "```html\n",
    "<fieldset>\n",
    "    <legend>table size</legend>\n",
    "    <input type=\"radio\" name=\"size\" value=\"2\"> table for two  \n",
    "</fieldset>\n"
   ]
  },
  {
   "cell_type": "markdown",
   "id": "d23ad55d-981e-4d1d-8ba8-c0e63deb9db5",
   "metadata": {},
   "source": [
    "<h3 style=\"color:#013e85; font-family: 'Monserrat'; font-weight: 600;text-align: center;background-color:#fafafa; padding: 10px; border-radius: 8px;\"> label (etiquetas)</h3>\n"
   ]
  },
  {
   "cell_type": "markdown",
   "id": "39baefbd-c308-4b21-90a9-9abb1547caca",
   "metadata": {},
   "source": [
    "* *Función*:\n",
    "\n",
    "**Se asocia el texto a un elemento de entrada, permitiendo que el usuario seleccione el botón al hacer clic en el texto asociado.**\n"
   ]
  },
  {
   "cell_type": "markdown",
   "id": "9124cc64-d470-4b39-9342-9a87eead6981",
   "metadata": {},
   "source": [
    "```html\n",
    "<label>\n",
    "    <input type=\"radio\" name=\"nombre\" value=\"valor\"> texto  \n",
    "</label>\n"
   ]
  },
  {
   "cell_type": "markdown",
   "id": "cd01e699-1e9f-4060-ae72-dbcf79e37907",
   "metadata": {},
   "source": [
    "---\n",
    "<h5 style=\"color:#012c5e; font-family: 'Nunito'; font-weight: 400;\">Ejemplo 1</h5>\n"
   ]
  },
  {
   "cell_type": "markdown",
   "id": "fb6f8704-5486-4e15-b4ec-31b1513a16fc",
   "metadata": {},
   "source": [
    "```html\n",
    "<label>\n",
    "    <input type=\"radio\" name=\"size\" value=\"2\"> table for two  \n",
    "</label>\n"
   ]
  },
  {
   "cell_type": "markdown",
   "id": "bcb3ea58-9385-4def-8a5f-81918d3ccab9",
   "metadata": {},
   "source": [
    "<h3 style=\"color:#013e85; font-family: 'Monserrat'; font-weight: 600;text-align: center;background-color:#fafafa; padding: 10px; border-radius: 8px;\"> Submit</h3>\n"
   ]
  },
  {
   "cell_type": "markdown",
   "id": "4264c3c2-ac42-4c3f-a682-eea0e78c0e2c",
   "metadata": {},
   "source": [
    "* *Función*:\n",
    "\n",
    "**Envía los datos del formulario al servidor.**\n"
   ]
  },
  {
   "cell_type": "markdown",
   "id": "c473f27e-b32e-4120-93c1-f8f1eb6af177",
   "metadata": {},
   "source": [
    "```html\n",
    "<form action=\"serverURL\" method=\"POST\">\n",
    "    <input type=\"submit\" value=\"Submit Text\" />\n",
    "</form>\n"
   ]
  },
  {
   "cell_type": "markdown",
   "id": "fbd8a793-01d1-4c8c-8954-2e096461336f",
   "metadata": {},
   "source": [
    "**Componentes y atributos**\n",
    "\n",
    "* *`type=\"submit\"`*: Define el botón para enviar un formulario.\n",
    "* *`value=\"Submit Text\"`*: Texto mostrado en el botón de envío.\n",
    "* *`action=\"serverURL\"`*: Define la URL donde se enviarán los datos.\n",
    "* *`method=\"POST\"`*: Define el método HTTP para enviar los datos.\n"
   ]
  },
  {
   "cell_type": "markdown",
   "id": "d57dafd1-cbf1-4629-bc68-1dc428b55bd3",
   "metadata": {},
   "source": [
    "```html\n",
    "<button type=\"submit\">book table</button>\n"
   ]
  },
  {
   "cell_type": "markdown",
   "id": "77b31932-73ae-4ec7-9a6d-0a1767e7a40f",
   "metadata": {},
   "source": [
    "<h3 style=\"color:#013e85; font-family: 'Monserrat'; font-weight: 600;text-align: center;background-color:#fafafa; padding: 10px; border-radius: 8px;\"> Text</h3>\n"
   ]
  },
  {
   "cell_type": "markdown",
   "id": "eb0806c3-fc9b-4333-ab07-32203938d3b1",
   "metadata": {},
   "source": [
    "* *Función*:\n",
    "\n",
    "**Permite que el usuario introduzca texto.**\n"
   ]
  },
  {
   "cell_type": "markdown",
   "id": "30dc4fc3-910f-4921-bf82-89ccbee60673",
   "metadata": {},
   "source": [
    "```html\n",
    "<input type=\"text\" id=\"uniqueID\" name=\"inputName\" />\n"
   ]
  },
  {
   "cell_type": "markdown",
   "id": "4a5dc170-7818-4a7c-901c-9f56cfdf5402",
   "metadata": {},
   "source": [
    "**Componentes y atributos**\n",
    "\n",
    "* *`type=\"text\"`*: Define un campo de texto de una sola línea.\n",
    "* *`id=\"uniqueID\"`*:  Identificador único para el campo.\n",
    "* *`name=\"inputName\" `*: Nombre que se enviará al servidor.\n",
    "\n"
   ]
  },
  {
   "cell_type": "markdown",
   "id": "feac2191-4c2e-4ab8-98b4-5d7daaaee63d",
   "metadata": {},
   "source": [
    "---\n",
    "<h5 style=\"color:#012c5e; font-family: 'Nunito'; font-weight: 400;\">Ejemplo 1</h5>\n"
   ]
  },
  {
   "cell_type": "markdown",
   "id": "094ab37b-c77b-4529-b375-b67e69c3fb65",
   "metadata": {},
   "source": [
    "```html\n",
    "<input type=\"text\" id=\"name\" name=\"name\" placeholder=\"Introduce tu nombre\" />\n"
   ]
  },
  {
   "cell_type": "markdown",
   "id": "675aebff-91c5-4735-b4e6-604d6c19ca49",
   "metadata": {},
   "source": [
    "<h3 style=\"color:#013e85; font-family: 'Monserrat'; font-weight: 600;text-align: center;background-color:#fafafa; padding: 10px; border-radius: 8px;\">Password</h3>\n"
   ]
  },
  {
   "cell_type": "markdown",
   "id": "91c1d7d8-9744-4863-aea4-d93c2df6a83a",
   "metadata": {},
   "source": [
    "* *Función*:\n",
    "\n",
    "**Permite que el usuario introduzca una contraseña oculta.**\n"
   ]
  },
  {
   "cell_type": "markdown",
   "id": "727adcbf-3433-4718-935a-10c2e23ce0a3",
   "metadata": {},
   "source": [
    "```html\n",
    "<input type=\"password\" id=\"uniqueID\" name=\"inputName\" />\n"
   ]
  },
  {
   "cell_type": "markdown",
   "id": "f7141f92-195b-49e3-87d2-3b665d197995",
   "metadata": {},
   "source": [
    "**Componentes y atributos**\n",
    "\n",
    "* *`type=\"password\"`*: Define un campo de contraseña donde los caracteres están ocultos.\n",
    "* *`id=\"uniqueID\"`*:  Identificador único para el campo.\n",
    "* *`name=\"inputName\"`*: Nombre que se enviará al servidor.\n",
    "\n"
   ]
  },
  {
   "cell_type": "markdown",
   "id": "22747b9a-7d46-4065-920c-6e04dd80b835",
   "metadata": {},
   "source": [
    "<h3 style=\"color:#013e85; font-family: 'Monserrat'; font-weight: 600;text-align: center;background-color:#fafafa; padding: 10px; border-radius: 8px;\">Date</h3>\n"
   ]
  },
  {
   "cell_type": "markdown",
   "id": "1040387d-36b7-474b-931d-0b35d396a177",
   "metadata": {},
   "source": [
    "* *Función*:\n",
    "\n",
    "**Permite que el usuario seleccione una fecha**\n"
   ]
  },
  {
   "cell_type": "markdown",
   "id": "e5cfea12-0712-4201-a0c2-258b0ca607db",
   "metadata": {},
   "source": [
    "```html\n",
    "<input type=\"date\" id=\"uniqueID\" name=\"inputName\" />\n"
   ]
  },
  {
   "cell_type": "markdown",
   "id": "2eb557ce-670c-40ce-8e52-1c16ed80d39b",
   "metadata": {},
   "source": [
    "**Componentes y atributos**\n",
    "\n",
    "* *`type=\"date\"`*:  Define un campo de fecha.\n"
   ]
  },
  {
   "cell_type": "markdown",
   "id": "81067737-1135-46b4-bfc1-bfb5b3ba9fad",
   "metadata": {},
   "source": [
    "```html\n",
    "<input type=\"date\" id=\"id\" name=\"name\" required>\n"
   ]
  },
  {
   "cell_type": "markdown",
   "id": "85969aad-407b-4004-9d64-086e76aa7e8c",
   "metadata": {},
   "source": [
    "<h3 style=\"color:#013e85; font-family: 'Monserrat'; font-weight: 600;text-align: center;background-color:#fafafa; padding: 10px; border-radius: 8px;\">Datetime-local</h3>\n"
   ]
  },
  {
   "cell_type": "markdown",
   "id": "927a2765-3429-4246-90c2-9e794747ff8d",
   "metadata": {},
   "source": [
    "* *Función*:\n",
    "\n",
    "**Permite que el usuario seleccione una fecha y hora específica.**\n"
   ]
  },
  {
   "cell_type": "markdown",
   "id": "7ae2c620-8e6b-483e-850b-46b22db8bb4a",
   "metadata": {},
   "source": [
    "---\n",
    "<h5 style=\"color:#012c5e; font-family: 'Nunito'; font-weight: 400;\">Ejemplo 1</h5>\n"
   ]
  },
  {
   "cell_type": "markdown",
   "id": "f23b7a96-37d0-4c68-a407-b53eb9b4699d",
   "metadata": {},
   "source": [
    "```html\n",
    "<input type=\"datetime-local\" id=\"uniqueID\" name=\"inputName\" />\n"
   ]
  },
  {
   "cell_type": "markdown",
   "id": "80a982fe-21f8-48d6-afbb-1d154fe7d075",
   "metadata": {},
   "source": [
    "**Componentes y atributos**\n",
    "\n",
    "* *`type=\"datetime-local\"`*:   Define un campo de fecha y hora.\n"
   ]
  },
  {
   "cell_type": "markdown",
   "id": "0f99f80d-9f89-4872-9efa-062947eb2b95",
   "metadata": {},
   "source": [
    "<h3 style=\"color:#013e85; font-family: 'Monserrat'; font-weight: 600;text-align: center;background-color:#fafafa; padding: 10px; border-radius: 8px;\">datalist</h3>\n"
   ]
  },
  {
   "cell_type": "markdown",
   "id": "0380d8c7-4d44-4403-a0c2-6b1d9ec6b6a5",
   "metadata": {},
   "source": [
    "* *Función*:\n",
    "\n",
    "**Proporciona una lista de opciones sugeridas que se muestra automáticamente mientras el usuario escribe.**\n"
   ]
  },
  {
   "cell_type": "markdown",
   "id": "6363f142-80eb-406e-8499-dd6faf52c49e",
   "metadata": {},
   "source": [
    "```html\n",
    "<input type=\"text\" id=\"id\" name=\"name\" list=\"lista\">\n",
    "<datalist id=\"lista\">\n",
    "    <option value=\"Opción 1\">\n",
    "    <option value=\"Opción 2\">\n",
    "</datalist>\n"
   ]
  },
  {
   "cell_type": "markdown",
   "id": "9606ec42-e4c5-4c3d-ab5e-c93f99f7cf12",
   "metadata": {},
   "source": [
    "**Componentes y atributos**\n",
    "\n",
    "* *`datalist`*:   Define una lista de opciones que el usuario puede seleccionar o autocompletar.\n",
    "* *`option`*:  Define las opciones disponibles dentro de la lista de datos."
   ]
  },
  {
   "cell_type": "markdown",
   "id": "bf3752f8-cb08-415e-8939-b26d5353f712",
   "metadata": {},
   "source": [
    "<h2 style=\"color: #012c5e; font-family: 'Monserrat', serif; font-weight: 700; background-color: #f5f5f5; padding: 10px; border-radius: 8px;\">Atributos de validación en HTML</h2>\n"
   ]
  },
  {
   "cell_type": "markdown",
   "id": "661c1d9c-6541-4bec-97a5-9bfdeb92e156",
   "metadata": {},
   "source": [
    "```html\n",
    "<form action=\"/login\" method=\"POST\">\n",
    "    <input type=\"text\" name=\"username\" required minlength=\"3\" maxlength=\"12\">\n",
    "    <input type=\"password\" name=\"password\" required minlength=\"5\">\n",
    "    <button type=\"submit\">Login</button>\n",
    "</form>\n"
   ]
  },
  {
   "cell_type": "markdown",
   "id": "e25fd33e-89a3-4ca1-b0f3-bc4510029f3a",
   "metadata": {},
   "source": [
    "<h3 style=\"color:#013e85; font-family: 'Monserrat'; font-weight: 600;text-align: center;background-color:#fafafa; padding: 10px; border-radius: 8px;\">required</h3>\n"
   ]
  },
  {
   "cell_type": "markdown",
   "id": "be6587cf-09f3-4442-8a58-8d2fb46eb282",
   "metadata": {},
   "source": [
    "* *Función*:\n",
    "\n",
    "**El atributo required indica que el campo de entrada es obligatorio. Si el usuario intenta enviar el formulario sin completar este campo, el navegador mostrará un mensaje de error.**\n"
   ]
  },
  {
   "cell_type": "markdown",
   "id": "ac7be38c-f8ee-48ff-b414-968cfdd406a3",
   "metadata": {},
   "source": [
    "```html\n",
    "<input type=\"text\" required>\n"
   ]
  },
  {
   "cell_type": "markdown",
   "id": "461b3b29-db23-40b9-a672-805b6b0499e6",
   "metadata": {},
   "source": [
    "---\n",
    "<h5 style=\"color:#012c5e; font-family: 'Nunito'; font-weight: 400;\">Ejemplo 1</h5>\n"
   ]
  },
  {
   "cell_type": "markdown",
   "id": "3b951ef7-942f-419b-acc9-249bc5b846c1",
   "metadata": {},
   "source": [
    "```html\n",
    "<input type=\"text\" name=\"username\" required>\n"
   ]
  },
  {
   "cell_type": "markdown",
   "id": "c642f9e7-796f-452c-9573-060061dc6eb9",
   "metadata": {},
   "source": [
    "<h3 style=\"color:#013e85; font-family: 'Monserrat'; font-weight: 600;text-align: center;background-color:#fafafa; padding: 10px; border-radius: 8px;\">minlength</h3>\n"
   ]
  },
  {
   "cell_type": "markdown",
   "id": "de4f8d01-c561-4794-a1d8-ba2de1da9a46",
   "metadata": {},
   "source": [
    "* *Función*:\n",
    "\n",
    "**El atributo minlength define la longitud mínima permitida para el valor del campo de entrada.**\n",
    "\n",
    "    1) Si el usuario introduce un valor que es más corto que el valor definido en minlength, el navegador mostrará un mensaje de error."
   ]
  },
  {
   "cell_type": "markdown",
   "id": "1a09e022-61be-4bda-b06d-1a882fd2c70b",
   "metadata": {},
   "source": [
    "```html\n",
    "<input type=\"text\" minlength=\"valor\">\n"
   ]
  },
  {
   "cell_type": "markdown",
   "id": "b0f9e835-b208-42ed-984c-d5ceb46394f7",
   "metadata": {},
   "source": [
    "---\n",
    "<h5 style=\"color:#012c5e; font-family: 'Nunito'; font-weight: 400;\">Ejemplo 1</h5>\n"
   ]
  },
  {
   "cell_type": "markdown",
   "id": "5df8469a-a119-4004-939b-cacf52aae926",
   "metadata": {},
   "source": [
    "```html\n",
    "<input type=\"text\" name=\"username\" minlength=\"3\">\n"
   ]
  },
  {
   "cell_type": "markdown",
   "id": "d4db81b0-20ba-4590-a53d-5e28894b3d1b",
   "metadata": {},
   "source": [
    "<h3 style=\"color:#013e85; font-family: 'Monserrat'; font-weight: 600;text-align: center;background-color:#fafafa; padding: 10px; border-radius: 8px;\">maxlength</h3>\n"
   ]
  },
  {
   "cell_type": "markdown",
   "id": "4acf7b93-4c8b-4a07-a22e-e8d758490862",
   "metadata": {},
   "source": [
    "* *Función*:\n",
    "\n",
    "**El atributo maxlength define la longitud máxima permitida para el valor del campo de entrada.**\n",
    "\n",
    "    1) Si el usuario introduce un valor que es más largo que el valor definido en maxlength, el navegador mostrará un mensaje de error."
   ]
  },
  {
   "cell_type": "markdown",
   "id": "0e2c3043-2fd6-48b3-9196-a1dfab3dedbf",
   "metadata": {},
   "source": [
    "```html\n",
    "<input type=\"text\" maxlength=\"valor\">\n"
   ]
  },
  {
   "cell_type": "markdown",
   "id": "35d71480-eb92-4216-8767-746d0fe4aae1",
   "metadata": {},
   "source": [
    "---\n",
    "<h5 style=\"color:#012c5e; font-family: 'Nunito'; font-weight: 400;\">Ejemplo 1</h5>\n"
   ]
  },
  {
   "cell_type": "markdown",
   "id": "3c7ea269-e711-4785-b629-fd07241a2b48",
   "metadata": {},
   "source": [
    "```html\n",
    "<input type=\"text\" name=\"username\" maxlength=\"12\">\n"
   ]
  },
  {
   "cell_type": "markdown",
   "id": "57938e08-f635-443b-bfe7-0bf9543f4fe8",
   "metadata": {},
   "source": [
    "<h3 style=\"color:#013e85; font-family: 'Monserrat'; font-weight: 600;text-align: center;background-color:#fafafa; padding: 10px; border-radius: 8px;\">type</h3>\n"
   ]
  },
  {
   "cell_type": "markdown",
   "id": "48709093-5890-491f-9461-697fe2fa9855",
   "metadata": {},
   "source": [
    "* *Función*:\n",
    "\n",
    "**El atributo type define el tipo de dato que se espera en el campo de entrada.**    "
   ]
  },
  {
   "cell_type": "markdown",
   "id": "a6d50f25-9c94-4d5e-9f29-2ab929ebde56",
   "metadata": {},
   "source": [
    "```html\n",
    "<input type=\"tipo\">\n"
   ]
  },
  {
   "cell_type": "markdown",
   "id": "a93992c4-3723-447c-ad83-5b00617e1201",
   "metadata": {},
   "source": [
    "---\n",
    "<h5 style=\"color:#012c5e; font-family: 'Nunito'; font-weight: 400;\">Ejemplo 1</h5>\n"
   ]
  },
  {
   "cell_type": "markdown",
   "id": "7d13786e-cf66-4d0e-90ab-57abb6fef796",
   "metadata": {},
   "source": [
    "```html\n",
    "<input type=\"password\" name=\"password\">\n"
   ]
  },
  {
   "cell_type": "markdown",
   "id": "81bf147f-7748-4c47-8668-28b8c72a8a48",
   "metadata": {},
   "source": [
    "<h3 style=\"color:#013e85; font-family: 'Monserrat'; font-weight: 600;text-align: center;background-color:#fafafa; padding: 10px; border-radius: 8px;\">name</h3>\n"
   ]
  },
  {
   "cell_type": "markdown",
   "id": "c5129bd0-e8d7-4a1c-acbf-c1a093e02dd6",
   "metadata": {},
   "source": [
    "* *Función*:\n",
    "\n",
    "**El atributo name especifica el nombre del campo para identificarlo en la solicitud enviada al servidor.**    "
   ]
  },
  {
   "cell_type": "markdown",
   "id": "21a3c0e2-570a-4cec-9ab5-e88362627e11",
   "metadata": {},
   "source": [
    "```html\n",
    "<input type=\"text\" name=\"nombre\">\n"
   ]
  },
  {
   "cell_type": "markdown",
   "id": "e7081d78-ceaa-4b57-9b3a-7781e97472d6",
   "metadata": {},
   "source": [
    "---\n",
    "<h5 style=\"color:#012c5e; font-family: 'Nunito'; font-weight: 400;\">Ejemplo 1</h5>\n"
   ]
  },
  {
   "cell_type": "markdown",
   "id": "fe33673a-47be-44e3-949b-35c15402f327",
   "metadata": {},
   "source": [
    "```html\n",
    "<input type=\"text\" name=\"username\">\n"
   ]
  },
  {
   "cell_type": "code",
   "execution_count": null,
   "id": "74146609-af5f-4deb-9436-7e8c0605d1fb",
   "metadata": {},
   "outputs": [],
   "source": [
    "```html"
   ]
  },
  {
   "cell_type": "code",
   "execution_count": null,
   "id": "3d5dbe9f-9787-4ec3-b4e5-aa1a9caad84d",
   "metadata": {},
   "outputs": [],
   "source": [
    "```html"
   ]
  },
  {
   "cell_type": "code",
   "execution_count": null,
   "id": "f459a0ac-c10c-4b82-9df9-f19358e060c5",
   "metadata": {},
   "outputs": [],
   "source": [
    "```html"
   ]
  },
  {
   "cell_type": "code",
   "execution_count": null,
   "id": "24b572d1-efdc-40f1-984a-194a8c43c2ee",
   "metadata": {},
   "outputs": [],
   "source": []
  }
 ],
 "metadata": {
  "kernelspec": {
   "display_name": "Python 3 (ipykernel)",
   "language": "python",
   "name": "python3"
  },
  "language_info": {
   "codemirror_mode": {
    "name": "ipython",
    "version": 3
   },
   "file_extension": ".py",
   "mimetype": "text/x-python",
   "name": "python",
   "nbconvert_exporter": "python",
   "pygments_lexer": "ipython3",
   "version": "3.13.2"
  }
 },
 "nbformat": 4,
 "nbformat_minor": 5
}
